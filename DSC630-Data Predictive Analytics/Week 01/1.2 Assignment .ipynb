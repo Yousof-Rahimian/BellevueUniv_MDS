{
 "cells": [
  {
   "cell_type": "code",
   "execution_count": 1,
   "id": "9c0f2d51",
   "metadata": {},
   "outputs": [],
   "source": [
    "#! pip install PyPDF2\n",
    "#! pip install tabula-py"
   ]
  },
  {
   "cell_type": "code",
   "execution_count": 2,
   "id": "15afde3e",
   "metadata": {},
   "outputs": [],
   "source": [
    "#Import general python packages\n",
    "import os\n",
    "import pandas as pd\n",
    "import numpy as np\n",
    "import seaborn as sns\n",
    "import matplotlib.pyplot as plt\n",
    "from statsmodels.formula.api import ols"
   ]
  },
  {
   "cell_type": "code",
   "execution_count": 3,
   "id": "cd156301",
   "metadata": {},
   "outputs": [],
   "source": [
    "import tabula as tb\n",
    "from PyPDF2 import PdfFileReader\n",
    "import pandas as pd\n",
    "import glob\n",
    "import PyPDF2\n",
    "import tabula"
   ]
  },
  {
   "cell_type": "code",
   "execution_count": 4,
   "id": "59198c5a",
   "metadata": {},
   "outputs": [],
   "source": [
    "#file is in the same folder as your program\n",
    "file_path = \"./CF Tax Returns.pdf\""
   ]
  },
  {
   "cell_type": "code",
   "execution_count": 5,
   "id": "ec8cba8d",
   "metadata": {},
   "outputs": [],
   "source": [
    "#pdfFileObj = open('CF Qual Fab (Tax Returns) Updated.pdf', 'rb')\n",
    "#pdfReader = PyPDF2.PdfFileReader(pdfFileObj)"
   ]
  },
  {
   "cell_type": "code",
   "execution_count": 6,
   "id": "393eeb5e",
   "metadata": {
    "scrolled": false
   },
   "outputs": [
    {
     "data": {
      "text/plain": [
       "[                           Unnamed: 0             2019    2019 Adjusted  \\\n",
       " 0                      Gross Revenues    $8,837,236.00    $8,837,236.00   \n",
       " 1        Net gain from sale of assets            $0.00            $0.00   \n",
       " 2                        Other Income            $0.00            $0.00   \n",
       " 3                  Cost of Goods Sold              NaN              NaN   \n",
       " 4         Inventory beginning of year  ($1,192,592.00)  ($1,192,592.00)   \n",
       " 5                           Purchases  ($2,559,702.00)  ($2,559,702.00)   \n",
       " 6                       Cost of Labor  ($1,964,088.00)  ($1,964,088.00)   \n",
       " 7                        Casual Labor            $0.00            $0.00   \n",
       " 8                    Depreciation (A)     ($58,485.00)            $0.00   \n",
       " 9                  Freight & Delivery     ($93,835.00)     ($93,835.00)   \n",
       " 10                            Laundry      ($6,130.00)      ($6,130.00)   \n",
       " 11    Manufacturing Overhead Benefits    ($207,257.00)    ($207,257.00)   \n",
       " 12       Manufacturing Overhead Wages    ($404,639.00)    ($404,639.00)   \n",
       " 13  Manufacturing Payroll Tax Expense    ($262,569.00)    ($262,569.00)   \n",
       " 14                 Outside Processing    ($777,253.00)    ($777,253.00)   \n",
       " 15                               Rent    ($268,259.00)    ($268,259.00)   \n",
       " 16             Shop Equipment Repairs     ($51,162.00)     ($51,162.00)   \n",
       " 17                      Shop Supplies    ($132,764.00)    ($132,764.00)   \n",
       " 18                            Tooling     ($70,887.00)     ($70,887.00)   \n",
       " 19                          Utilities     ($86,262.00)     ($86,262.00)   \n",
       " 20           Inventory at end of year      $937,143.00      $937,143.00   \n",
       " 21                     Total COGS (B)  ($7,198,741.00)  ($7,140,256.00)   \n",
       " 22                       Gross Profit    $1,638,495.00    $1,696,980.00   \n",
       " 23                 Operating Expenses              NaN              NaN   \n",
       " 24       Compensation of officers (C)    ($318,934.00)            $0.00   \n",
       " 25                   Salaries & wages    ($284,416.00)    ($284,416.00)   \n",
       " 26            Repairs and maintenance     ($15,987.00)     ($15,987.00)   \n",
       " 27                       Bad debt (D)            $0.00            $0.00   \n",
       " 28                              Rents     ($64,579.00)     ($64,579.00)   \n",
       " 29                 Taxes and licenses     ($61,876.00)     ($61,876.00)   \n",
       " 30                       Interest (E)     ($66,004.00)            $0.00   \n",
       " 31                        Advertising     ($37,133.00)     ($37,133.00)   \n",
       " 32      Pension, profit-sharing plans      ($3,392.00)            $0.00   \n",
       " 33          Employee Benefit Programs      ($4,572.00)      ($4,572.00)   \n",
       " 34                          Bank Fees     ($22,700.00)     ($22,700.00)   \n",
       " 35                   Computer Expense     ($62,224.00)     ($62,224.00)   \n",
       " 36               Dues & Subscriptions     ($15,298.00)     ($15,298.00)   \n",
       " 37            Employee Reimbursements      ($8,022.00)      ($8,022.00)   \n",
       " 38                      Fire & Safety      ($1,236.00)      ($1,236.00)   \n",
       " 39                          Insurance     ($24,135.00)     ($24,135.00)   \n",
       " 40                              Meals      ($5,646.00)      ($5,646.00)   \n",
       " 41                      Miscellaneous            $0.00            $0.00   \n",
       " 42                     Office expense     ($20,374.00)     ($20,374.00)   \n",
       " 43                  Professional Fees     ($54,726.00)     ($54,726.00)   \n",
       " 44                           Security      ($5,228.00)      ($5,228.00)   \n",
       " 45                          Telephone     ($14,907.00)     ($14,907.00)   \n",
       " 46                             Travel     ($25,269.00)     ($25,269.00)   \n",
       " 47                          Utilities     ($18,277.00)     ($18,277.00)   \n",
       " 48                     Total Expenses  ($1,134,935.00)    ($746,605.00)   \n",
       " 49                 Adjusted Cash Flow      $503,560.00      $950,375.00   \n",
       " 50                COGS/Gross Revenues           81.46%           80.80%   \n",
       " 51                Rent/Gross Revenues            3.77%            3.77%   \n",
       " 52      Total Expenses/Gross Revenues           12.84%            8.45%   \n",
       " 53           Cash Flow/Gross Revenues            5.70%           10.75%   \n",
       " \n",
       "                2020    2020 Adjusted             2021    2021 Adjusted  \n",
       " 0     $5,138,715.00    $5,138,715.00    $7,207,846.00    $7,207,846.00  \n",
       " 1        $21,000.00       $21,000.00            $0.00            $0.00  \n",
       " 2             $0.00            $0.00           $95.00           $95.00  \n",
       " 3               NaN              NaN              NaN              NaN  \n",
       " 4     ($937,143.00)    ($937,143.00)    ($749,602.00)    ($749,602.00)  \n",
       " 5   ($1,249,330.00)  ($1,249,330.00)  ($2,675,603.00)  ($2,675,603.00)  \n",
       " 6   ($1,250,895.00)  ($1,250,895.00)    ($916,444.00)    ($916,444.00)  \n",
       " 7         ($500.00)        ($500.00)            $0.00            $0.00  \n",
       " 8     ($116,174.00)            $0.00     ($54,980.00)            $0.00  \n",
       " 9      ($58,955.00)     ($58,955.00)     ($98,376.00)     ($98,376.00)  \n",
       " 10      ($6,887.00)      ($6,887.00)     ($10,241.00)     ($10,241.00)  \n",
       " 11    ($169,323.00)    ($169,323.00)    ($185,867.00)    ($185,867.00)  \n",
       " 12    ($278,467.00)    ($278,467.00)    ($252,527.00)    ($252,527.00)  \n",
       " 13    ($181,561.00)    ($181,561.00)    ($216,195.00)    ($216,195.00)  \n",
       " 14    ($518,662.00)    ($518,662.00)    ($802,454.00)    ($802,454.00)  \n",
       " 15    ($268,259.00)    ($268,259.00)    ($268,259.00)    ($268,259.00)  \n",
       " 16     ($52,522.00)     ($52,522.00)     ($79,531.00)     ($79,531.00)  \n",
       " 17     ($73,606.00)     ($73,606.00)    ($107,933.00)    ($107,933.00)  \n",
       " 18     ($44,796.00)     ($44,796.00)     ($73,629.00)     ($73,629.00)  \n",
       " 19     ($66,632.00)     ($66,632.00)     ($68,832.00)     ($68,832.00)  \n",
       " 20      $749,602.00      $749,602.00    $1,299,680.00    $1,299,680.00  \n",
       " 21  ($4,524,110.00)  ($4,407,936.00)  ($5,260,793.00)  ($5,954,333.00)  \n",
       " 22      $635,605.00      $751,779.00    $1,947,148.00    $1,253,608.00  \n",
       " 23              NaN              NaN              NaN              NaN  \n",
       " 24    ($220,595.00)            $0.00    ($230,326.00)            $0.00  \n",
       " 25    ($231,237.00)    ($231,237.00)    ($170,444.00)    ($170,444.00)  \n",
       " 26     ($13,197.00)     ($13,197.00)     ($12,288.00)     ($12,288.00)  \n",
       " 27      ($1,200.00)      ($1,200.00)     ($55,237.00)            $0.00  \n",
       " 28     ($74,572.00)     ($74,572.00)    ($113,614.00)    ($113,614.00)  \n",
       " 29     ($43,832.00)     ($43,832.00)     ($73,656.00)     ($73,656.00)  \n",
       " 30     ($57,123.00)            $0.00     ($28,453.00)            $0.00  \n",
       " 31     ($32,899.00)     ($32,899.00)     ($39,211.00)     ($39,211.00)  \n",
       " 32     ($10,143.00)            $0.00      ($3,766.00)            $0.00  \n",
       " 33      ($6,055.00)      ($6,055.00)     ($17,701.00)     ($17,701.00)  \n",
       " 34      ($3,360.00)      ($3,360.00)      ($5,385.00)      ($5,385.00)  \n",
       " 35     ($29,412.00)     ($29,412.00)     ($49,050.00)     ($49,050.00)  \n",
       " 36      ($7,561.00)      ($7,561.00)     ($12,433.00)     ($12,433.00)  \n",
       " 37      ($4,835.00)      ($4,835.00)      ($7,046.00)      ($7,046.00)  \n",
       " 38      ($3,989.00)      ($3,989.00)      ($3,841.00)      ($3,841.00)  \n",
       " 39     ($21,693.00)     ($21,693.00)     ($16,787.00)     ($16,787.00)  \n",
       " 40        ($801.00)        ($801.00)      ($2,619.00)      ($2,619.00)  \n",
       " 41            $0.00            $0.00      ($4,231.00)      ($4,231.00)  \n",
       " 42      ($6,028.00)      ($6,028.00)      ($4,119.00)      ($4,119.00)  \n",
       " 43     ($44,208.00)     ($44,208.00)     ($57,351.00)     ($57,351.00)  \n",
       " 44      ($3,881.00)      ($3,881.00)      ($4,662.00)      ($4,662.00)  \n",
       " 45     ($15,238.00)     ($15,238.00)     ($17,752.00)     ($17,752.00)  \n",
       " 46      ($9,946.00)      ($9,946.00)     ($20,244.00)     ($20,244.00)  \n",
       " 47     ($15,269.00)     ($15,269.00)     ($15,194.00)     ($15,194.00)  \n",
       " 48    ($857,074.00)    ($569,213.00)    ($965,410.00)    ($647,628.00)  \n",
       " 49    ($221,469.00)      $182,566.00      $981,738.00      $605,980.00  \n",
       " 50           88.04%           85.78%           72.99%           82.61%  \n",
       " 51            6.67%            6.67%            5.30%            5.30%  \n",
       " 52           16.68%           11.08%           13.39%            8.99%  \n",
       " 53           -4.31%            3.55%           13.62%            8.41%  ]"
      ]
     },
     "execution_count": 6,
     "metadata": {},
     "output_type": "execute_result"
    }
   ],
   "source": [
    "df = tabula.read_pdf(file_path, pages='all')\n",
    "df"
   ]
  },
  {
   "cell_type": "code",
   "execution_count": 7,
   "id": "e9b03487",
   "metadata": {},
   "outputs": [],
   "source": [
    "#df.column = [' Unnamed', '2019', '2019 Adjusted', '2020', '2020 Adjusted', '2021', '2021 Adjusted']"
   ]
  },
  {
   "cell_type": "code",
   "execution_count": 8,
   "id": "f07d4e8a",
   "metadata": {},
   "outputs": [],
   "source": [
    "import camelot"
   ]
  },
  {
   "cell_type": "code",
   "execution_count": 9,
   "id": "41b704fd",
   "metadata": {},
   "outputs": [
    {
     "ename": "AttributeError",
     "evalue": "module 'camelot' has no attribute 'read_pdf'",
     "output_type": "error",
     "traceback": [
      "\u001b[1;31m---------------------------------------------------------------------------\u001b[0m",
      "\u001b[1;31mAttributeError\u001b[0m                            Traceback (most recent call last)",
      "\u001b[1;32m~\\AppData\\Local\\Temp/ipykernel_3248/4108973505.py\u001b[0m in \u001b[0;36m<module>\u001b[1;34m\u001b[0m\n\u001b[1;32m----> 1\u001b[1;33m \u001b[0mpdf\u001b[0m \u001b[1;33m=\u001b[0m \u001b[0mcamelot\u001b[0m\u001b[1;33m.\u001b[0m\u001b[0mread_pdf\u001b[0m\u001b[1;33m(\u001b[0m\u001b[1;34m'CF Tax Returns.pdf'\u001b[0m\u001b[1;33m)\u001b[0m\u001b[1;33m\u001b[0m\u001b[1;33m\u001b[0m\u001b[0m\n\u001b[0m",
      "\u001b[1;31mAttributeError\u001b[0m: module 'camelot' has no attribute 'read_pdf'"
     ]
    }
   ],
   "source": [
    "pdf = camelot.read_pdf('CF Tax Returns.pdf')"
   ]
  },
  {
   "cell_type": "code",
   "execution_count": null,
   "id": "e823f538",
   "metadata": {},
   "outputs": [],
   "source": []
  },
  {
   "cell_type": "code",
   "execution_count": null,
   "id": "13bc71fd",
   "metadata": {},
   "outputs": [],
   "source": []
  },
  {
   "cell_type": "code",
   "execution_count": null,
   "id": "4e719c87",
   "metadata": {},
   "outputs": [],
   "source": []
  },
  {
   "cell_type": "code",
   "execution_count": null,
   "id": "5a8707cf",
   "metadata": {},
   "outputs": [],
   "source": []
  },
  {
   "cell_type": "code",
   "execution_count": null,
   "id": "0f1ea9c8",
   "metadata": {},
   "outputs": [],
   "source": []
  },
  {
   "cell_type": "code",
   "execution_count": null,
   "id": "cd7185ac",
   "metadata": {},
   "outputs": [],
   "source": [
    "#Identify variables and it's attributes in the dataset\n",
    "df.shape\n",
    "df.info()\n",
    "df.describe()"
   ]
  },
  {
   "cell_type": "code",
   "execution_count": null,
   "id": "a5c76e23",
   "metadata": {},
   "outputs": [],
   "source": []
  },
  {
   "cell_type": "code",
   "execution_count": null,
   "id": "7d1255e5",
   "metadata": {
    "scrolled": false
   },
   "outputs": [],
   "source": [
    "tables = tabula.read_pdf(\"CF Tax Returns.pdf\", pages='all')\n",
    "tabula.convert_into(\"CF Tax Returns.pdf\", \"CF_Tax_Returns_tables.csv\", pages='all')\n",
    "tables"
   ]
  },
  {
   "cell_type": "code",
   "execution_count": null,
   "id": "2c72ec1c",
   "metadata": {},
   "outputs": [],
   "source": [
    "#! pip install camelot"
   ]
  },
  {
   "cell_type": "code",
   "execution_count": null,
   "id": "14564a5e",
   "metadata": {},
   "outputs": [],
   "source": []
  },
  {
   "cell_type": "code",
   "execution_count": null,
   "id": "498ea8eb",
   "metadata": {},
   "outputs": [],
   "source": []
  },
  {
   "cell_type": "code",
   "execution_count": null,
   "id": "3c7bba5e",
   "metadata": {},
   "outputs": [],
   "source": []
  },
  {
   "cell_type": "code",
   "execution_count": null,
   "id": "9166ea32",
   "metadata": {},
   "outputs": [],
   "source": [
    "# insert commas to separate variables and then remove excess strings\n",
    "#tables = tables.replace('\\n \\n',', ').replace('\\n','')"
   ]
  },
  {
   "cell_type": "code",
   "execution_count": null,
   "id": "7d766185",
   "metadata": {},
   "outputs": [],
   "source": []
  },
  {
   "cell_type": "code",
   "execution_count": null,
   "id": "e9006126",
   "metadata": {},
   "outputs": [],
   "source": []
  },
  {
   "cell_type": "code",
   "execution_count": null,
   "id": "a220da4c",
   "metadata": {},
   "outputs": [],
   "source": [
    "from tabula import read_pdf\n",
    "#df = read_pdf('CF Tax Returns.pdf', pages='all')\n",
    "#df"
   ]
  },
  {
   "cell_type": "code",
   "execution_count": null,
   "id": "10c8cfde",
   "metadata": {},
   "outputs": [],
   "source": []
  }
 ],
 "metadata": {
  "kernelspec": {
   "display_name": "Python 3 (ipykernel)",
   "language": "python",
   "name": "python3"
  },
  "language_info": {
   "codemirror_mode": {
    "name": "ipython",
    "version": 3
   },
   "file_extension": ".py",
   "mimetype": "text/x-python",
   "name": "python",
   "nbconvert_exporter": "python",
   "pygments_lexer": "ipython3",
   "version": "3.9.7"
  }
 },
 "nbformat": 4,
 "nbformat_minor": 5
}
