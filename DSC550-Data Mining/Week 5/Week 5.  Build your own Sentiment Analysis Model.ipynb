{
 "cells": [
  {
   "cell_type": "code",
   "execution_count": 1,
   "id": "ad5f43b1",
   "metadata": {},
   "outputs": [],
   "source": [
    "#Import general python packages\n",
    "import os\n",
    "import pandas as pd\n",
    "import numpy as np\n",
    "import seaborn as sns\n",
    "import matplotlib.pyplot as plt"
   ]
  },
  {
   "cell_type": "markdown",
   "id": "b4989712",
   "metadata": {},
   "source": [
    "###  Import the movie review data as a data frame and ensure that the data is loaded properly."
   ]
  },
  {
   "cell_type": "code",
   "execution_count": 2,
   "id": "845d2aba",
   "metadata": {},
   "outputs": [
    {
     "data": {
      "text/html": [
       "<div>\n",
       "<style scoped>\n",
       "    .dataframe tbody tr th:only-of-type {\n",
       "        vertical-align: middle;\n",
       "    }\n",
       "\n",
       "    .dataframe tbody tr th {\n",
       "        vertical-align: top;\n",
       "    }\n",
       "\n",
       "    .dataframe thead th {\n",
       "        text-align: right;\n",
       "    }\n",
       "</style>\n",
       "<table border=\"1\" class=\"dataframe\">\n",
       "  <thead>\n",
       "    <tr style=\"text-align: right;\">\n",
       "      <th></th>\n",
       "      <th>id</th>\n",
       "      <th>sentiment</th>\n",
       "      <th>review</th>\n",
       "    </tr>\n",
       "  </thead>\n",
       "  <tbody>\n",
       "    <tr>\n",
       "      <th>0</th>\n",
       "      <td>5814_8</td>\n",
       "      <td>1</td>\n",
       "      <td>With all this stuff going down at the moment w...</td>\n",
       "    </tr>\n",
       "    <tr>\n",
       "      <th>1</th>\n",
       "      <td>2381_9</td>\n",
       "      <td>1</td>\n",
       "      <td>\\The Classic War of the Worlds\\\" by Timothy Hi...</td>\n",
       "    </tr>\n",
       "    <tr>\n",
       "      <th>2</th>\n",
       "      <td>7759_3</td>\n",
       "      <td>0</td>\n",
       "      <td>The film starts with a manager (Nicholas Bell)...</td>\n",
       "    </tr>\n",
       "    <tr>\n",
       "      <th>3</th>\n",
       "      <td>3630_4</td>\n",
       "      <td>0</td>\n",
       "      <td>It must be assumed that those who praised this...</td>\n",
       "    </tr>\n",
       "    <tr>\n",
       "      <th>4</th>\n",
       "      <td>9495_8</td>\n",
       "      <td>1</td>\n",
       "      <td>Superbly trashy and wondrously unpretentious 8...</td>\n",
       "    </tr>\n",
       "    <tr>\n",
       "      <th>...</th>\n",
       "      <td>...</td>\n",
       "      <td>...</td>\n",
       "      <td>...</td>\n",
       "    </tr>\n",
       "    <tr>\n",
       "      <th>24995</th>\n",
       "      <td>3453_3</td>\n",
       "      <td>0</td>\n",
       "      <td>It seems like more consideration has gone into...</td>\n",
       "    </tr>\n",
       "    <tr>\n",
       "      <th>24996</th>\n",
       "      <td>5064_1</td>\n",
       "      <td>0</td>\n",
       "      <td>I don't believe they made this film. Completel...</td>\n",
       "    </tr>\n",
       "    <tr>\n",
       "      <th>24997</th>\n",
       "      <td>10905_3</td>\n",
       "      <td>0</td>\n",
       "      <td>Guy is a loser. Can't get girls, needs to buil...</td>\n",
       "    </tr>\n",
       "    <tr>\n",
       "      <th>24998</th>\n",
       "      <td>10194_3</td>\n",
       "      <td>0</td>\n",
       "      <td>This 30 minute documentary Buñuel made in the ...</td>\n",
       "    </tr>\n",
       "    <tr>\n",
       "      <th>24999</th>\n",
       "      <td>8478_8</td>\n",
       "      <td>1</td>\n",
       "      <td>I saw this movie as a child and it broke my he...</td>\n",
       "    </tr>\n",
       "  </tbody>\n",
       "</table>\n",
       "<p>25000 rows × 3 columns</p>\n",
       "</div>"
      ],
      "text/plain": [
       "            id  sentiment                                             review\n",
       "0       5814_8          1  With all this stuff going down at the moment w...\n",
       "1       2381_9          1  \\The Classic War of the Worlds\\\" by Timothy Hi...\n",
       "2       7759_3          0  The film starts with a manager (Nicholas Bell)...\n",
       "3       3630_4          0  It must be assumed that those who praised this...\n",
       "4       9495_8          1  Superbly trashy and wondrously unpretentious 8...\n",
       "...        ...        ...                                                ...\n",
       "24995   3453_3          0  It seems like more consideration has gone into...\n",
       "24996   5064_1          0  I don't believe they made this film. Completel...\n",
       "24997  10905_3          0  Guy is a loser. Can't get girls, needs to buil...\n",
       "24998  10194_3          0  This 30 minute documentary Buñuel made in the ...\n",
       "24999   8478_8          1  I saw this movie as a child and it broke my he...\n",
       "\n",
       "[25000 rows x 3 columns]"
      ]
     },
     "execution_count": 2,
     "metadata": {},
     "output_type": "execute_result"
    }
   ],
   "source": [
    "# Read the \"labeledTrainData.tsv\" file \n",
    "df =pd.read_csv('C:\\\\Users\\\\Yousof\\\\Desktop\\\\DSC 550\\\\Week 3\\\\labeledTrainData.tsv', delimiter='\\t')\n",
    "df"
   ]
  },
  {
   "cell_type": "markdown",
   "id": "5a22ecf0",
   "metadata": {},
   "source": [
    "### 2. How many of each positive and negative reviews are there?"
   ]
  },
  {
   "cell_type": "code",
   "execution_count": 3,
   "id": "66336cb2",
   "metadata": {},
   "outputs": [],
   "source": [
    "# Import textblob\n",
    "from textblob import TextBlob\n",
    "# Import the nltk library\n",
    "import nltk"
   ]
  },
  {
   "cell_type": "code",
   "execution_count": 4,
   "id": "ae482c54",
   "metadata": {},
   "outputs": [
    {
     "name": "stdout",
     "output_type": "stream",
     "text": [
      "df size: (25000, 3)\n"
     ]
    },
    {
     "data": {
      "text/html": [
       "<div>\n",
       "<style scoped>\n",
       "    .dataframe tbody tr th:only-of-type {\n",
       "        vertical-align: middle;\n",
       "    }\n",
       "\n",
       "    .dataframe tbody tr th {\n",
       "        vertical-align: top;\n",
       "    }\n",
       "\n",
       "    .dataframe thead th {\n",
       "        text-align: right;\n",
       "    }\n",
       "</style>\n",
       "<table border=\"1\" class=\"dataframe\">\n",
       "  <thead>\n",
       "    <tr style=\"text-align: right;\">\n",
       "      <th></th>\n",
       "      <th>id</th>\n",
       "      <th>review</th>\n",
       "    </tr>\n",
       "    <tr>\n",
       "      <th>sentiment</th>\n",
       "      <th></th>\n",
       "      <th></th>\n",
       "    </tr>\n",
       "  </thead>\n",
       "  <tbody>\n",
       "    <tr>\n",
       "      <th>0</th>\n",
       "      <td>12500</td>\n",
       "      <td>12500</td>\n",
       "    </tr>\n",
       "    <tr>\n",
       "      <th>1</th>\n",
       "      <td>12500</td>\n",
       "      <td>12500</td>\n",
       "    </tr>\n",
       "  </tbody>\n",
       "</table>\n",
       "</div>"
      ],
      "text/plain": [
       "              id  review\n",
       "sentiment               \n",
       "0          12500   12500\n",
       "1          12500   12500"
      ]
     },
     "execution_count": 4,
     "metadata": {},
     "output_type": "execute_result"
    }
   ],
   "source": [
    "# Displaying shape of dataset\n",
    "# Displaying posetive and negetive reviews with sentiment analysis\n",
    "print('df size:' ,df.shape)\n",
    "df.groupby(\"sentiment\").count()"
   ]
  },
  {
   "cell_type": "markdown",
   "id": "5992268b",
   "metadata": {},
   "source": [
    "### 3. Use TextBlob to classify each movie review as positive or negative. Assume that a polarity score greater than or equal to zero is a positive sentiment and less than 0 is a negative sentiment."
   ]
  },
  {
   "cell_type": "code",
   "execution_count": 5,
   "id": "bb4a4b24",
   "metadata": {},
   "outputs": [],
   "source": [
    "from textblob import TextBlob"
   ]
  },
  {
   "cell_type": "code",
   "execution_count": 6,
   "id": "64062f8e",
   "metadata": {},
   "outputs": [],
   "source": [
    "def sentiment_func(review):\n",
    "    try:\n",
    "        return TextBlob(review).sentiment \n",
    "    except:\n",
    "        return None "
   ]
  },
  {
   "cell_type": "code",
   "execution_count": 7,
   "id": "1b6e3f7f",
   "metadata": {},
   "outputs": [],
   "source": [
    "# create 'review_pol_sub' to display apply sentiment_func\n",
    "df['review_pol_sub'] = df['review'].apply(sentiment_func)"
   ]
  },
  {
   "cell_type": "code",
   "execution_count": 8,
   "id": "6911a76c",
   "metadata": {},
   "outputs": [],
   "source": [
    "# Create new column 'review_pol_sub'\n",
    "# Review polarity and subjectivity of each reviews \n",
    "df['polarity'] = df['review_pol_sub'].apply(lambda x: x[0])\n",
    "df['subjectivity'] = df['review_pol_sub'].apply(lambda x: x[1])"
   ]
  },
  {
   "cell_type": "code",
   "execution_count": 9,
   "id": "502f0eed",
   "metadata": {},
   "outputs": [
    {
     "data": {
      "text/html": [
       "<div>\n",
       "<style scoped>\n",
       "    .dataframe tbody tr th:only-of-type {\n",
       "        vertical-align: middle;\n",
       "    }\n",
       "\n",
       "    .dataframe tbody tr th {\n",
       "        vertical-align: top;\n",
       "    }\n",
       "\n",
       "    .dataframe thead th {\n",
       "        text-align: right;\n",
       "    }\n",
       "</style>\n",
       "<table border=\"1\" class=\"dataframe\">\n",
       "  <thead>\n",
       "    <tr style=\"text-align: right;\">\n",
       "      <th></th>\n",
       "      <th>id</th>\n",
       "      <th>sentiment</th>\n",
       "      <th>review</th>\n",
       "      <th>review_pol_sub</th>\n",
       "      <th>polarity</th>\n",
       "      <th>subjectivity</th>\n",
       "    </tr>\n",
       "  </thead>\n",
       "  <tbody>\n",
       "    <tr>\n",
       "      <th>0</th>\n",
       "      <td>5814_8</td>\n",
       "      <td>1</td>\n",
       "      <td>With all this stuff going down at the moment w...</td>\n",
       "      <td>(0.001276742581090417, 0.6067460317460317)</td>\n",
       "      <td>0.001277</td>\n",
       "      <td>0.606746</td>\n",
       "    </tr>\n",
       "    <tr>\n",
       "      <th>1</th>\n",
       "      <td>2381_9</td>\n",
       "      <td>1</td>\n",
       "      <td>\\The Classic War of the Worlds\\\" by Timothy Hi...</td>\n",
       "      <td>(0.2563492063492064, 0.5311111111111111)</td>\n",
       "      <td>0.256349</td>\n",
       "      <td>0.531111</td>\n",
       "    </tr>\n",
       "    <tr>\n",
       "      <th>2</th>\n",
       "      <td>7759_3</td>\n",
       "      <td>0</td>\n",
       "      <td>The film starts with a manager (Nicholas Bell)...</td>\n",
       "      <td>(-0.05394123606889564, 0.5629331306990881)</td>\n",
       "      <td>-0.053941</td>\n",
       "      <td>0.562933</td>\n",
       "    </tr>\n",
       "    <tr>\n",
       "      <th>3</th>\n",
       "      <td>3630_4</td>\n",
       "      <td>0</td>\n",
       "      <td>It must be assumed that those who praised this...</td>\n",
       "      <td>(0.1347530864197531, 0.4929012345679012)</td>\n",
       "      <td>0.134753</td>\n",
       "      <td>0.492901</td>\n",
       "    </tr>\n",
       "    <tr>\n",
       "      <th>4</th>\n",
       "      <td>9495_8</td>\n",
       "      <td>1</td>\n",
       "      <td>Superbly trashy and wondrously unpretentious 8...</td>\n",
       "      <td>(-0.024841720779220786, 0.45981782106782115)</td>\n",
       "      <td>-0.024842</td>\n",
       "      <td>0.459818</td>\n",
       "    </tr>\n",
       "  </tbody>\n",
       "</table>\n",
       "</div>"
      ],
      "text/plain": [
       "       id  sentiment                                             review  \\\n",
       "0  5814_8          1  With all this stuff going down at the moment w...   \n",
       "1  2381_9          1  \\The Classic War of the Worlds\\\" by Timothy Hi...   \n",
       "2  7759_3          0  The film starts with a manager (Nicholas Bell)...   \n",
       "3  3630_4          0  It must be assumed that those who praised this...   \n",
       "4  9495_8          1  Superbly trashy and wondrously unpretentious 8...   \n",
       "\n",
       "                                 review_pol_sub  polarity  subjectivity  \n",
       "0    (0.001276742581090417, 0.6067460317460317)  0.001277      0.606746  \n",
       "1      (0.2563492063492064, 0.5311111111111111)  0.256349      0.531111  \n",
       "2    (-0.05394123606889564, 0.5629331306990881) -0.053941      0.562933  \n",
       "3      (0.1347530864197531, 0.4929012345679012)  0.134753      0.492901  \n",
       "4  (-0.024841720779220786, 0.45981782106782115) -0.024842      0.459818  "
      ]
     },
     "execution_count": 9,
     "metadata": {},
     "output_type": "execute_result"
    }
   ],
   "source": [
    "df.head()"
   ]
  },
  {
   "cell_type": "markdown",
   "id": "2484e6ab",
   "metadata": {},
   "source": [
    "### 4. Check the accuracy of this model. Is this model better than random guessing?"
   ]
  },
  {
   "cell_type": "code",
   "execution_count": 10,
   "id": "82e5a5d7",
   "metadata": {},
   "outputs": [
    {
     "data": {
      "text/html": [
       "<style>#sk-container-id-1 {color: black;background-color: white;}#sk-container-id-1 pre{padding: 0;}#sk-container-id-1 div.sk-toggleable {background-color: white;}#sk-container-id-1 label.sk-toggleable__label {cursor: pointer;display: block;width: 100%;margin-bottom: 0;padding: 0.3em;box-sizing: border-box;text-align: center;}#sk-container-id-1 label.sk-toggleable__label-arrow:before {content: \"▸\";float: left;margin-right: 0.25em;color: #696969;}#sk-container-id-1 label.sk-toggleable__label-arrow:hover:before {color: black;}#sk-container-id-1 div.sk-estimator:hover label.sk-toggleable__label-arrow:before {color: black;}#sk-container-id-1 div.sk-toggleable__content {max-height: 0;max-width: 0;overflow: hidden;text-align: left;background-color: #f0f8ff;}#sk-container-id-1 div.sk-toggleable__content pre {margin: 0.2em;color: black;border-radius: 0.25em;background-color: #f0f8ff;}#sk-container-id-1 input.sk-toggleable__control:checked~div.sk-toggleable__content {max-height: 200px;max-width: 100%;overflow: auto;}#sk-container-id-1 input.sk-toggleable__control:checked~label.sk-toggleable__label-arrow:before {content: \"▾\";}#sk-container-id-1 div.sk-estimator input.sk-toggleable__control:checked~label.sk-toggleable__label {background-color: #d4ebff;}#sk-container-id-1 div.sk-label input.sk-toggleable__control:checked~label.sk-toggleable__label {background-color: #d4ebff;}#sk-container-id-1 input.sk-hidden--visually {border: 0;clip: rect(1px 1px 1px 1px);clip: rect(1px, 1px, 1px, 1px);height: 1px;margin: -1px;overflow: hidden;padding: 0;position: absolute;width: 1px;}#sk-container-id-1 div.sk-estimator {font-family: monospace;background-color: #f0f8ff;border: 1px dotted black;border-radius: 0.25em;box-sizing: border-box;margin-bottom: 0.5em;}#sk-container-id-1 div.sk-estimator:hover {background-color: #d4ebff;}#sk-container-id-1 div.sk-parallel-item::after {content: \"\";width: 100%;border-bottom: 1px solid gray;flex-grow: 1;}#sk-container-id-1 div.sk-label:hover label.sk-toggleable__label {background-color: #d4ebff;}#sk-container-id-1 div.sk-serial::before {content: \"\";position: absolute;border-left: 1px solid gray;box-sizing: border-box;top: 0;bottom: 0;left: 50%;z-index: 0;}#sk-container-id-1 div.sk-serial {display: flex;flex-direction: column;align-items: center;background-color: white;padding-right: 0.2em;padding-left: 0.2em;position: relative;}#sk-container-id-1 div.sk-item {position: relative;z-index: 1;}#sk-container-id-1 div.sk-parallel {display: flex;align-items: stretch;justify-content: center;background-color: white;position: relative;}#sk-container-id-1 div.sk-item::before, #sk-container-id-1 div.sk-parallel-item::before {content: \"\";position: absolute;border-left: 1px solid gray;box-sizing: border-box;top: 0;bottom: 0;left: 50%;z-index: -1;}#sk-container-id-1 div.sk-parallel-item {display: flex;flex-direction: column;z-index: 1;position: relative;background-color: white;}#sk-container-id-1 div.sk-parallel-item:first-child::after {align-self: flex-end;width: 50%;}#sk-container-id-1 div.sk-parallel-item:last-child::after {align-self: flex-start;width: 50%;}#sk-container-id-1 div.sk-parallel-item:only-child::after {width: 0;}#sk-container-id-1 div.sk-dashed-wrapped {border: 1px dashed gray;margin: 0 0.4em 0.5em 0.4em;box-sizing: border-box;padding-bottom: 0.4em;background-color: white;}#sk-container-id-1 div.sk-label label {font-family: monospace;font-weight: bold;display: inline-block;line-height: 1.2em;}#sk-container-id-1 div.sk-label-container {text-align: center;}#sk-container-id-1 div.sk-container {/* jupyter's `normalize.less` sets `[hidden] { display: none; }` but bootstrap.min.css set `[hidden] { display: none !important; }` so we also need the `!important` here to be able to override the default hidden behavior on the sphinx rendered scikit-learn.org. See: https://github.com/scikit-learn/scikit-learn/issues/21755 */display: inline-block !important;position: relative;}#sk-container-id-1 div.sk-text-repr-fallback {display: none;}</style><div id=\"sk-container-id-1\" class=\"sk-top-container\"><div class=\"sk-text-repr-fallback\"><pre>LogisticRegression()</pre><b>In a Jupyter environment, please rerun this cell to show the HTML representation or trust the notebook. <br />On GitHub, the HTML representation is unable to render, please try loading this page with nbviewer.org.</b></div><div class=\"sk-container\" hidden><div class=\"sk-item\"><div class=\"sk-estimator sk-toggleable\"><input class=\"sk-toggleable__control sk-hidden--visually\" id=\"sk-estimator-id-1\" type=\"checkbox\" checked><label for=\"sk-estimator-id-1\" class=\"sk-toggleable__label sk-toggleable__label-arrow\">LogisticRegression</label><div class=\"sk-toggleable__content\"><pre>LogisticRegression()</pre></div></div></div></div></div>"
      ],
      "text/plain": [
       "LogisticRegression()"
      ]
     },
     "execution_count": 10,
     "metadata": {},
     "output_type": "execute_result"
    }
   ],
   "source": [
    "from sklearn.datasets import make_classification\n",
    "from sklearn.model_selection import train_test_split\n",
    "from sklearn.metrics import accuracy_score\n",
    "from sklearn.linear_model import LogisticRegression\n",
    "nb_samples = 1000\n",
    "x, y = make_classification(n_samples=nb_samples, n_features=2, n_informative=2, n_redundant=0, n_clusters_per_class=1)\n",
    "xtrain, xtest, ytrain, ytest = train_test_split(x, y, test_size=0.2, random_state=42)\n",
    "model = LogisticRegression()\n",
    "model.fit(xtrain, ytrain)"
   ]
  },
  {
   "cell_type": "code",
   "execution_count": 11,
   "id": "61bdf018",
   "metadata": {},
   "outputs": [
    {
     "name": "stdout",
     "output_type": "stream",
     "text": [
      "0.92\n"
     ]
    }
   ],
   "source": [
    "print(accuracy_score(ytest, model.predict(xtest)))"
   ]
  },
  {
   "cell_type": "code",
   "execution_count": 12,
   "id": "d76fd8fa",
   "metadata": {},
   "outputs": [],
   "source": [
    " def pos_or_neg(polarity):\n",
    "    if polarity < 0:\n",
    "        return 'negative'\n",
    "    else:\n",
    "        return 'positive'"
   ]
  },
  {
   "cell_type": "code",
   "execution_count": 13,
   "id": "cf916bde",
   "metadata": {},
   "outputs": [],
   "source": [
    "#df['pos_or_neg'] = df['review'].apply(polarity_func)\n",
    "#df.head()"
   ]
  },
  {
   "cell_type": "code",
   "execution_count": 14,
   "id": "a83046db",
   "metadata": {
    "scrolled": true
   },
   "outputs": [],
   "source": [
    "#df.groupby(['sentiment','pos_or_neg'])['polarity'].count()"
   ]
  },
  {
   "cell_type": "code",
   "execution_count": 15,
   "id": "47bc9ce0",
   "metadata": {},
   "outputs": [],
   "source": [
    "#accuracy = ((positive+negative)/(true_positive+true_negative))*100"
   ]
  },
  {
   "cell_type": "code",
   "execution_count": 16,
   "id": "99e1d8f0",
   "metadata": {},
   "outputs": [],
   "source": [
    "#accuracy = ((correct_positive_predictions+correct_negative_predictions)/(true_positive+true_negative))*100"
   ]
  },
  {
   "cell_type": "markdown",
   "id": "7dab0982",
   "metadata": {},
   "source": [
    "Based on the accuricy of model result I think this model is better than random guessing"
   ]
  },
  {
   "cell_type": "code",
   "execution_count": null,
   "id": "83f6f271",
   "metadata": {},
   "outputs": [],
   "source": []
  },
  {
   "cell_type": "markdown",
   "id": "a02c0a62",
   "metadata": {},
   "source": [
    "# Part 2: Prepping Text for a Custom Model"
   ]
  },
  {
   "cell_type": "code",
   "execution_count": 17,
   "id": "671285a0",
   "metadata": {},
   "outputs": [
    {
     "data": {
      "text/plain": [
       "0        with all this stuff going down at the moment w...\n",
       "1        \\the classic war of the worlds\\\" by timothy hi...\n",
       "2        the film starts with a manager (nicholas bell)...\n",
       "3        it must be assumed that those who praised this...\n",
       "4        superbly trashy and wondrously unpretentious 8...\n",
       "                               ...                        \n",
       "24995    it seems like more consideration has gone into...\n",
       "24996    i don't believe they made this film. completel...\n",
       "24997    guy is a loser. can't get girls, needs to buil...\n",
       "24998    this 30 minute documentary buñuel made in the ...\n",
       "24999    i saw this movie as a child and it broke my he...\n",
       "Name: review, Length: 25000, dtype: object"
      ]
     },
     "execution_count": 17,
     "metadata": {},
     "output_type": "execute_result"
    }
   ],
   "source": [
    "# Convert 'review' column to lowercase\n",
    "df['review'].str.lower()"
   ]
  },
  {
   "cell_type": "code",
   "execution_count": 18,
   "id": "f5029646",
   "metadata": {},
   "outputs": [
    {
     "data": {
      "text/plain": [
       "0        with all this stuff going down at the moment w...\n",
       "1        \\the classic war of the worlds\\\" by timothy hi...\n",
       "2        the film starts with a manager (nicholas bell)...\n",
       "3        it must be assumed that those who praised this...\n",
       "4        superbly trashy and wondrously unpretentious 8...\n",
       "                               ...                        \n",
       "24995    it seems like more consideration has gone into...\n",
       "24996    i don't believe they made this film. completel...\n",
       "24997    guy is a loser. can't get girls, needs to buil...\n",
       "24998    this 30 minute documentary buñuel made in the ...\n",
       "24999    i saw this movie as a child and it broke my he...\n",
       "Name: newReview, Length: 25000, dtype: object"
      ]
     },
     "execution_count": 18,
     "metadata": {},
     "output_type": "execute_result"
    }
   ],
   "source": [
    "def lower(string: str):\n",
    "    return string.lower()\n",
    "df[\"newReview\"] = df[\"review\"].apply(lambda d : lower(d))\n",
    "df[\"newReview\"] "
   ]
  },
  {
   "cell_type": "markdown",
   "id": "db8c4c4c",
   "metadata": {},
   "source": [
    "### 2. Remove punctuation and special characters from the text."
   ]
  },
  {
   "cell_type": "code",
   "execution_count": 19,
   "id": "2dd4aefe",
   "metadata": {},
   "outputs": [
    {
     "name": "stderr",
     "output_type": "stream",
     "text": [
      "C:\\Users\\Yousof\\AppData\\Local\\Temp/ipykernel_3444/4218382656.py:2: FutureWarning: The default value of regex will change from True to False in a future version.\n",
      "  df['review'].str.replace('[^\\w\\s]','')\n"
     ]
    },
    {
     "data": {
      "text/plain": [
       "0        With all this stuff going down at the moment w...\n",
       "1        The Classic War of the Worlds by Timothy Hines...\n",
       "2        The film starts with a manager Nicholas Bell g...\n",
       "3        It must be assumed that those who praised this...\n",
       "4        Superbly trashy and wondrously unpretentious 8...\n",
       "                               ...                        \n",
       "24995    It seems like more consideration has gone into...\n",
       "24996    I dont believe they made this film Completely ...\n",
       "24997    Guy is a loser Cant get girls needs to build u...\n",
       "24998    This 30 minute documentary Buñuel made in the ...\n",
       "24999    I saw this movie as a child and it broke my he...\n",
       "Name: review, Length: 25000, dtype: object"
      ]
     },
     "execution_count": 19,
     "metadata": {},
     "output_type": "execute_result"
    }
   ],
   "source": [
    "# Remove punctuation and keep the lower case\n",
    "df['review'].str.replace('[^\\w\\s]','')\n",
    "#df['review'].str.replace('[^\\w\\s]','').str.lower()"
   ]
  },
  {
   "cell_type": "code",
   "execution_count": 20,
   "id": "e805076e",
   "metadata": {},
   "outputs": [
    {
     "name": "stdout",
     "output_type": "stream",
     "text": [
      "[nltk_data] Downloading package stopwords to\n",
      "[nltk_data]     C:\\Users\\Yousof\\AppData\\Roaming\\nltk_data...\n",
      "[nltk_data]   Package stopwords is already up-to-date!\n"
     ]
    },
    {
     "name": "stderr",
     "output_type": "stream",
     "text": [
      "C:\\Users\\Yousof\\AppData\\Local\\Temp/ipykernel_3444/2091263737.py:10: FutureWarning: The default value of regex will change from True to False in a future version.\n",
      "  df[\"review\"].apply(lambda x: ' '.join([word for word in x.split() if word not in (stop_words)]))\\\n"
     ]
    },
    {
     "data": {
      "text/plain": [
       "0        with stuff going moment mj ive started listeni...\n",
       "1        the classic war worlds timothy hines entertain...\n",
       "2        the film starts manager nicholas bell giving w...\n",
       "3        it must assumed praised film the greatest film...\n",
       "4        superbly trashy wondrously unpretentious 80s e...\n",
       "                               ...                        \n",
       "24995    it seems like consideration gone imdb reviews ...\n",
       "24996    i believe made film completely unnecessary the...\n",
       "24997    guy loser cant get girls needs build up picked...\n",
       "24998    this 30 minute documentary buñuel made early 1...\n",
       "24999    i saw movie child broke heart no story unfinis...\n",
       "Name: review, Length: 25000, dtype: object"
      ]
     },
     "execution_count": 20,
     "metadata": {},
     "output_type": "execute_result"
    }
   ],
   "source": [
    "# Remove stop words\n",
    "#Convert 'review' column to lowercase\n",
    "# Remove punctuation and special characters from the 'review' column\n",
    "import nltk.corpus\n",
    "nltk.download('stopwords')\n",
    "from nltk.corpus import stopwords\n",
    "stop_words = stopwords.words('english')\n",
    "df1 = df[\"review\"].apply(lambda x: ' '.join([word for word in x.split() if word not in (stop_words)]))\n",
    "\n",
    "df[\"review\"].apply(lambda x: ' '.join([word for word in x.split() if word not in (stop_words)]))\\\n",
    ".str.replace('[^\\w\\s]','').str.lower()"
   ]
  },
  {
   "cell_type": "markdown",
   "id": "507df272",
   "metadata": {},
   "source": [
    " ### Step 1: Get the stemmed data using the same process you did in Week 3."
   ]
  },
  {
   "cell_type": "code",
   "execution_count": 21,
   "id": "f5c07f4a",
   "metadata": {},
   "outputs": [],
   "source": [
    "import nltk\n",
    "from nltk.stem import PorterStemmer\n",
    "ps = PorterStemmer()"
   ]
  },
  {
   "cell_type": "code",
   "execution_count": 22,
   "id": "8c1d68fa",
   "metadata": {},
   "outputs": [],
   "source": [
    "import string\n",
    "import re\n",
    "pd.set_option('display.max_colwidth', 100)\n",
    "stopwords = nltk.corpus.stopwords.words('english')\n"
   ]
  },
  {
   "cell_type": "code",
   "execution_count": 23,
   "id": "04f85087",
   "metadata": {},
   "outputs": [],
   "source": [
    "def clean_text(text):\n",
    "    text = \"\".join([c for c in text if c not in string.punctuation])\n",
    "    tokens = re.split('\\W+', text)\n",
    "    text = [word for word in tokens if word not in stopwords]\n",
    "    return text"
   ]
  },
  {
   "cell_type": "code",
   "execution_count": 24,
   "id": "73e1f0b7",
   "metadata": {},
   "outputs": [
    {
     "data": {
      "text/html": [
       "<div>\n",
       "<style scoped>\n",
       "    .dataframe tbody tr th:only-of-type {\n",
       "        vertical-align: middle;\n",
       "    }\n",
       "\n",
       "    .dataframe tbody tr th {\n",
       "        vertical-align: top;\n",
       "    }\n",
       "\n",
       "    .dataframe thead th {\n",
       "        text-align: right;\n",
       "    }\n",
       "</style>\n",
       "<table border=\"1\" class=\"dataframe\">\n",
       "  <thead>\n",
       "    <tr style=\"text-align: right;\">\n",
       "      <th></th>\n",
       "      <th>id</th>\n",
       "      <th>sentiment</th>\n",
       "      <th>review</th>\n",
       "      <th>review_pol_sub</th>\n",
       "      <th>polarity</th>\n",
       "      <th>subjectivity</th>\n",
       "      <th>newReview</th>\n",
       "      <th>review_nostop</th>\n",
       "    </tr>\n",
       "  </thead>\n",
       "  <tbody>\n",
       "    <tr>\n",
       "      <th>0</th>\n",
       "      <td>5814_8</td>\n",
       "      <td>1</td>\n",
       "      <td>With all this stuff going down at the moment with MJ i've started listening to his music, watchi...</td>\n",
       "      <td>(0.001276742581090417, 0.6067460317460317)</td>\n",
       "      <td>0.001277</td>\n",
       "      <td>0.606746</td>\n",
       "      <td>with all this stuff going down at the moment with mj i've started listening to his music, watchi...</td>\n",
       "      <td>[With, stuff, going, moment, MJ, ive, started, listening, music, watching, odd, documentary, wat...</td>\n",
       "    </tr>\n",
       "    <tr>\n",
       "      <th>1</th>\n",
       "      <td>2381_9</td>\n",
       "      <td>1</td>\n",
       "      <td>\\The Classic War of the Worlds\\\" by Timothy Hines is a very entertaining film that obviously goe...</td>\n",
       "      <td>(0.2563492063492064, 0.5311111111111111)</td>\n",
       "      <td>0.256349</td>\n",
       "      <td>0.531111</td>\n",
       "      <td>\\the classic war of the worlds\\\" by timothy hines is a very entertaining film that obviously goe...</td>\n",
       "      <td>[The, Classic, War, Worlds, Timothy, Hines, entertaining, film, obviously, goes, great, effort, ...</td>\n",
       "    </tr>\n",
       "    <tr>\n",
       "      <th>2</th>\n",
       "      <td>7759_3</td>\n",
       "      <td>0</td>\n",
       "      <td>The film starts with a manager (Nicholas Bell) giving welcome investors (Robert Carradine) to Pr...</td>\n",
       "      <td>(-0.05394123606889564, 0.5629331306990881)</td>\n",
       "      <td>-0.053941</td>\n",
       "      <td>0.562933</td>\n",
       "      <td>the film starts with a manager (nicholas bell) giving welcome investors (robert carradine) to pr...</td>\n",
       "      <td>[The, film, starts, manager, Nicholas, Bell, giving, welcome, investors, Robert, Carradine, Prim...</td>\n",
       "    </tr>\n",
       "    <tr>\n",
       "      <th>3</th>\n",
       "      <td>3630_4</td>\n",
       "      <td>0</td>\n",
       "      <td>It must be assumed that those who praised this film (\\the greatest filmed opera ever,\\\" didn't I...</td>\n",
       "      <td>(0.1347530864197531, 0.4929012345679012)</td>\n",
       "      <td>0.134753</td>\n",
       "      <td>0.492901</td>\n",
       "      <td>it must be assumed that those who praised this film (\\the greatest filmed opera ever,\\\" didn't i...</td>\n",
       "      <td>[It, must, assumed, praised, film, greatest, filmed, opera, ever, didnt, I, read, somewhere, eit...</td>\n",
       "    </tr>\n",
       "    <tr>\n",
       "      <th>4</th>\n",
       "      <td>9495_8</td>\n",
       "      <td>1</td>\n",
       "      <td>Superbly trashy and wondrously unpretentious 80's exploitation, hooray! The pre-credits opening ...</td>\n",
       "      <td>(-0.024841720779220786, 0.45981782106782115)</td>\n",
       "      <td>-0.024842</td>\n",
       "      <td>0.459818</td>\n",
       "      <td>superbly trashy and wondrously unpretentious 80's exploitation, hooray! the pre-credits opening ...</td>\n",
       "      <td>[Superbly, trashy, wondrously, unpretentious, 80s, exploitation, hooray, The, precredits, openin...</td>\n",
       "    </tr>\n",
       "  </tbody>\n",
       "</table>\n",
       "</div>"
      ],
      "text/plain": [
       "       id  sentiment  \\\n",
       "0  5814_8          1   \n",
       "1  2381_9          1   \n",
       "2  7759_3          0   \n",
       "3  3630_4          0   \n",
       "4  9495_8          1   \n",
       "\n",
       "                                                                                                review  \\\n",
       "0  With all this stuff going down at the moment with MJ i've started listening to his music, watchi...   \n",
       "1  \\The Classic War of the Worlds\\\" by Timothy Hines is a very entertaining film that obviously goe...   \n",
       "2  The film starts with a manager (Nicholas Bell) giving welcome investors (Robert Carradine) to Pr...   \n",
       "3  It must be assumed that those who praised this film (\\the greatest filmed opera ever,\\\" didn't I...   \n",
       "4  Superbly trashy and wondrously unpretentious 80's exploitation, hooray! The pre-credits opening ...   \n",
       "\n",
       "                                 review_pol_sub  polarity  subjectivity  \\\n",
       "0    (0.001276742581090417, 0.6067460317460317)  0.001277      0.606746   \n",
       "1      (0.2563492063492064, 0.5311111111111111)  0.256349      0.531111   \n",
       "2    (-0.05394123606889564, 0.5629331306990881) -0.053941      0.562933   \n",
       "3      (0.1347530864197531, 0.4929012345679012)  0.134753      0.492901   \n",
       "4  (-0.024841720779220786, 0.45981782106782115) -0.024842      0.459818   \n",
       "\n",
       "                                                                                             newReview  \\\n",
       "0  with all this stuff going down at the moment with mj i've started listening to his music, watchi...   \n",
       "1  \\the classic war of the worlds\\\" by timothy hines is a very entertaining film that obviously goe...   \n",
       "2  the film starts with a manager (nicholas bell) giving welcome investors (robert carradine) to pr...   \n",
       "3  it must be assumed that those who praised this film (\\the greatest filmed opera ever,\\\" didn't i...   \n",
       "4  superbly trashy and wondrously unpretentious 80's exploitation, hooray! the pre-credits opening ...   \n",
       "\n",
       "                                                                                         review_nostop  \n",
       "0  [With, stuff, going, moment, MJ, ive, started, listening, music, watching, odd, documentary, wat...  \n",
       "1  [The, Classic, War, Worlds, Timothy, Hines, entertaining, film, obviously, goes, great, effort, ...  \n",
       "2  [The, film, starts, manager, Nicholas, Bell, giving, welcome, investors, Robert, Carradine, Prim...  \n",
       "3  [It, must, assumed, praised, film, greatest, filmed, opera, ever, didnt, I, read, somewhere, eit...  \n",
       "4  [Superbly, trashy, wondrously, unpretentious, 80s, exploitation, hooray, The, precredits, openin...  "
      ]
     },
     "execution_count": 24,
     "metadata": {},
     "output_type": "execute_result"
    }
   ],
   "source": [
    "df['review_nostop'] = df['review'].apply(lambda  x: clean_text(x))\n",
    "df.head()"
   ]
  },
  {
   "cell_type": "code",
   "execution_count": 25,
   "id": "92b85664",
   "metadata": {},
   "outputs": [],
   "source": [
    "from nltk.stem import PorterStemmer\n",
    "ps = PorterStemmer()\n"
   ]
  },
  {
   "cell_type": "code",
   "execution_count": 26,
   "id": "f7391af3",
   "metadata": {},
   "outputs": [],
   "source": [
    "# Stem the text\n",
    "def stemming (tokenized_text):\n",
    "    text = [ps.stem(word) for word in tokenized_text]\n",
    "    return text"
   ]
  },
  {
   "cell_type": "code",
   "execution_count": 27,
   "id": "51c317a7",
   "metadata": {
    "scrolled": true
   },
   "outputs": [
    {
     "data": {
      "text/html": [
       "<div>\n",
       "<style scoped>\n",
       "    .dataframe tbody tr th:only-of-type {\n",
       "        vertical-align: middle;\n",
       "    }\n",
       "\n",
       "    .dataframe tbody tr th {\n",
       "        vertical-align: top;\n",
       "    }\n",
       "\n",
       "    .dataframe thead th {\n",
       "        text-align: right;\n",
       "    }\n",
       "</style>\n",
       "<table border=\"1\" class=\"dataframe\">\n",
       "  <thead>\n",
       "    <tr style=\"text-align: right;\">\n",
       "      <th></th>\n",
       "      <th>id</th>\n",
       "      <th>sentiment</th>\n",
       "      <th>review</th>\n",
       "      <th>review_pol_sub</th>\n",
       "      <th>polarity</th>\n",
       "      <th>subjectivity</th>\n",
       "      <th>newReview</th>\n",
       "      <th>review_nostop</th>\n",
       "      <th>review_stemmed</th>\n",
       "    </tr>\n",
       "  </thead>\n",
       "  <tbody>\n",
       "    <tr>\n",
       "      <th>0</th>\n",
       "      <td>5814_8</td>\n",
       "      <td>1</td>\n",
       "      <td>With all this stuff going down at the moment with MJ i've started listening to his music, watchi...</td>\n",
       "      <td>(0.001276742581090417, 0.6067460317460317)</td>\n",
       "      <td>0.001277</td>\n",
       "      <td>0.606746</td>\n",
       "      <td>with all this stuff going down at the moment with mj i've started listening to his music, watchi...</td>\n",
       "      <td>[With, stuff, going, moment, MJ, ive, started, listening, music, watching, odd, documentary, wat...</td>\n",
       "      <td>[with, stuff, go, moment, MJ, ive, start, listen, music, watch, odd, documentari, watch, the, wi...</td>\n",
       "    </tr>\n",
       "    <tr>\n",
       "      <th>1</th>\n",
       "      <td>2381_9</td>\n",
       "      <td>1</td>\n",
       "      <td>\\The Classic War of the Worlds\\\" by Timothy Hines is a very entertaining film that obviously goe...</td>\n",
       "      <td>(0.2563492063492064, 0.5311111111111111)</td>\n",
       "      <td>0.256349</td>\n",
       "      <td>0.531111</td>\n",
       "      <td>\\the classic war of the worlds\\\" by timothy hines is a very entertaining film that obviously goe...</td>\n",
       "      <td>[The, Classic, War, Worlds, Timothy, Hines, entertaining, film, obviously, goes, great, effort, ...</td>\n",
       "      <td>[the, classic, war, world, timothi, hine, entertain, film, obvious, goe, great, effort, length, ...</td>\n",
       "    </tr>\n",
       "    <tr>\n",
       "      <th>2</th>\n",
       "      <td>7759_3</td>\n",
       "      <td>0</td>\n",
       "      <td>The film starts with a manager (Nicholas Bell) giving welcome investors (Robert Carradine) to Pr...</td>\n",
       "      <td>(-0.05394123606889564, 0.5629331306990881)</td>\n",
       "      <td>-0.053941</td>\n",
       "      <td>0.562933</td>\n",
       "      <td>the film starts with a manager (nicholas bell) giving welcome investors (robert carradine) to pr...</td>\n",
       "      <td>[The, film, starts, manager, Nicholas, Bell, giving, welcome, investors, Robert, Carradine, Prim...</td>\n",
       "      <td>[the, film, start, manag, nichola, bell, give, welcom, investor, robert, carradin, primal, park,...</td>\n",
       "    </tr>\n",
       "    <tr>\n",
       "      <th>3</th>\n",
       "      <td>3630_4</td>\n",
       "      <td>0</td>\n",
       "      <td>It must be assumed that those who praised this film (\\the greatest filmed opera ever,\\\" didn't I...</td>\n",
       "      <td>(0.1347530864197531, 0.4929012345679012)</td>\n",
       "      <td>0.134753</td>\n",
       "      <td>0.492901</td>\n",
       "      <td>it must be assumed that those who praised this film (\\the greatest filmed opera ever,\\\" didn't i...</td>\n",
       "      <td>[It, must, assumed, praised, film, greatest, filmed, opera, ever, didnt, I, read, somewhere, eit...</td>\n",
       "      <td>[It, must, assum, prais, film, greatest, film, opera, ever, didnt, I, read, somewher, either, do...</td>\n",
       "    </tr>\n",
       "    <tr>\n",
       "      <th>4</th>\n",
       "      <td>9495_8</td>\n",
       "      <td>1</td>\n",
       "      <td>Superbly trashy and wondrously unpretentious 80's exploitation, hooray! The pre-credits opening ...</td>\n",
       "      <td>(-0.024841720779220786, 0.45981782106782115)</td>\n",
       "      <td>-0.024842</td>\n",
       "      <td>0.459818</td>\n",
       "      <td>superbly trashy and wondrously unpretentious 80's exploitation, hooray! the pre-credits opening ...</td>\n",
       "      <td>[Superbly, trashy, wondrously, unpretentious, 80s, exploitation, hooray, The, precredits, openin...</td>\n",
       "      <td>[superbl, trashi, wondrous, unpretenti, 80, exploit, hooray, the, precredit, open, sequenc, some...</td>\n",
       "    </tr>\n",
       "  </tbody>\n",
       "</table>\n",
       "</div>"
      ],
      "text/plain": [
       "       id  sentiment  \\\n",
       "0  5814_8          1   \n",
       "1  2381_9          1   \n",
       "2  7759_3          0   \n",
       "3  3630_4          0   \n",
       "4  9495_8          1   \n",
       "\n",
       "                                                                                                review  \\\n",
       "0  With all this stuff going down at the moment with MJ i've started listening to his music, watchi...   \n",
       "1  \\The Classic War of the Worlds\\\" by Timothy Hines is a very entertaining film that obviously goe...   \n",
       "2  The film starts with a manager (Nicholas Bell) giving welcome investors (Robert Carradine) to Pr...   \n",
       "3  It must be assumed that those who praised this film (\\the greatest filmed opera ever,\\\" didn't I...   \n",
       "4  Superbly trashy and wondrously unpretentious 80's exploitation, hooray! The pre-credits opening ...   \n",
       "\n",
       "                                 review_pol_sub  polarity  subjectivity  \\\n",
       "0    (0.001276742581090417, 0.6067460317460317)  0.001277      0.606746   \n",
       "1      (0.2563492063492064, 0.5311111111111111)  0.256349      0.531111   \n",
       "2    (-0.05394123606889564, 0.5629331306990881) -0.053941      0.562933   \n",
       "3      (0.1347530864197531, 0.4929012345679012)  0.134753      0.492901   \n",
       "4  (-0.024841720779220786, 0.45981782106782115) -0.024842      0.459818   \n",
       "\n",
       "                                                                                             newReview  \\\n",
       "0  with all this stuff going down at the moment with mj i've started listening to his music, watchi...   \n",
       "1  \\the classic war of the worlds\\\" by timothy hines is a very entertaining film that obviously goe...   \n",
       "2  the film starts with a manager (nicholas bell) giving welcome investors (robert carradine) to pr...   \n",
       "3  it must be assumed that those who praised this film (\\the greatest filmed opera ever,\\\" didn't i...   \n",
       "4  superbly trashy and wondrously unpretentious 80's exploitation, hooray! the pre-credits opening ...   \n",
       "\n",
       "                                                                                         review_nostop  \\\n",
       "0  [With, stuff, going, moment, MJ, ive, started, listening, music, watching, odd, documentary, wat...   \n",
       "1  [The, Classic, War, Worlds, Timothy, Hines, entertaining, film, obviously, goes, great, effort, ...   \n",
       "2  [The, film, starts, manager, Nicholas, Bell, giving, welcome, investors, Robert, Carradine, Prim...   \n",
       "3  [It, must, assumed, praised, film, greatest, filmed, opera, ever, didnt, I, read, somewhere, eit...   \n",
       "4  [Superbly, trashy, wondrously, unpretentious, 80s, exploitation, hooray, The, precredits, openin...   \n",
       "\n",
       "                                                                                        review_stemmed  \n",
       "0  [with, stuff, go, moment, MJ, ive, start, listen, music, watch, odd, documentari, watch, the, wi...  \n",
       "1  [the, classic, war, world, timothi, hine, entertain, film, obvious, goe, great, effort, length, ...  \n",
       "2  [the, film, start, manag, nichola, bell, give, welcom, investor, robert, carradin, primal, park,...  \n",
       "3  [It, must, assum, prais, film, greatest, film, opera, ever, didnt, I, read, somewher, either, do...  \n",
       "4  [superbl, trashi, wondrous, unpretenti, 80, exploit, hooray, the, precredit, open, sequenc, some...  "
      ]
     },
     "execution_count": 27,
     "metadata": {},
     "output_type": "execute_result"
    }
   ],
   "source": [
    "df['review_stemmed'] = df['review_nostop'].apply(lambda x: stemming(x))\n",
    "df.head()"
   ]
  },
  {
   "cell_type": "markdown",
   "id": "03b21983",
   "metadata": {},
   "source": [
    "# Step 2: Split this into a training and test set."
   ]
  },
  {
   "cell_type": "code",
   "execution_count": 28,
   "id": "0f835c75",
   "metadata": {},
   "outputs": [
    {
     "data": {
      "text/plain": [
       "Index(['id', 'sentiment', 'review', 'review_pol_sub', 'polarity',\n",
       "       'subjectivity', 'newReview', 'review_nostop', 'review_stemmed'],\n",
       "      dtype='object')"
      ]
     },
     "execution_count": 28,
     "metadata": {},
     "output_type": "execute_result"
    }
   ],
   "source": [
    "df.columns"
   ]
  },
  {
   "cell_type": "code",
   "execution_count": 29,
   "id": "ca79198a",
   "metadata": {},
   "outputs": [
    {
     "data": {
      "text/html": [
       "<div>\n",
       "<style scoped>\n",
       "    .dataframe tbody tr th:only-of-type {\n",
       "        vertical-align: middle;\n",
       "    }\n",
       "\n",
       "    .dataframe tbody tr th {\n",
       "        vertical-align: top;\n",
       "    }\n",
       "\n",
       "    .dataframe thead th {\n",
       "        text-align: right;\n",
       "    }\n",
       "</style>\n",
       "<table border=\"1\" class=\"dataframe\">\n",
       "  <thead>\n",
       "    <tr style=\"text-align: right;\">\n",
       "      <th></th>\n",
       "      <th>id</th>\n",
       "      <th>sentiment</th>\n",
       "      <th>review</th>\n",
       "      <th>review_pol_sub</th>\n",
       "      <th>polarity</th>\n",
       "      <th>subjectivity</th>\n",
       "      <th>newReview</th>\n",
       "      <th>review_nostop</th>\n",
       "      <th>review_stemmed</th>\n",
       "    </tr>\n",
       "  </thead>\n",
       "  <tbody>\n",
       "    <tr>\n",
       "      <th>0</th>\n",
       "      <td>5814_8</td>\n",
       "      <td>1</td>\n",
       "      <td>With all this stuff going down at the moment with MJ i've started listening to his music, watchi...</td>\n",
       "      <td>(0.001276742581090417, 0.6067460317460317)</td>\n",
       "      <td>0.001277</td>\n",
       "      <td>0.606746</td>\n",
       "      <td>with all this stuff going down at the moment with mj i've started listening to his music, watchi...</td>\n",
       "      <td>[With, stuff, going, moment, MJ, ive, started, listening, music, watching, odd, documentary, wat...</td>\n",
       "      <td>[with, stuff, go, moment, MJ, ive, start, listen, music, watch, odd, documentari, watch, the, wi...</td>\n",
       "    </tr>\n",
       "    <tr>\n",
       "      <th>1</th>\n",
       "      <td>2381_9</td>\n",
       "      <td>1</td>\n",
       "      <td>\\The Classic War of the Worlds\\\" by Timothy Hines is a very entertaining film that obviously goe...</td>\n",
       "      <td>(0.2563492063492064, 0.5311111111111111)</td>\n",
       "      <td>0.256349</td>\n",
       "      <td>0.531111</td>\n",
       "      <td>\\the classic war of the worlds\\\" by timothy hines is a very entertaining film that obviously goe...</td>\n",
       "      <td>[The, Classic, War, Worlds, Timothy, Hines, entertaining, film, obviously, goes, great, effort, ...</td>\n",
       "      <td>[the, classic, war, world, timothi, hine, entertain, film, obvious, goe, great, effort, length, ...</td>\n",
       "    </tr>\n",
       "    <tr>\n",
       "      <th>2</th>\n",
       "      <td>7759_3</td>\n",
       "      <td>0</td>\n",
       "      <td>The film starts with a manager (Nicholas Bell) giving welcome investors (Robert Carradine) to Pr...</td>\n",
       "      <td>(-0.05394123606889564, 0.5629331306990881)</td>\n",
       "      <td>-0.053941</td>\n",
       "      <td>0.562933</td>\n",
       "      <td>the film starts with a manager (nicholas bell) giving welcome investors (robert carradine) to pr...</td>\n",
       "      <td>[The, film, starts, manager, Nicholas, Bell, giving, welcome, investors, Robert, Carradine, Prim...</td>\n",
       "      <td>[the, film, start, manag, nichola, bell, give, welcom, investor, robert, carradin, primal, park,...</td>\n",
       "    </tr>\n",
       "    <tr>\n",
       "      <th>3</th>\n",
       "      <td>3630_4</td>\n",
       "      <td>0</td>\n",
       "      <td>It must be assumed that those who praised this film (\\the greatest filmed opera ever,\\\" didn't I...</td>\n",
       "      <td>(0.1347530864197531, 0.4929012345679012)</td>\n",
       "      <td>0.134753</td>\n",
       "      <td>0.492901</td>\n",
       "      <td>it must be assumed that those who praised this film (\\the greatest filmed opera ever,\\\" didn't i...</td>\n",
       "      <td>[It, must, assumed, praised, film, greatest, filmed, opera, ever, didnt, I, read, somewhere, eit...</td>\n",
       "      <td>[It, must, assum, prais, film, greatest, film, opera, ever, didnt, I, read, somewher, either, do...</td>\n",
       "    </tr>\n",
       "    <tr>\n",
       "      <th>4</th>\n",
       "      <td>9495_8</td>\n",
       "      <td>1</td>\n",
       "      <td>Superbly trashy and wondrously unpretentious 80's exploitation, hooray! The pre-credits opening ...</td>\n",
       "      <td>(-0.024841720779220786, 0.45981782106782115)</td>\n",
       "      <td>-0.024842</td>\n",
       "      <td>0.459818</td>\n",
       "      <td>superbly trashy and wondrously unpretentious 80's exploitation, hooray! the pre-credits opening ...</td>\n",
       "      <td>[Superbly, trashy, wondrously, unpretentious, 80s, exploitation, hooray, The, precredits, openin...</td>\n",
       "      <td>[superbl, trashi, wondrous, unpretenti, 80, exploit, hooray, the, precredit, open, sequenc, some...</td>\n",
       "    </tr>\n",
       "  </tbody>\n",
       "</table>\n",
       "</div>"
      ],
      "text/plain": [
       "       id  sentiment  \\\n",
       "0  5814_8          1   \n",
       "1  2381_9          1   \n",
       "2  7759_3          0   \n",
       "3  3630_4          0   \n",
       "4  9495_8          1   \n",
       "\n",
       "                                                                                                review  \\\n",
       "0  With all this stuff going down at the moment with MJ i've started listening to his music, watchi...   \n",
       "1  \\The Classic War of the Worlds\\\" by Timothy Hines is a very entertaining film that obviously goe...   \n",
       "2  The film starts with a manager (Nicholas Bell) giving welcome investors (Robert Carradine) to Pr...   \n",
       "3  It must be assumed that those who praised this film (\\the greatest filmed opera ever,\\\" didn't I...   \n",
       "4  Superbly trashy and wondrously unpretentious 80's exploitation, hooray! The pre-credits opening ...   \n",
       "\n",
       "                                 review_pol_sub  polarity  subjectivity  \\\n",
       "0    (0.001276742581090417, 0.6067460317460317)  0.001277      0.606746   \n",
       "1      (0.2563492063492064, 0.5311111111111111)  0.256349      0.531111   \n",
       "2    (-0.05394123606889564, 0.5629331306990881) -0.053941      0.562933   \n",
       "3      (0.1347530864197531, 0.4929012345679012)  0.134753      0.492901   \n",
       "4  (-0.024841720779220786, 0.45981782106782115) -0.024842      0.459818   \n",
       "\n",
       "                                                                                             newReview  \\\n",
       "0  with all this stuff going down at the moment with mj i've started listening to his music, watchi...   \n",
       "1  \\the classic war of the worlds\\\" by timothy hines is a very entertaining film that obviously goe...   \n",
       "2  the film starts with a manager (nicholas bell) giving welcome investors (robert carradine) to pr...   \n",
       "3  it must be assumed that those who praised this film (\\the greatest filmed opera ever,\\\" didn't i...   \n",
       "4  superbly trashy and wondrously unpretentious 80's exploitation, hooray! the pre-credits opening ...   \n",
       "\n",
       "                                                                                         review_nostop  \\\n",
       "0  [With, stuff, going, moment, MJ, ive, started, listening, music, watching, odd, documentary, wat...   \n",
       "1  [The, Classic, War, Worlds, Timothy, Hines, entertaining, film, obviously, goes, great, effort, ...   \n",
       "2  [The, film, starts, manager, Nicholas, Bell, giving, welcome, investors, Robert, Carradine, Prim...   \n",
       "3  [It, must, assumed, praised, film, greatest, filmed, opera, ever, didnt, I, read, somewhere, eit...   \n",
       "4  [Superbly, trashy, wondrously, unpretentious, 80s, exploitation, hooray, The, precredits, openin...   \n",
       "\n",
       "                                                                                        review_stemmed  \n",
       "0  [with, stuff, go, moment, MJ, ive, start, listen, music, watch, odd, documentari, watch, the, wi...  \n",
       "1  [the, classic, war, world, timothi, hine, entertain, film, obvious, goe, great, effort, length, ...  \n",
       "2  [the, film, start, manag, nichola, bell, give, welcom, investor, robert, carradin, primal, park,...  \n",
       "3  [It, must, assum, prais, film, greatest, film, opera, ever, didnt, I, read, somewher, either, do...  \n",
       "4  [superbl, trashi, wondrous, unpretenti, 80, exploit, hooray, the, precredit, open, sequenc, some...  "
      ]
     },
     "execution_count": 29,
     "metadata": {},
     "output_type": "execute_result"
    }
   ],
   "source": [
    "# Get target variable\n",
    "y_train = df['sentiment'] \n",
    "x_train = df.drop([\"sentiment\"], axis=1)\n",
    "                      \n",
    "df.head()"
   ]
  },
  {
   "cell_type": "code",
   "execution_count": 30,
   "id": "ed75359a",
   "metadata": {},
   "outputs": [],
   "source": [
    "# Create our x-array and y-array \n",
    "#x = df[['review_stemmed']] # train set\n",
    "#y = df[['sentiment']]      # test set"
   ]
  },
  {
   "cell_type": "code",
   "execution_count": 31,
   "id": "f4bd8205",
   "metadata": {},
   "outputs": [],
   "source": [
    "# Use trained test method\n",
    "x_train, x_test, y_train, y_test = train_test_split(x,y,test_size = 0.2, random_state=20) "
   ]
  },
  {
   "cell_type": "code",
   "execution_count": 32,
   "id": "43d8a254",
   "metadata": {
    "scrolled": true
   },
   "outputs": [
    {
     "data": {
      "text/plain": [
       "array([0, 0, 0, 0, 1, 0, 0, 0, 0, 0, 1, 1, 0, 1, 1, 1, 1, 1, 0, 0, 1, 0,\n",
       "       1, 0, 1, 0, 0, 0, 1, 1, 0, 1, 0, 1, 1, 0, 1, 1, 0, 1, 1, 1, 1, 0,\n",
       "       0, 0, 0, 1, 1, 1, 1, 0, 0, 1, 1, 1, 0, 1, 1, 1, 0, 0, 0, 1, 0, 0,\n",
       "       1, 1, 0, 0, 1, 0, 1, 0, 1, 0, 0, 1, 0, 0, 1, 0, 1, 0, 1, 0, 0, 0,\n",
       "       1, 0, 0, 0, 1, 1, 1, 1, 1, 1, 1, 0, 1, 0, 1, 0, 0, 1, 1, 0, 1, 1,\n",
       "       1, 0, 0, 1, 0, 0, 1, 0, 0, 0, 1, 1, 0, 1, 1, 1, 1, 1, 1, 1, 1, 0,\n",
       "       0, 1, 1, 1, 1, 1, 0, 1, 1, 0, 0, 0, 0, 1, 0, 1, 0, 1, 1, 1, 1, 0,\n",
       "       0, 0, 1, 0, 0, 0, 1, 1, 1, 1, 1, 0, 0, 0, 0, 1, 0, 1, 0, 1, 0, 1,\n",
       "       1, 0, 0, 1, 1, 0, 0, 0, 0, 1, 1, 0, 1, 1, 1, 0, 1, 0, 0, 1, 0, 0,\n",
       "       1, 0, 0, 1, 1, 1, 1, 0, 1, 0, 0, 0, 0, 1, 1, 1, 0, 1, 0, 0, 0, 0,\n",
       "       1, 1, 1, 0, 1, 0, 0, 1, 1, 1, 1, 0, 1, 1, 0, 0, 1, 1, 0, 1, 1, 1,\n",
       "       1, 0, 0, 1, 0, 0, 0, 1, 1, 1, 1, 0, 0, 1, 0, 1, 1, 0, 0, 0, 1, 0,\n",
       "       0, 1, 0, 0, 0, 1, 1, 0, 1, 0, 1, 1, 0, 0, 1, 1, 1, 1, 1, 1, 1, 0,\n",
       "       1, 0, 0, 0, 1, 1, 0, 1, 0, 1, 1, 1, 0, 1, 0, 1, 1, 1, 0, 1, 1, 1,\n",
       "       1, 0, 0, 0, 0, 1, 1, 0, 0, 0, 0, 0, 0, 1, 0, 1, 0, 1, 1, 1, 1, 0,\n",
       "       0, 1, 0, 0, 0, 1, 0, 0, 0, 0, 1, 1, 1, 0, 1, 1, 1, 0, 1, 1, 0, 1,\n",
       "       1, 0, 0, 0, 0, 1, 0, 1, 0, 1, 1, 1, 0, 0, 0, 0, 1, 0, 0, 0, 0, 0,\n",
       "       1, 0, 1, 1, 1, 1, 0, 0, 0, 1, 0, 0, 0, 0, 1, 0, 0, 1, 1, 0, 0, 0,\n",
       "       0, 1, 1, 1, 1, 0, 0, 1, 0, 1, 0, 0, 0, 0, 1, 1, 1, 1, 1, 1, 0, 1,\n",
       "       0, 1, 0, 0, 0, 0, 1, 1, 1, 0, 1, 0, 0, 1, 0, 0, 1, 0, 0, 0, 1, 1,\n",
       "       1, 0, 0, 0, 0, 1, 1, 0, 0, 0, 0, 1, 1, 0, 0, 0, 0, 0, 0, 0, 0, 1,\n",
       "       1, 0, 1, 0, 0, 0, 0, 1, 1, 0, 0, 0, 1, 0, 1, 0, 1, 1, 0, 1, 0, 0,\n",
       "       1, 1, 0, 1, 0, 0, 1, 0, 1, 1, 1, 0, 0, 0, 1, 1, 1, 0, 1, 0, 1, 1,\n",
       "       0, 0, 0, 0, 1, 0, 1, 0, 0, 0, 1, 0, 1, 1, 0, 0, 1, 1, 1, 0, 1, 0,\n",
       "       1, 0, 0, 1, 1, 1, 1, 1, 0, 1, 0, 0, 0, 1, 1, 1, 0, 1, 1, 0, 0, 1,\n",
       "       0, 1, 1, 1, 1, 1, 1, 0, 1, 1, 0, 1, 1, 0, 1, 1, 0, 0, 1, 0, 1, 0,\n",
       "       0, 1, 1, 0, 0, 1, 1, 0, 0, 1, 1, 0, 0, 0, 0, 0, 1, 1, 1, 1, 1, 1,\n",
       "       1, 1, 1, 0, 1, 0, 0, 1, 1, 0, 0, 1, 0, 1, 0, 1, 0, 1, 0, 0, 0, 0,\n",
       "       0, 0, 0, 1, 1, 0, 0, 1, 0, 1, 0, 0, 0, 0, 1, 1, 1, 0, 0, 1, 0, 1,\n",
       "       1, 1, 0, 1, 1, 1, 1, 0, 1, 1, 1, 1, 0, 0, 0, 0, 0, 1, 1, 1, 1, 0,\n",
       "       0, 0, 0, 1, 0, 0, 1, 0, 0, 1, 0, 1, 1, 0, 0, 1, 0, 0, 1, 0, 0, 0,\n",
       "       0, 0, 0, 0, 1, 0, 1, 1, 1, 0, 0, 0, 0, 1, 1, 1, 1, 0, 1, 0, 1, 1,\n",
       "       1, 0, 1, 1, 0, 0, 1, 0, 0, 1, 1, 0, 0, 0, 1, 1, 1, 0, 1, 0, 1, 0,\n",
       "       1, 1, 1, 1, 0, 0, 0, 0, 1, 1, 1, 1, 1, 1, 0, 0, 1, 1, 1, 0, 1, 1,\n",
       "       1, 0, 0, 0, 1, 1, 0, 1, 1, 1, 1, 0, 1, 1, 0, 0, 1, 0, 0, 0, 0, 1,\n",
       "       1, 1, 0, 1, 1, 1, 0, 0, 1, 1, 1, 1, 0, 0, 0, 1, 0, 1, 1, 1, 0, 1,\n",
       "       1, 1, 1, 1, 1, 1, 1, 1])"
      ]
     },
     "execution_count": 32,
     "metadata": {},
     "output_type": "execute_result"
    }
   ],
   "source": [
    "y_train"
   ]
  },
  {
   "cell_type": "code",
   "execution_count": 33,
   "id": "2e2d2285",
   "metadata": {},
   "outputs": [
    {
     "data": {
      "text/plain": [
       "array([[-1.14977421, -0.6760718 ],\n",
       "       [ 1.80872204, -0.65182135],\n",
       "       [-0.73443538, -0.70078541],\n",
       "       ...,\n",
       "       [ 1.92186213,  0.49082449],\n",
       "       [ 1.3795011 , -1.13484536],\n",
       "       [ 1.6548257 ,  0.9384672 ]])"
      ]
     },
     "execution_count": 33,
     "metadata": {},
     "output_type": "execute_result"
    }
   ],
   "source": [
    "x_train"
   ]
  },
  {
   "cell_type": "code",
   "execution_count": 34,
   "id": "a506376f",
   "metadata": {},
   "outputs": [],
   "source": [
    "# Importing trained test method\n",
    "from sklearn.model_selection import train_test_split"
   ]
  },
  {
   "cell_type": "code",
   "execution_count": 35,
   "id": "b71c0839",
   "metadata": {},
   "outputs": [
    {
     "name": "stdout",
     "output_type": "stream",
     "text": [
      "[[-1.14977421 -0.6760718 ]\n",
      " [ 1.80872204 -0.65182135]\n",
      " [-0.73443538 -0.70078541]\n",
      " ...\n",
      " [ 1.92186213  0.49082449]\n",
      " [ 1.3795011  -1.13484536]\n",
      " [ 1.6548257   0.9384672 ]]\n"
     ]
    }
   ],
   "source": [
    "print(x_train)"
   ]
  },
  {
   "cell_type": "code",
   "execution_count": 36,
   "id": "3b079a38",
   "metadata": {},
   "outputs": [
    {
     "name": "stdout",
     "output_type": "stream",
     "text": [
      "[0 0 0 0 1 0 0 0 0 0 1 1 0 1 1 1 1 1 0 0 1 0 1 0 1 0 0 0 1 1 0 1 0 1 1 0 1\n",
      " 1 0 1 1 1 1 0 0 0 0 1 1 1 1 0 0 1 1 1 0 1 1 1 0 0 0 1 0 0 1 1 0 0 1 0 1 0\n",
      " 1 0 0 1 0 0 1 0 1 0 1 0 0 0 1 0 0 0 1 1 1 1 1 1 1 0 1 0 1 0 0 1 1 0 1 1 1\n",
      " 0 0 1 0 0 1 0 0 0 1 1 0 1 1 1 1 1 1 1 1 0 0 1 1 1 1 1 0 1 1 0 0 0 0 1 0 1\n",
      " 0 1 1 1 1 0 0 0 1 0 0 0 1 1 1 1 1 0 0 0 0 1 0 1 0 1 0 1 1 0 0 1 1 0 0 0 0\n",
      " 1 1 0 1 1 1 0 1 0 0 1 0 0 1 0 0 1 1 1 1 0 1 0 0 0 0 1 1 1 0 1 0 0 0 0 1 1\n",
      " 1 0 1 0 0 1 1 1 1 0 1 1 0 0 1 1 0 1 1 1 1 0 0 1 0 0 0 1 1 1 1 0 0 1 0 1 1\n",
      " 0 0 0 1 0 0 1 0 0 0 1 1 0 1 0 1 1 0 0 1 1 1 1 1 1 1 0 1 0 0 0 1 1 0 1 0 1\n",
      " 1 1 0 1 0 1 1 1 0 1 1 1 1 0 0 0 0 1 1 0 0 0 0 0 0 1 0 1 0 1 1 1 1 0 0 1 0\n",
      " 0 0 1 0 0 0 0 1 1 1 0 1 1 1 0 1 1 0 1 1 0 0 0 0 1 0 1 0 1 1 1 0 0 0 0 1 0\n",
      " 0 0 0 0 1 0 1 1 1 1 0 0 0 1 0 0 0 0 1 0 0 1 1 0 0 0 0 1 1 1 1 0 0 1 0 1 0\n",
      " 0 0 0 1 1 1 1 1 1 0 1 0 1 0 0 0 0 1 1 1 0 1 0 0 1 0 0 1 0 0 0 1 1 1 0 0 0\n",
      " 0 1 1 0 0 0 0 1 1 0 0 0 0 0 0 0 0 1 1 0 1 0 0 0 0 1 1 0 0 0 1 0 1 0 1 1 0\n",
      " 1 0 0 1 1 0 1 0 0 1 0 1 1 1 0 0 0 1 1 1 0 1 0 1 1 0 0 0 0 1 0 1 0 0 0 1 0\n",
      " 1 1 0 0 1 1 1 0 1 0 1 0 0 1 1 1 1 1 0 1 0 0 0 1 1 1 0 1 1 0 0 1 0 1 1 1 1\n",
      " 1 1 0 1 1 0 1 1 0 1 1 0 0 1 0 1 0 0 1 1 0 0 1 1 0 0 1 1 0 0 0 0 0 1 1 1 1\n",
      " 1 1 1 1 1 0 1 0 0 1 1 0 0 1 0 1 0 1 0 1 0 0 0 0 0 0 0 1 1 0 0 1 0 1 0 0 0\n",
      " 0 1 1 1 0 0 1 0 1 1 1 0 1 1 1 1 0 1 1 1 1 0 0 0 0 0 1 1 1 1 0 0 0 0 1 0 0\n",
      " 1 0 0 1 0 1 1 0 0 1 0 0 1 0 0 0 0 0 0 0 1 0 1 1 1 0 0 0 0 1 1 1 1 0 1 0 1\n",
      " 1 1 0 1 1 0 0 1 0 0 1 1 0 0 0 1 1 1 0 1 0 1 0 1 1 1 1 0 0 0 0 1 1 1 1 1 1\n",
      " 0 0 1 1 1 0 1 1 1 0 0 0 1 1 0 1 1 1 1 0 1 1 0 0 1 0 0 0 0 1 1 1 0 1 1 1 0\n",
      " 0 1 1 1 1 0 0 0 1 0 1 1 1 0 1 1 1 1 1 1 1 1 1]\n"
     ]
    }
   ],
   "source": [
    "print(y_train)"
   ]
  },
  {
   "cell_type": "code",
   "execution_count": 37,
   "id": "96dc8905",
   "metadata": {},
   "outputs": [
    {
     "data": {
      "text/plain": [
       "800"
      ]
     },
     "execution_count": 37,
     "metadata": {},
     "output_type": "execute_result"
    }
   ],
   "source": [
    "len(x_train)"
   ]
  },
  {
   "cell_type": "code",
   "execution_count": 38,
   "id": "bbfd3cfd",
   "metadata": {},
   "outputs": [
    {
     "data": {
      "text/plain": [
       "200"
      ]
     },
     "execution_count": 38,
     "metadata": {},
     "output_type": "execute_result"
    }
   ],
   "source": [
    "len(x_test)"
   ]
  },
  {
   "cell_type": "markdown",
   "id": "0b1c0d6d",
   "metadata": {},
   "source": [
    "# Step 3: Fit and apply the tf-idf vectorization to the training set."
   ]
  },
  {
   "cell_type": "code",
   "execution_count": 39,
   "id": "e38d5aee",
   "metadata": {},
   "outputs": [],
   "source": [
    "#! pip install scikit-learn==0.13"
   ]
  },
  {
   "cell_type": "code",
   "execution_count": 40,
   "id": "7a0c30b1",
   "metadata": {},
   "outputs": [],
   "source": [
    "import pandas as pd\n",
    "import numpy as np\n",
    "from sklearn.feature_extraction.text import CountVectorizer\n",
    "#from sklearn.feature_extraction.text import TfidfVectorizer"
   ]
  },
  {
   "cell_type": "code",
   "execution_count": 41,
   "id": "91bf220c",
   "metadata": {},
   "outputs": [],
   "source": [
    "# Create a bag of words feature matrix\n",
    "count = CountVectorizer()\n",
    "bag_of_words = count.fit_transform(df[\"newReview\"])"
   ]
  },
  {
   "cell_type": "code",
   "execution_count": 42,
   "id": "4d54873b",
   "metadata": {},
   "outputs": [
    {
     "data": {
      "text/plain": [
       "array([[0, 0, 0, ..., 0, 0, 0],\n",
       "       [0, 0, 0, ..., 0, 0, 0],\n",
       "       [0, 1, 0, ..., 0, 0, 0],\n",
       "       ...,\n",
       "       [0, 0, 0, ..., 0, 0, 0],\n",
       "       [0, 0, 0, ..., 0, 0, 0],\n",
       "       [0, 0, 0, ..., 0, 0, 0]], dtype=int64)"
      ]
     },
     "execution_count": 42,
     "metadata": {},
     "output_type": "execute_result"
    }
   ],
   "source": [
    "# Use toarray to view a matrix of word count for each observation\n",
    "bag_of_words.toarray()"
   ]
  },
  {
   "cell_type": "code",
   "execution_count": 43,
   "id": "f0378053",
   "metadata": {
    "scrolled": false
   },
   "outputs": [],
   "source": [
    "# Show feature names\n",
    "############count.get_feature_names()"
   ]
  },
  {
   "cell_type": "code",
   "execution_count": 44,
   "id": "d8ef6bab",
   "metadata": {},
   "outputs": [],
   "source": [
    "#vectorizer = TfidfVectorizer()\n",
    "#vectors = vectorizer.fit_transform(df[\"newReview\"])\n",
    "#feature_names = vectorizer.get_feature_names()\n",
    "#dense = vectors.todense()\n",
    "#denselist = dense.tolist()\n",
    "#df = pd.DataFrame(denselist, columns=feature_names)\n",
    "#df"
   ]
  },
  {
   "cell_type": "markdown",
   "id": "5f64618b",
   "metadata": {},
   "source": [
    "# Step 4: Apply but DO NOT FIT the tf-idf vectorization to the test set (Why?)."
   ]
  },
  {
   "cell_type": "code",
   "execution_count": 45,
   "id": "a25f407b",
   "metadata": {},
   "outputs": [],
   "source": [
    "# Import tf-idf encoding from sklearn library\n",
    "from sklearn.feature_extraction.text import TfidfVectorizer"
   ]
  },
  {
   "cell_type": "code",
   "execution_count": 46,
   "id": "c065ce31",
   "metadata": {},
   "outputs": [],
   "source": [
    "# Create the tf-idf feature matrix\n",
    "tfidf = TfidfVectorizer()\n",
    "feature_matrix = tfidf.fit_transform(df[\"newReview\"])"
   ]
  },
  {
   "cell_type": "code",
   "execution_count": 47,
   "id": "0efed904",
   "metadata": {},
   "outputs": [
    {
     "data": {
      "text/plain": [
       "<25000x74849 sparse matrix of type '<class 'numpy.float64'>'\n",
       "\twith 3445861 stored elements in Compressed Sparse Row format>"
      ]
     },
     "execution_count": 47,
     "metadata": {},
     "output_type": "execute_result"
    }
   ],
   "source": [
    "feature_matrix"
   ]
  },
  {
   "cell_type": "code",
   "execution_count": 48,
   "id": "0c5176fa",
   "metadata": {},
   "outputs": [
    {
     "data": {
      "text/plain": [
       "array([[0.        , 0.        , 0.        , ..., 0.        , 0.        ,\n",
       "        0.        ],\n",
       "       [0.        , 0.        , 0.        , ..., 0.        , 0.        ,\n",
       "        0.        ],\n",
       "       [0.        , 0.04823248, 0.        , ..., 0.        , 0.        ,\n",
       "        0.        ],\n",
       "       ...,\n",
       "       [0.        , 0.        , 0.        , ..., 0.        , 0.        ,\n",
       "        0.        ],\n",
       "       [0.        , 0.        , 0.        , ..., 0.        , 0.        ,\n",
       "        0.        ],\n",
       "       [0.        , 0.        , 0.        , ..., 0.        , 0.        ,\n",
       "        0.        ]])"
      ]
     },
     "execution_count": 48,
     "metadata": {},
     "output_type": "execute_result"
    }
   ],
   "source": [
    "# Show tf-idf feature matrix as dense matrix\n",
    "feature_matrix.toarray()"
   ]
  },
  {
   "cell_type": "code",
   "execution_count": 49,
   "id": "9656c3a1",
   "metadata": {},
   "outputs": [
    {
     "data": {
      "text/plain": [
       "{'with': 73342,\n",
       " 'all': 2662,\n",
       " 'this': 66562,\n",
       " 'stuff': 63783,\n",
       " 'going': 27963,\n",
       " 'down': 19854,\n",
       " 'at': 4753,\n",
       " 'the': 66339,\n",
       " 'moment': 43526,\n",
       " 'mj': 43300,\n",
       " 've': 70920,\n",
       " 'started': 62903,\n",
       " 'listening': 38991,\n",
       " 'to': 67125,\n",
       " 'his': 31095,\n",
       " 'music': 44529,\n",
       " 'watching': 72259,\n",
       " 'odd': 46634,\n",
       " 'documentary': 19380,\n",
       " 'here': 30670,\n",
       " 'and': 3258,\n",
       " 'there': 66432,\n",
       " 'watched': 72253,\n",
       " 'wiz': 73394,\n",
       " 'moonwalker': 43761,\n",
       " 'again': 2148,\n",
       " 'maybe': 41519,\n",
       " 'just': 35787,\n",
       " 'want': 72088,\n",
       " 'get': 27304,\n",
       " 'certain': 11378,\n",
       " 'insight': 33819,\n",
       " 'into': 34255,\n",
       " 'guy': 29233,\n",
       " 'who': 72904,\n",
       " 'thought': 66621,\n",
       " 'was': 72196,\n",
       " 'really': 53839,\n",
       " 'cool': 14695,\n",
       " 'in': 33004,\n",
       " 'eighties': 21129,\n",
       " 'make': 40421,\n",
       " 'up': 70331,\n",
       " 'my': 44639,\n",
       " 'mind': 42844,\n",
       " 'whether': 72768,\n",
       " 'he': 30211,\n",
       " 'is': 34585,\n",
       " 'guilty': 29057,\n",
       " 'or': 47142,\n",
       " 'innocent': 33729,\n",
       " 'part': 48525,\n",
       " 'biography': 7404,\n",
       " 'feature': 24077,\n",
       " 'film': 24536,\n",
       " 'which': 72773,\n",
       " 'remember': 54776,\n",
       " 'see': 58585,\n",
       " 'cinema': 12453,\n",
       " 'when': 72753,\n",
       " 'it': 34683,\n",
       " 'originally': 47276,\n",
       " 'released': 54664,\n",
       " 'some': 61617,\n",
       " 'of': 46680,\n",
       " 'has': 29999,\n",
       " 'subtle': 64049,\n",
       " 'messages': 42370,\n",
       " 'about': 1277,\n",
       " 'feeling': 24125,\n",
       " 'towards': 67583,\n",
       " 'press': 51529,\n",
       " 'also': 2821,\n",
       " 'obvious': 46549,\n",
       " 'message': 42369,\n",
       " 'drugs': 20222,\n",
       " 'are': 4124,\n",
       " 'bad': 5502,\n",
       " 'kay': 36188,\n",
       " 'br': 8724,\n",
       " 'visually': 71576,\n",
       " 'impressive': 32949,\n",
       " 'but': 9881,\n",
       " 'course': 15153,\n",
       " 'michael': 42541,\n",
       " 'jackson': 34827,\n",
       " 'so': 61380,\n",
       " 'unless': 69833,\n",
       " 'you': 74324,\n",
       " 'remotely': 54822,\n",
       " 'like': 38755,\n",
       " 'anyway': 3720,\n",
       " 'then': 66390,\n",
       " 'hate': 30052,\n",
       " 'find': 24629,\n",
       " 'boring': 8512,\n",
       " 'may': 41513,\n",
       " 'call': 10204,\n",
       " 'an': 3167,\n",
       " 'egotist': 21089,\n",
       " 'for': 25450,\n",
       " 'consenting': 14281,\n",
       " 'making': 40441,\n",
       " 'movie': 44147,\n",
       " 'most': 43995,\n",
       " 'fans': 23747,\n",
       " 'would': 73714,\n",
       " 'say': 57715,\n",
       " 'that': 66322,\n",
       " 'made': 40170,\n",
       " 'if': 32517,\n",
       " 'true': 68360,\n",
       " 'nice': 45541,\n",
       " 'him': 31002,\n",
       " 'actual': 1664,\n",
       " 'bit': 7485,\n",
       " 'finally': 24616,\n",
       " 'starts': 62913,\n",
       " 'only': 46957,\n",
       " 'on': 46916,\n",
       " '20': 439,\n",
       " 'minutes': 42972,\n",
       " 'excluding': 22962,\n",
       " 'smooth': 61145,\n",
       " 'criminal': 15549,\n",
       " 'sequence': 58907,\n",
       " 'joe': 35415,\n",
       " 'pesci': 49474,\n",
       " 'convincing': 14662,\n",
       " 'as': 4465,\n",
       " 'psychopathic': 52370,\n",
       " 'powerful': 51151,\n",
       " 'drug': 20216,\n",
       " 'lord': 39442,\n",
       " 'why': 72965,\n",
       " 'wants': 72096,\n",
       " 'dead': 16746,\n",
       " 'beyond': 7145,\n",
       " 'me': 41798,\n",
       " 'because': 6459,\n",
       " 'overheard': 47710,\n",
       " 'plans': 50250,\n",
       " 'nah': 44795,\n",
       " 'character': 11615,\n",
       " 'ranted': 53487,\n",
       " 'wanted': 72091,\n",
       " 'people': 49147,\n",
       " 'know': 36915,\n",
       " 'supplying': 64539,\n",
       " 'etc': 22584,\n",
       " 'dunno': 20474,\n",
       " 'hates': 30062,\n",
       " 'lots': 39494,\n",
       " 'things': 66524,\n",
       " 'turning': 68622,\n",
       " 'car': 10589,\n",
       " 'robot': 56126,\n",
       " 'whole': 72911,\n",
       " 'speed': 62125,\n",
       " 'demon': 17459,\n",
       " 'director': 18577,\n",
       " 'must': 44560,\n",
       " 'have': 30118,\n",
       " 'had': 29369,\n",
       " 'patience': 48713,\n",
       " 'saint': 57148,\n",
       " 'came': 10270,\n",
       " 'filming': 24567,\n",
       " 'kiddy': 36517,\n",
       " 'usually': 70536,\n",
       " 'directors': 18580,\n",
       " 'working': 73632,\n",
       " 'one': 46932,\n",
       " 'kid': 36505,\n",
       " 'let': 38466,\n",
       " 'alone': 2779,\n",
       " 'bunch': 9661,\n",
       " 'them': 66376,\n",
       " 'performing': 49247,\n",
       " 'complex': 13788,\n",
       " 'dance': 16419,\n",
       " 'scene': 57873,\n",
       " 'bottom': 8600,\n",
       " 'line': 38871,\n",
       " 'level': 38507,\n",
       " 'another': 3538,\n",
       " 'think': 66526,\n",
       " 'not': 46050,\n",
       " 'stay': 62974,\n",
       " 'away': 5252,\n",
       " 'does': 19421,\n",
       " 'try': 68410,\n",
       " 'give': 27616,\n",
       " 'off': 46684,\n",
       " 'wholesome': 72917,\n",
       " 'ironically': 34512,\n",
       " 'bestest': 7047,\n",
       " 'buddy': 9494,\n",
       " 'girl': 27564,\n",
       " 'truly': 68377,\n",
       " 'talented': 65368,\n",
       " 'ever': 22737,\n",
       " 'grace': 28314,\n",
       " 'planet': 50236,\n",
       " 'well': 72557,\n",
       " 'attention': 4887,\n",
       " 'gave': 26959,\n",
       " 'subject': 63930,\n",
       " 'hmmm': 31182,\n",
       " 'don': 19563,\n",
       " 'can': 10357,\n",
       " 'be': 6334,\n",
       " 'different': 18336,\n",
       " 'behind': 6648,\n",
       " 'closed': 12932,\n",
       " 'doors': 19676,\n",
       " 'fact': 23515,\n",
       " 'either': 21162,\n",
       " 'extremely': 23376,\n",
       " 'stupid': 63831,\n",
       " 'sickest': 60074,\n",
       " 'liars': 38587,\n",
       " 'hope': 31595,\n",
       " 'latter': 37895,\n",
       " 'classic': 12676,\n",
       " 'war': 72098,\n",
       " 'worlds': 73658,\n",
       " 'by': 9962,\n",
       " 'timothy': 66969,\n",
       " 'hines': 31035,\n",
       " 'very': 71159,\n",
       " 'entertaining': 22056,\n",
       " 'obviously': 46550,\n",
       " 'goes': 27945,\n",
       " 'great': 28545,\n",
       " 'effort': 21041,\n",
       " 'lengths': 38355,\n",
       " 'faithfully': 23600,\n",
       " 'recreate': 54138,\n",
       " 'wells': 72572,\n",
       " 'book': 8377,\n",
       " 'mr': 44205,\n",
       " 'succeeds': 64086,\n",
       " 'doing': 19472,\n",
       " 'those': 66615,\n",
       " 'appreciated': 3934,\n",
       " 'standard': 62799,\n",
       " 'predictable': 51334,\n",
       " 'hollywood': 31355,\n",
       " 'fare': 23800,\n",
       " 'comes': 13508,\n",
       " 'out': 47449,\n",
       " 'every': 22760,\n",
       " 'year': 74147,\n",
       " 'spielberg': 62209,\n",
       " 'version': 71137,\n",
       " 'tom': 67237,\n",
       " 'cruise': 15792,\n",
       " 'slightest': 60870,\n",
       " 'resemblance': 55150,\n",
       " 'everyone': 22767,\n",
       " 'looks': 39377,\n",
       " 'envision': 22167,\n",
       " 'themselves': 66387,\n",
       " 'amateur': 2934,\n",
       " 'critics': 15626,\n",
       " 'look': 39364,\n",
       " 'criticize': 15622,\n",
       " 'everything': 22770,\n",
       " 'they': 66474,\n",
       " 'others': 47409,\n",
       " 'rate': 53594,\n",
       " 'more': 43838,\n",
       " 'important': 32903,\n",
       " 'bases': 6128,\n",
       " 'being': 6663,\n",
       " 'entertained': 22051,\n",
       " 'never': 45429,\n",
       " 'agree': 2238,\n",
       " 'we': 72365,\n",
       " 'enjoyed': 21926,\n",
       " 'put': 52709,\n",
       " 'faithful': 23599,\n",
       " 'novel': 46128,\n",
       " 'found': 25715,\n",
       " 'easy': 20793,\n",
       " 'overlook': 47737,\n",
       " 'what': 72703,\n",
       " 'perceive': 49184,\n",
       " 'its': 34721,\n",
       " 'shortcomings': 59815,\n",
       " 'manager': 40597,\n",
       " 'nicholas': 45550,\n",
       " 'bell': 6738,\n",
       " 'giving': 27624,\n",
       " 'welcome': 72544,\n",
       " 'investors': 34389,\n",
       " 'robert': 56106,\n",
       " 'carradine': 10787,\n",
       " 'primal': 51666,\n",
       " 'park': 48456,\n",
       " 'secret': 58522,\n",
       " 'project': 51953,\n",
       " 'mutating': 44586,\n",
       " 'animal': 3408,\n",
       " 'using': 70525,\n",
       " 'fossilized': 25692,\n",
       " 'dna': 19324,\n",
       " 'jurassik': 35770,\n",
       " 'scientists': 58115,\n",
       " 'resurrect': 55357,\n",
       " 'nature': 45034,\n",
       " 'fearsome': 24060,\n",
       " 'predators': 51317,\n",
       " 'sabretooth': 57001,\n",
       " 'tiger': 66870,\n",
       " 'smilodon': 61100,\n",
       " 'scientific': 58112,\n",
       " 'ambition': 2975,\n",
       " 'turns': 68628,\n",
       " 'deadly': 16762,\n",
       " 'however': 31868,\n",
       " 'high': 30902,\n",
       " 'voltage': 71710,\n",
       " 'fence': 24217,\n",
       " 'opened': 47030,\n",
       " 'creature': 15443,\n",
       " 'escape': 22424,\n",
       " 'begins': 6613,\n",
       " 'savagely': 57658,\n",
       " 'stalking': 62763,\n",
       " 'prey': 51623,\n",
       " 'human': 32021,\n",
       " 'visitors': 71557,\n",
       " 'tourists': 67563,\n",
       " 'meanwhile': 41844,\n",
       " 'youngsters': 74347,\n",
       " 'enter': 22039,\n",
       " 'restricted': 55328,\n",
       " 'area': 4125,\n",
       " 'security': 58554,\n",
       " 'center': 11332,\n",
       " 'attacked': 4859,\n",
       " 'pack': 47969,\n",
       " 'large': 37763,\n",
       " 'pre': 51253,\n",
       " 'historical': 31114,\n",
       " 'animals': 3412,\n",
       " 'deadlier': 16757,\n",
       " 'bigger': 7271,\n",
       " 'addition': 1732,\n",
       " 'agent': 2164,\n",
       " 'stacy': 62682,\n",
       " 'haiduk': 29433,\n",
       " 'her': 30646,\n",
       " 'mate': 41342,\n",
       " 'brian': 9027,\n",
       " 'wimmer': 73146,\n",
       " 'fight': 24477,\n",
       " 'hardly': 29848,\n",
       " 'against': 2149,\n",
       " 'carnivorous': 10743,\n",
       " 'smilodons': 61101,\n",
       " 'sabretooths': 57003,\n",
       " 'real': 53809,\n",
       " 'star': 62848,\n",
       " 'stars': 62896,\n",
       " 'astounding': 4710,\n",
       " 'terrifyingly': 66164,\n",
       " 'though': 66619,\n",
       " 'giant': 27406,\n",
       " 'group': 28847,\n",
       " 'run': 56798,\n",
       " 'afoul': 2104,\n",
       " 'furthermore': 26426,\n",
       " 'third': 66545,\n",
       " 'dangerous': 16454,\n",
       " 'slow': 60971,\n",
       " 'stalks': 62765,\n",
       " 'victims': 71263,\n",
       " 'delivers': 17360,\n",
       " 'goods': 28095,\n",
       " 'blood': 7852,\n",
       " 'gore': 28160,\n",
       " 'beheading': 6642,\n",
       " 'hair': 29452,\n",
       " 'raising': 53314,\n",
       " 'chills': 12070,\n",
       " 'full': 26307,\n",
       " 'scares': 57812,\n",
       " 'appear': 3851,\n",
       " 'mediocre': 41936,\n",
       " 'special': 62056,\n",
       " 'effects': 21020,\n",
       " 'story': 63422,\n",
       " 'provides': 52227,\n",
       " 'exciting': 22951,\n",
       " 'stirring': 63284,\n",
       " 'entertainment': 22058,\n",
       " 'results': 55346,\n",
       " 'quite': 53042,\n",
       " 'majority': 40413,\n",
       " 'computer': 13876,\n",
       " 'generator': 27113,\n",
       " 'seem': 58604,\n",
       " 'totally': 67504,\n",
       " 'lousy': 39549,\n",
       " 'middling': 42615,\n",
       " 'performances': 49242,\n",
       " 'players': 50317,\n",
       " 'reacting': 53765,\n",
       " 'appropriately': 3959,\n",
       " 'becoming': 6486,\n",
       " 'food': 25394,\n",
       " 'actors': 1657,\n",
       " 'vigorously': 71357,\n",
       " 'physical': 49786,\n",
       " 'dodging': 19407,\n",
       " 'beasts': 6398,\n",
       " 'running': 56810,\n",
       " 'bound': 8629,\n",
       " 'leaps': 38115,\n",
       " 'dangling': 16460,\n",
       " 'over': 47612,\n",
       " 'walls': 72029,\n",
       " 'packs': 47980,\n",
       " 'ridiculous': 55773,\n",
       " 'final': 24608,\n",
       " 'no': 45805,\n",
       " 'small': 61038,\n",
       " 'kids': 36529,\n",
       " 'realistic': 53821,\n",
       " 'gory': 28194,\n",
       " 'violent': 71467,\n",
       " 'attack': 4858,\n",
       " 'scenes': 57878,\n",
       " 'other': 47407,\n",
       " 'films': 24581,\n",
       " 'following': 25359,\n",
       " '2002': 447,\n",
       " 'james': 34916,\n",
       " 'hickox': 30863,\n",
       " 'vanessa': 70795,\n",
       " 'angel': 3339,\n",
       " 'david': 16666,\n",
       " 'keith': 36283,\n",
       " 'john': 35445,\n",
       " 'rhys': 55679,\n",
       " 'davies': 16672,\n",
       " 'much': 44241,\n",
       " 'better': 7095,\n",
       " '10': 39,\n",
       " '000': 1,\n",
       " 'bc': 6327,\n",
       " '2006': 452,\n",
       " 'roland': 56265,\n",
       " 'emmerich': 21597,\n",
       " 'steven': 63170,\n",
       " 'strait': 63483,\n",
       " 'cliff': 12832,\n",
       " 'curtis': 16079,\n",
       " 'camilla': 10296,\n",
       " 'belle': 6743,\n",
       " 'motion': 44029,\n",
       " 'picture': 49865,\n",
       " 'filled': 24523,\n",
       " 'bloody': 7887,\n",
       " 'moments': 43531,\n",
       " 'badly': 5535,\n",
       " 'directed': 18564,\n",
       " 'george': 27221,\n",
       " 'miller': 42783,\n",
       " 'originality': 47275,\n",
       " 'takes': 65348,\n",
       " 'too': 67324,\n",
       " 'many': 40829,\n",
       " 'elements': 21277,\n",
       " 'from': 26180,\n",
       " 'previous': 51620,\n",
       " 'australian': 5046,\n",
       " 'television': 65937,\n",
       " 'tidal': 66840,\n",
       " 'wave': 72318,\n",
       " 'journey': 35583,\n",
       " 'earth': 20752,\n",
       " 'occasionally': 46563,\n",
       " 'man': 40591,\n",
       " 'snowy': 61357,\n",
       " 'river': 56004,\n",
       " 'zeus': 74618,\n",
       " 'roxanne': 56626,\n",
       " 'robinson': 56121,\n",
       " 'crusoe': 15831,\n",
       " 'rating': 53604,\n",
       " 'below': 6776,\n",
       " 'average': 5175,\n",
       " 'barrel': 6047,\n",
       " 'assumed': 4673,\n",
       " 'praised': 51212,\n",
       " 'greatest': 28547,\n",
       " 'filmed': 24552,\n",
       " 'opera': 47039,\n",
       " 'didn': 18303,\n",
       " 'read': 53777,\n",
       " 'somewhere': 61647,\n",
       " 'care': 10637,\n",
       " 'wagner': 71909,\n",
       " 'anything': 3718,\n",
       " 'except': 22919,\n",
       " 'their': 66367,\n",
       " 'desire': 17830,\n",
       " 'cultured': 15977,\n",
       " 'representation': 55039,\n",
       " 'swan': 64799,\n",
       " 'song': 61679,\n",
       " 'strikes': 63641,\n",
       " 'unmitigated': 69896,\n",
       " 'disaster': 18663,\n",
       " 'leaden': 38080,\n",
       " 'reading': 53787,\n",
       " 'score': 58161,\n",
       " 'matched': 41331,\n",
       " 'tricksy': 68140,\n",
       " 'lugubrious': 39742,\n",
       " 'realisation': 53812,\n",
       " 'text': 66262,\n",
       " 'questionable': 52955,\n",
       " 'ideas': 32447,\n",
       " 'matter': 41424,\n",
       " 'play': 50310,\n",
       " 'especially': 22482,\n",
       " 'shakespeare': 59225,\n",
       " 'should': 59848,\n",
       " 'allowed': 2723,\n",
       " 'anywhere': 3723,\n",
       " 'near': 45135,\n",
       " 'theatre': 66346,\n",
       " 'studio': 63773,\n",
       " 'syberberg': 65016,\n",
       " 'fashionably': 23897,\n",
       " 'without': 73364,\n",
       " 'smallest': 61040,\n",
       " 'justification': 35792,\n",
       " 'decided': 16929,\n",
       " 'parsifal': 48517,\n",
       " 'bisexual': 7465,\n",
       " 'integration': 33980,\n",
       " 'title': 67080,\n",
       " 'stages': 62704,\n",
       " 'transmutes': 67855,\n",
       " 'kind': 36608,\n",
       " 'beatnik': 6415,\n",
       " 'babe': 5381,\n",
       " 'continues': 14518,\n",
       " 'sing': 60368,\n",
       " 'tenor': 66064,\n",
       " 'few': 24364,\n",
       " 'any': 3703,\n",
       " 'singers': 60376,\n",
       " 'double': 19796,\n",
       " 'dose': 19768,\n",
       " 'armin': 4250,\n",
       " 'jordan': 35530,\n",
       " 'conductor': 14041,\n",
       " 'seen': 58613,\n",
       " 'face': 23484,\n",
       " 'heard': 30282,\n",
       " 'voice': 71669,\n",
       " 'amfortas': 3041,\n",
       " 'appears': 3860,\n",
       " 'monstrously': 43668,\n",
       " 'exposure': 23260,\n",
       " 'batonzilla': 6237,\n",
       " 'ate': 4766,\n",
       " 'monsalvat': 43651,\n",
       " 'during': 20531,\n",
       " 'playing': 50328,\n",
       " 'good': 28068,\n",
       " 'friday': 26079,\n",
       " 'way': 72339,\n",
       " 'transcendant': 67775,\n",
       " 'loveliness': 39581,\n",
       " 'represented': 55044,\n",
       " 'scattering': 57853,\n",
       " 'shopworn': 59800,\n",
       " 'flaccid': 24844,\n",
       " 'crocuses': 15664,\n",
       " 'stuck': 63761,\n",
       " 'ill': 32591,\n",
       " 'laid': 37523,\n",
       " 'turf': 68593,\n",
       " 'expedient': 23135,\n",
       " 'baffles': 5553,\n",
       " 'sometimes': 61641,\n",
       " 'piece': 49884,\n",
       " 'such': 64115,\n",
       " 'imperfections': 32829,\n",
       " 'our': 47440,\n",
       " 'thoughts': 66628,\n",
       " 'couldn': 15058,\n",
       " 'splice': 62331,\n",
       " 'gurnemanz': 29188,\n",
       " 'mountain': 44089,\n",
       " 'pasture': 48664,\n",
       " 'lush': 39860,\n",
       " 'provided': 52222,\n",
       " 'julie': 35709,\n",
       " 'andrews': 3296,\n",
       " 'sound': 61831,\n",
       " 'hard': 29821,\n",
       " 'endure': 21820,\n",
       " 'voices': 71674,\n",
       " 'trumpets': 68386,\n",
       " 'particular': 48556,\n",
       " 'possessing': 51002,\n",
       " 'aural': 5016,\n",
       " 'glare': 27677,\n",
       " 'adds': 1744,\n",
       " 'sort': 61785,\n",
       " 'fatigue': 23957,\n",
       " 'impatience': 32809,\n",
       " 'uninspired': 69745,\n",
       " 'conducting': 14040,\n",
       " 'paralytic': 48362,\n",
       " 'unfolding': 69603,\n",
       " 'ritual': 55984,\n",
       " 'someone': 61624,\n",
       " 'review': 55530,\n",
       " 'mentioned': 42224,\n",
       " '1951': 354,\n",
       " 'bayreuth': 6303,\n",
       " 'recording': 54121,\n",
       " 'knappertsbusch': 36848,\n",
       " 'tempi': 65978,\n",
       " 'often': 46741,\n",
       " 'altogether': 2868,\n",
       " 'lacks': 37435,\n",
       " 'sense': 58812,\n",
       " 'pulse': 52507,\n",
       " 'ebb': 20813,\n",
       " 'flow': 25192,\n",
       " 'after': 2121,\n",
       " 'half': 29503,\n",
       " 'century': 11360,\n",
       " 'orchestral': 47179,\n",
       " 'set': 59025,\n",
       " 'modern': 43391,\n",
       " 'pressings': 51536,\n",
       " 'still': 63226,\n",
       " 'superior': 64444,\n",
       " 'superbly': 64402,\n",
       " 'trashy': 67922,\n",
       " 'wondrously': 73507,\n",
       " 'unpretentious': 69986,\n",
       " '80': 904,\n",
       " 'exploitation': 23208,\n",
       " 'hooray': 31575,\n",
       " 'credits': 15462,\n",
       " 'opening': 47033,\n",
       " 'sequences': 58909,\n",
       " 'somewhat': 61646,\n",
       " 'false': 23650,\n",
       " 'impression': 32942,\n",
       " 're': 53749,\n",
       " 'dealing': 16778,\n",
       " 'serious': 58973,\n",
       " 'harrowing': 29964,\n",
       " 'drama': 19970,\n",
       " 'need': 45203,\n",
       " 'fear': 24049,\n",
       " 'barely': 5968,\n",
       " 'ten': 66008,\n",
       " 'later': 37864,\n",
       " 'until': 70237,\n",
       " 'necks': 45182,\n",
       " 'nonsensical': 45929,\n",
       " 'chainsaw': 11454,\n",
       " 'battles': 6259,\n",
       " 'rough': 56547,\n",
       " 'fist': 24778,\n",
       " 'fights': 24485,\n",
       " 'lurid': 39849,\n",
       " 'dialogs': 18203,\n",
       " 'gratuitous': 28491,\n",
       " 'nudity': 46209,\n",
       " 'bo': 8022,\n",
       " 'ingrid': 33624,\n",
       " 'two': 68769,\n",
       " 'orphaned': 47321,\n",
       " 'siblings': 60056,\n",
       " 'unusually': 70272,\n",
       " 'close': 12931,\n",
       " 'even': 22718,\n",
       " 'slightly': 60871,\n",
       " 'perverted': 49463,\n",
       " 'relationship': 54641,\n",
       " 'imagine': 32667,\n",
       " 'playfully': 50320,\n",
       " 'ripping': 55934,\n",
       " 'towel': 67585,\n",
       " 'covers': 15199,\n",
       " 'your': 74349,\n",
       " 'sister': 60469,\n",
       " 'naked': 44835,\n",
       " 'body': 8102,\n",
       " 'stare': 62860,\n",
       " 'unshaven': 70143,\n",
       " 'genitals': 27146,\n",
       " 'several': 59071,\n",
       " 'judging': 35659,\n",
       " 'dubbed': 20280,\n",
       " 'laughter': 37931,\n",
       " 'she': 59426,\n",
       " 'doesn': 19423,\n",
       " 'sick': 60065,\n",
       " 'dude': 20327,\n",
       " 'fled': 24996,\n",
       " 'russia': 56850,\n",
       " 'parents': 48437,\n",
       " 'nasty': 44976,\n",
       " 'soldiers': 61544,\n",
       " 'brutally': 9395,\n",
       " 'slaughtered': 60764,\n",
       " 'mommy': 43537,\n",
       " 'daddy': 16262,\n",
       " 'friendly': 26103,\n",
       " 'smuggler': 61167,\n",
       " 'took': 67327,\n",
       " 'custody': 16112,\n",
       " 'raised': 53310,\n",
       " 'trained': 67714,\n",
       " 'expert': 23171,\n",
       " 'smugglers': 61168,\n",
       " 'plot': 50428,\n",
       " 'lifts': 38716,\n",
       " 'years': 74158,\n",
       " 'facing': 23512,\n",
       " 'ultimate': 68959,\n",
       " 'quest': 52952,\n",
       " 'mythical': 44696,\n",
       " 'incredibly': 33225,\n",
       " 'valuable': 70730,\n",
       " 'white': 72852,\n",
       " 'fire': 24697,\n",
       " 'diamond': 18214,\n",
       " 'coincidentally': 13252,\n",
       " 'mine': 42870,\n",
       " 'life': 38683,\n",
       " 'little': 39044,\n",
       " 'narrative': 44938,\n",
       " 'structure': 63720,\n",
       " 'sure': 64589,\n",
       " 'lot': 39486,\n",
       " 'fun': 26333,\n",
       " 'watch': 72246,\n",
       " 'time': 66925,\n",
       " 'clue': 12995,\n",
       " 'beating': 6408,\n",
       " 'cause': 11141,\n",
       " 'bet': 7064,\n",
       " 'understood': 69402,\n",
       " 'less': 38451,\n",
       " 'whatever': 72709,\n",
       " 'violence': 71466,\n",
       " 'magnificently': 40285,\n",
       " 'grotesque': 28823,\n",
       " 'single': 60381,\n",
       " 'twist': 68751,\n",
       " 'pleasingly': 50375,\n",
       " 'retarded': 55383,\n",
       " 'script': 58311,\n",
       " 'bonkers': 8328,\n",
       " 'repair': 54935,\n",
       " 'suddenly': 64143,\n",
       " 'won': 73491,\n",
       " 'reveal': 55479,\n",
       " 'reason': 53880,\n",
       " 'needs': 45214,\n",
       " 'replacement': 54986,\n",
       " 'fred': 25952,\n",
       " 'williamson': 73110,\n",
       " 'enters': 22049,\n",
       " 'big': 7260,\n",
       " 'cigar': 12417,\n",
       " 'mouth': 44123,\n",
       " 'sleazy': 60801,\n",
       " 'black': 7543,\n",
       " 'fingers': 24656,\n",
       " 'local': 39160,\n",
       " 'prostitutes': 52148,\n",
       " 'principal': 51697,\n",
       " 'opponent': 47080,\n",
       " 'italian': 34686,\n",
       " 'chick': 12006,\n",
       " 'breasts': 8940,\n",
       " 'hideous': 30881,\n",
       " 'accent': 1400,\n",
       " 'preposterous': 51462,\n",
       " 'catchy': 11044,\n",
       " 'theme': 66382,\n",
       " 'plays': 50337,\n",
       " 'least': 38132,\n",
       " 'dozen': 19913,\n",
       " 'times': 66943,\n",
       " 'throughout': 66703,\n",
       " 'obligatory': 46452,\n",
       " 'falling': 23639,\n",
       " 'love': 39562,\n",
       " 'montage': 43670,\n",
       " 'loads': 39124,\n",
       " 'attractions': 4913,\n",
       " 'god': 27895,\n",
       " 'brilliant': 9114,\n",
       " 'experience': 23157,\n",
       " 'original': 47274,\n",
       " 'french': 26017,\n",
       " 'translates': 67835,\n",
       " 'itself': 34722,\n",
       " 'survive': 64683,\n",
       " 'uniquely': 69773,\n",
       " 'appropriate': 3957,\n",
       " 'makes': 40431,\n",
       " 'rest': 55299,\n",
       " 'none': 45903,\n",
       " 'dont': 19625,\n",
       " 'got': 28216,\n",
       " 'pretty': 51594,\n",
       " 'action': 1628,\n",
       " 'change': 11550,\n",
       " 'location': 39175,\n",
       " 'harry': 29968,\n",
       " 'hurt': 32186,\n",
       " 'offensive': 46699,\n",
       " 'eastwood': 20791,\n",
       " 'form': 25586,\n",
       " 'dirty': 18605,\n",
       " 'liked': 38759,\n",
       " 'pat': 48668,\n",
       " 'hingle': 31040,\n",
       " 'town': 67594,\n",
       " 'cop': 14738,\n",
       " 'than': 66299,\n",
       " 'pool': 50800,\n",
       " 'could': 15056,\n",
       " 'been': 6543,\n",
       " 'short': 59806,\n",
       " 'cheesy': 11867,\n",
       " 'acting': 1623,\n",
       " 'looked': 39367,\n",
       " 'past': 48644,\n",
       " 'wasn': 72218,\n",
       " 'background': 5454,\n",
       " 'centers': 11340,\n",
       " 'around': 4297,\n",
       " 'evil': 22793,\n",
       " 'druid': 20225,\n",
       " 'witch': 73324,\n",
       " 'linked': 38907,\n",
       " 'woman': 73473,\n",
       " 'gets': 27312,\n",
       " 'migraines': 42667,\n",
       " 'drags': 19958,\n",
       " 'clearly': 12762,\n",
       " 'explains': 23189,\n",
       " 'keeps': 36260,\n",
       " 'plodding': 50420,\n",
       " 'christopher': 12296,\n",
       " 'walken': 71993,\n",
       " 'completely': 13775,\n",
       " 'senseless': 58815,\n",
       " 'potential': 51075,\n",
       " 'tv': 68685,\n",
       " 'avoid': 5208,\n",
       " 'video': 71281,\n",
       " 'friend': 26097,\n",
       " 'house': 31819,\n",
       " 'glad': 27638,\n",
       " 'did': 18292,\n",
       " 'waste': 72229,\n",
       " 'money': 43572,\n",
       " 'buying': 9932,\n",
       " 'cover': 15193,\n",
       " '1975': 383,\n",
       " 'capricorn': 10550,\n",
       " 'clips': 12889,\n",
       " 'rocket': 56162,\n",
       " 'blow': 7921,\n",
       " 'ups': 70398,\n",
       " 'related': 54636,\n",
       " 'manned': 40757,\n",
       " 'flight': 25053,\n",
       " 'sibrel': 60057,\n",
       " 'smoking': 61133,\n",
       " 'gun': 29119,\n",
       " 'clip': 12881,\n",
       " 'astronauts': 4728,\n",
       " 'preparing': 51457,\n",
       " 'broadcast': 9191,\n",
       " 'edits': 20942,\n",
       " 'own': 47889,\n",
       " 'instead': 33891,\n",
       " 'letting': 38490,\n",
       " 'us': 70492,\n",
       " 'listen': 38986,\n",
       " 'crew': 15517,\n",
       " 'curiously': 16039,\n",
       " 'ends': 21816,\n",
       " 'showing': 59894,\n",
       " 'zapruder': 74512,\n",
       " 'claims': 12606,\n",
       " 'radiation': 53173,\n",
       " 'shielding': 59575,\n",
       " 'photography': 49754,\n",
       " 'lead': 38078,\n",
       " 'believe': 6720,\n",
       " 'ignorant': 32550,\n",
       " 'ax': 5290,\n",
       " 'grind': 28711,\n",
       " 'nasa': 44954,\n",
       " 'american': 3020,\n",
       " 'general': 27092,\n",
       " 'science': 58109,\n",
       " 'bought': 8611,\n",
       " 'grossly': 28816,\n",
       " 'overpriced': 47768,\n",
       " 'despite': 17879,\n",
       " 'featuring': 24083,\n",
       " 'names': 44855,\n",
       " 'adam': 1692,\n",
       " 'sandler': 57370,\n",
       " 'billy': 7356,\n",
       " 'bob': 8053,\n",
       " 'thornton': 66602,\n",
       " 'burt': 9804,\n",
       " 'young': 74334,\n",
       " 'funny': 26385,\n",
       " 'taking': 65352,\n",
       " 'chisel': 12125,\n",
       " 'hammering': 29615,\n",
       " 'straight': 63467,\n",
       " 'through': 66699,\n",
       " 'earhole': 20717,\n",
       " 'uses': 70520,\n",
       " 'tired': 67037,\n",
       " 'comedic': 13491,\n",
       " 'techniques': 65812,\n",
       " 'consistently': 14326,\n",
       " 'breaking': 8924,\n",
       " 'fourth': 25738,\n",
       " 'wall': 72004,\n",
       " 'talks': 65394,\n",
       " 'audience': 4956,\n",
       " 'seemingly': 58609,\n",
       " 'pointless': 50587,\n",
       " 'montages': 43672,\n",
       " 'hot': 31769,\n",
       " 'girls': 27578,\n",
       " 'waiter': 71947,\n",
       " 'ship': 59641,\n",
       " 'successful': 64092,\n",
       " 'comedian': 13488,\n",
       " 'order': 47196,\n",
       " 'become': 6482,\n",
       " 'women': 73487,\n",
       " 'resident': 55193,\n",
       " 'shamelessly': 59277,\n",
       " 'named': 44850,\n",
       " 'dickie': 18265,\n",
       " 'due': 20337,\n",
       " 'unfathomable': 69571,\n",
       " 'success': 64090,\n",
       " 'opposite': 47095,\n",
       " 'gender': 27083,\n",
       " 'presumed': 51557,\n",
       " 'lost': 39483,\n",
       " 'sea': 58405,\n",
       " 'shecker': 59439,\n",
       " 'break': 8911,\n",
       " 'rather': 53602,\n",
       " 'locked': 39184,\n",
       " 'bathroom': 6222,\n",
       " 'presumably': 51554,\n",
       " 'perhaps': 49254,\n",
       " 'vomited': 71733,\n",
       " 'worst': 73700,\n",
       " 'references': 54328,\n",
       " 'mad': 40144,\n",
       " 'max': 41491,\n",
       " 'ii': 32564,\n",
       " 'wild': 73052,\n",
       " 'ladybug': 37469,\n",
       " 'clear': 12750,\n",
       " 'reference': 54326,\n",
       " 'tribute': 68121,\n",
       " 'peter': 49493,\n",
       " 'lorre': 39469,\n",
       " 'masterpiece': 41294,\n",
       " 'll': 39101,\n",
       " 'talk': 65381,\n",
       " 'future': 26452,\n",
       " ...}"
      ]
     },
     "execution_count": 49,
     "metadata": {},
     "output_type": "execute_result"
    }
   ],
   "source": [
    "# Show feature name\n",
    "tfidf.vocabulary_"
   ]
  },
  {
   "cell_type": "markdown",
   "id": "5da236c5",
   "metadata": {},
   "source": [
    "# Step 5: Train a logistic regression using the training data.\n",
    "# Step 9: Create a ROC curve for the test set.\n"
   ]
  },
  {
   "cell_type": "code",
   "execution_count": 50,
   "id": "f9c9c6e1",
   "metadata": {},
   "outputs": [],
   "source": [
    "from sklearn.datasets import make_classification\n",
    "import numpy as np"
   ]
  },
  {
   "cell_type": "code",
   "execution_count": 51,
   "id": "0c7d986f",
   "metadata": {},
   "outputs": [],
   "source": [
    "x_train, x_test, y_train, y_test = train_test_split(x, y, test_size=.2,\n",
    "                                                    random_state=0)"
   ]
  },
  {
   "cell_type": "code",
   "execution_count": 52,
   "id": "88e73f5d",
   "metadata": {},
   "outputs": [],
   "source": [
    "#Add noisy features to make the problem more difficult \n"
   ]
  },
  {
   "cell_type": "code",
   "execution_count": 53,
   "id": "7e81828b",
   "metadata": {},
   "outputs": [],
   "source": [
    "random_state = np.random.RandomState(0)\n",
    "n_samples, n_features = x.shape\n",
    "X = np.c_[x, random_state.randn(n_samples, 200 * n_features)]"
   ]
  },
  {
   "cell_type": "code",
   "execution_count": 54,
   "id": "ef773772",
   "metadata": {},
   "outputs": [],
   "source": [
    "#Data splitting\n",
    "from sklearn.model_selection import train_test_split\n",
    "X_train, X_test, Y_train, Y_test = train_test_split(X, y, test_size=.2,\n",
    "                                                    random_state=0)\n"
   ]
  },
  {
   "cell_type": "code",
   "execution_count": 55,
   "id": "374f3a6d",
   "metadata": {},
   "outputs": [],
   "source": [
    "#Build classification model\n",
    "from sklearn.ensemble import RandomForestClassifier\n",
    "from sklearn.naive_bayes import GaussianNB"
   ]
  },
  {
   "cell_type": "code",
   "execution_count": 56,
   "id": "2796244e",
   "metadata": {},
   "outputs": [
    {
     "data": {
      "text/html": [
       "<style>#sk-container-id-2 {color: black;background-color: white;}#sk-container-id-2 pre{padding: 0;}#sk-container-id-2 div.sk-toggleable {background-color: white;}#sk-container-id-2 label.sk-toggleable__label {cursor: pointer;display: block;width: 100%;margin-bottom: 0;padding: 0.3em;box-sizing: border-box;text-align: center;}#sk-container-id-2 label.sk-toggleable__label-arrow:before {content: \"▸\";float: left;margin-right: 0.25em;color: #696969;}#sk-container-id-2 label.sk-toggleable__label-arrow:hover:before {color: black;}#sk-container-id-2 div.sk-estimator:hover label.sk-toggleable__label-arrow:before {color: black;}#sk-container-id-2 div.sk-toggleable__content {max-height: 0;max-width: 0;overflow: hidden;text-align: left;background-color: #f0f8ff;}#sk-container-id-2 div.sk-toggleable__content pre {margin: 0.2em;color: black;border-radius: 0.25em;background-color: #f0f8ff;}#sk-container-id-2 input.sk-toggleable__control:checked~div.sk-toggleable__content {max-height: 200px;max-width: 100%;overflow: auto;}#sk-container-id-2 input.sk-toggleable__control:checked~label.sk-toggleable__label-arrow:before {content: \"▾\";}#sk-container-id-2 div.sk-estimator input.sk-toggleable__control:checked~label.sk-toggleable__label {background-color: #d4ebff;}#sk-container-id-2 div.sk-label input.sk-toggleable__control:checked~label.sk-toggleable__label {background-color: #d4ebff;}#sk-container-id-2 input.sk-hidden--visually {border: 0;clip: rect(1px 1px 1px 1px);clip: rect(1px, 1px, 1px, 1px);height: 1px;margin: -1px;overflow: hidden;padding: 0;position: absolute;width: 1px;}#sk-container-id-2 div.sk-estimator {font-family: monospace;background-color: #f0f8ff;border: 1px dotted black;border-radius: 0.25em;box-sizing: border-box;margin-bottom: 0.5em;}#sk-container-id-2 div.sk-estimator:hover {background-color: #d4ebff;}#sk-container-id-2 div.sk-parallel-item::after {content: \"\";width: 100%;border-bottom: 1px solid gray;flex-grow: 1;}#sk-container-id-2 div.sk-label:hover label.sk-toggleable__label {background-color: #d4ebff;}#sk-container-id-2 div.sk-serial::before {content: \"\";position: absolute;border-left: 1px solid gray;box-sizing: border-box;top: 0;bottom: 0;left: 50%;z-index: 0;}#sk-container-id-2 div.sk-serial {display: flex;flex-direction: column;align-items: center;background-color: white;padding-right: 0.2em;padding-left: 0.2em;position: relative;}#sk-container-id-2 div.sk-item {position: relative;z-index: 1;}#sk-container-id-2 div.sk-parallel {display: flex;align-items: stretch;justify-content: center;background-color: white;position: relative;}#sk-container-id-2 div.sk-item::before, #sk-container-id-2 div.sk-parallel-item::before {content: \"\";position: absolute;border-left: 1px solid gray;box-sizing: border-box;top: 0;bottom: 0;left: 50%;z-index: -1;}#sk-container-id-2 div.sk-parallel-item {display: flex;flex-direction: column;z-index: 1;position: relative;background-color: white;}#sk-container-id-2 div.sk-parallel-item:first-child::after {align-self: flex-end;width: 50%;}#sk-container-id-2 div.sk-parallel-item:last-child::after {align-self: flex-start;width: 50%;}#sk-container-id-2 div.sk-parallel-item:only-child::after {width: 0;}#sk-container-id-2 div.sk-dashed-wrapped {border: 1px dashed gray;margin: 0 0.4em 0.5em 0.4em;box-sizing: border-box;padding-bottom: 0.4em;background-color: white;}#sk-container-id-2 div.sk-label label {font-family: monospace;font-weight: bold;display: inline-block;line-height: 1.2em;}#sk-container-id-2 div.sk-label-container {text-align: center;}#sk-container-id-2 div.sk-container {/* jupyter's `normalize.less` sets `[hidden] { display: none; }` but bootstrap.min.css set `[hidden] { display: none !important; }` so we also need the `!important` here to be able to override the default hidden behavior on the sphinx rendered scikit-learn.org. See: https://github.com/scikit-learn/scikit-learn/issues/21755 */display: inline-block !important;position: relative;}#sk-container-id-2 div.sk-text-repr-fallback {display: none;}</style><div id=\"sk-container-id-2\" class=\"sk-top-container\"><div class=\"sk-text-repr-fallback\"><pre>RandomForestClassifier(max_features=5, n_estimators=500)</pre><b>In a Jupyter environment, please rerun this cell to show the HTML representation or trust the notebook. <br />On GitHub, the HTML representation is unable to render, please try loading this page with nbviewer.org.</b></div><div class=\"sk-container\" hidden><div class=\"sk-item\"><div class=\"sk-estimator sk-toggleable\"><input class=\"sk-toggleable__control sk-hidden--visually\" id=\"sk-estimator-id-2\" type=\"checkbox\" checked><label for=\"sk-estimator-id-2\" class=\"sk-toggleable__label sk-toggleable__label-arrow\">RandomForestClassifier</label><div class=\"sk-toggleable__content\"><pre>RandomForestClassifier(max_features=5, n_estimators=500)</pre></div></div></div></div></div>"
      ],
      "text/plain": [
       "RandomForestClassifier(max_features=5, n_estimators=500)"
      ]
     },
     "execution_count": 56,
     "metadata": {},
     "output_type": "execute_result"
    }
   ],
   "source": [
    "#Random Forest\n",
    "rf = RandomForestClassifier(max_features=5, n_estimators=500)\n",
    "rf.fit(X_train, Y_train)\n"
   ]
  },
  {
   "cell_type": "code",
   "execution_count": 57,
   "id": "7a9e94d6",
   "metadata": {},
   "outputs": [
    {
     "data": {
      "text/html": [
       "<style>#sk-container-id-3 {color: black;background-color: white;}#sk-container-id-3 pre{padding: 0;}#sk-container-id-3 div.sk-toggleable {background-color: white;}#sk-container-id-3 label.sk-toggleable__label {cursor: pointer;display: block;width: 100%;margin-bottom: 0;padding: 0.3em;box-sizing: border-box;text-align: center;}#sk-container-id-3 label.sk-toggleable__label-arrow:before {content: \"▸\";float: left;margin-right: 0.25em;color: #696969;}#sk-container-id-3 label.sk-toggleable__label-arrow:hover:before {color: black;}#sk-container-id-3 div.sk-estimator:hover label.sk-toggleable__label-arrow:before {color: black;}#sk-container-id-3 div.sk-toggleable__content {max-height: 0;max-width: 0;overflow: hidden;text-align: left;background-color: #f0f8ff;}#sk-container-id-3 div.sk-toggleable__content pre {margin: 0.2em;color: black;border-radius: 0.25em;background-color: #f0f8ff;}#sk-container-id-3 input.sk-toggleable__control:checked~div.sk-toggleable__content {max-height: 200px;max-width: 100%;overflow: auto;}#sk-container-id-3 input.sk-toggleable__control:checked~label.sk-toggleable__label-arrow:before {content: \"▾\";}#sk-container-id-3 div.sk-estimator input.sk-toggleable__control:checked~label.sk-toggleable__label {background-color: #d4ebff;}#sk-container-id-3 div.sk-label input.sk-toggleable__control:checked~label.sk-toggleable__label {background-color: #d4ebff;}#sk-container-id-3 input.sk-hidden--visually {border: 0;clip: rect(1px 1px 1px 1px);clip: rect(1px, 1px, 1px, 1px);height: 1px;margin: -1px;overflow: hidden;padding: 0;position: absolute;width: 1px;}#sk-container-id-3 div.sk-estimator {font-family: monospace;background-color: #f0f8ff;border: 1px dotted black;border-radius: 0.25em;box-sizing: border-box;margin-bottom: 0.5em;}#sk-container-id-3 div.sk-estimator:hover {background-color: #d4ebff;}#sk-container-id-3 div.sk-parallel-item::after {content: \"\";width: 100%;border-bottom: 1px solid gray;flex-grow: 1;}#sk-container-id-3 div.sk-label:hover label.sk-toggleable__label {background-color: #d4ebff;}#sk-container-id-3 div.sk-serial::before {content: \"\";position: absolute;border-left: 1px solid gray;box-sizing: border-box;top: 0;bottom: 0;left: 50%;z-index: 0;}#sk-container-id-3 div.sk-serial {display: flex;flex-direction: column;align-items: center;background-color: white;padding-right: 0.2em;padding-left: 0.2em;position: relative;}#sk-container-id-3 div.sk-item {position: relative;z-index: 1;}#sk-container-id-3 div.sk-parallel {display: flex;align-items: stretch;justify-content: center;background-color: white;position: relative;}#sk-container-id-3 div.sk-item::before, #sk-container-id-3 div.sk-parallel-item::before {content: \"\";position: absolute;border-left: 1px solid gray;box-sizing: border-box;top: 0;bottom: 0;left: 50%;z-index: -1;}#sk-container-id-3 div.sk-parallel-item {display: flex;flex-direction: column;z-index: 1;position: relative;background-color: white;}#sk-container-id-3 div.sk-parallel-item:first-child::after {align-self: flex-end;width: 50%;}#sk-container-id-3 div.sk-parallel-item:last-child::after {align-self: flex-start;width: 50%;}#sk-container-id-3 div.sk-parallel-item:only-child::after {width: 0;}#sk-container-id-3 div.sk-dashed-wrapped {border: 1px dashed gray;margin: 0 0.4em 0.5em 0.4em;box-sizing: border-box;padding-bottom: 0.4em;background-color: white;}#sk-container-id-3 div.sk-label label {font-family: monospace;font-weight: bold;display: inline-block;line-height: 1.2em;}#sk-container-id-3 div.sk-label-container {text-align: center;}#sk-container-id-3 div.sk-container {/* jupyter's `normalize.less` sets `[hidden] { display: none; }` but bootstrap.min.css set `[hidden] { display: none !important; }` so we also need the `!important` here to be able to override the default hidden behavior on the sphinx rendered scikit-learn.org. See: https://github.com/scikit-learn/scikit-learn/issues/21755 */display: inline-block !important;position: relative;}#sk-container-id-3 div.sk-text-repr-fallback {display: none;}</style><div id=\"sk-container-id-3\" class=\"sk-top-container\"><div class=\"sk-text-repr-fallback\"><pre>GaussianNB()</pre><b>In a Jupyter environment, please rerun this cell to show the HTML representation or trust the notebook. <br />On GitHub, the HTML representation is unable to render, please try loading this page with nbviewer.org.</b></div><div class=\"sk-container\" hidden><div class=\"sk-item\"><div class=\"sk-estimator sk-toggleable\"><input class=\"sk-toggleable__control sk-hidden--visually\" id=\"sk-estimator-id-3\" type=\"checkbox\" checked><label for=\"sk-estimator-id-3\" class=\"sk-toggleable__label sk-toggleable__label-arrow\">GaussianNB</label><div class=\"sk-toggleable__content\"><pre>GaussianNB()</pre></div></div></div></div></div>"
      ],
      "text/plain": [
       "GaussianNB()"
      ]
     },
     "execution_count": 57,
     "metadata": {},
     "output_type": "execute_result"
    }
   ],
   "source": [
    "#Naive Bayes\n",
    "nb = GaussianNB()\n",
    "nb.fit(X_train, Y_train)"
   ]
  },
  {
   "cell_type": "code",
   "execution_count": 58,
   "id": "1da1f47f",
   "metadata": {},
   "outputs": [],
   "source": [
    "#Prediction probabilities \n",
    "r_probs = [0 for _ in range(len(Y_test))]\n",
    "rf_probs = rf.predict_proba(X_test)\n",
    "nb_probs = nb.predict_proba(X_test)"
   ]
  },
  {
   "cell_type": "code",
   "execution_count": 59,
   "id": "e6031b9d",
   "metadata": {},
   "outputs": [],
   "source": [
    "rf_probs = rf_probs[:, 1]\n",
    "nb_probs = nb_probs[:, 1]"
   ]
  },
  {
   "cell_type": "code",
   "execution_count": 60,
   "id": "670e9314",
   "metadata": {},
   "outputs": [],
   "source": [
    "from sklearn.metrics import roc_curve, roc_auc_score"
   ]
  },
  {
   "cell_type": "code",
   "execution_count": 61,
   "id": "ffa8252d",
   "metadata": {},
   "outputs": [],
   "source": [
    "#Calculate AUROC\n",
    "r_auc = roc_auc_score(Y_test, r_probs)\n",
    "rf_auc = roc_auc_score(Y_test, rf_probs)\n",
    "nb_auc = roc_auc_score(Y_test, nb_probs)"
   ]
  },
  {
   "cell_type": "code",
   "execution_count": 62,
   "id": "a1743675",
   "metadata": {},
   "outputs": [
    {
     "name": "stdout",
     "output_type": "stream",
     "text": [
      "Random (chance) Prediction: AUROC = 0.500\n",
      "Random Forest: AUROC = 0.864\n",
      "Naive Bayes: AUROC = 0.915\n"
     ]
    }
   ],
   "source": [
    "#Print AUROC scores\n",
    "print('Random (chance) Prediction: AUROC = %.3f' % (r_auc))\n",
    "print('Random Forest: AUROC = %.3f' % (rf_auc))\n",
    "print('Naive Bayes: AUROC = %.3f' % (nb_auc))"
   ]
  },
  {
   "cell_type": "code",
   "execution_count": 63,
   "id": "b67aca1a",
   "metadata": {},
   "outputs": [],
   "source": [
    "#Calculate ROC curve\n",
    "r_fpr, r_tpr, _ = roc_curve(Y_test, r_probs)\n",
    "rf_fpr, rf_tpr, _ = roc_curve(Y_test, rf_probs)\n",
    "nb_fpr, nb_tpr, _ = roc_curve(Y_test, nb_probs)"
   ]
  },
  {
   "cell_type": "code",
   "execution_count": 64,
   "id": "69776a5d",
   "metadata": {},
   "outputs": [],
   "source": [
    "#Plot the ROC curve\n",
    "import matplotlib.pyplot as plt"
   ]
  },
  {
   "cell_type": "code",
   "execution_count": 65,
   "id": "f3b3bf37",
   "metadata": {},
   "outputs": [
    {
     "data": {
      "image/png": "[encoded data removed]",
      "text/plain": [
       "<Figure size 432x288 with 1 Axes>"
      ]
     },
     "metadata": {
      "needs_background": "light"
     },
     "output_type": "display_data"
    }
   ],
   "source": [
    "plt.plot(r_fpr, r_tpr, linestyle='--', label='Random prediction (AUROC = %0.3f)' % r_auc)\n",
    "plt.plot(rf_fpr, rf_tpr, marker='.', label='Random Forest (AUROC = %0.3f)' % rf_auc)\n",
    "plt.plot(nb_fpr, nb_tpr, marker='.', label='Naive Bayes (AUROC = %0.3f)' % nb_auc)\n",
    "\n",
    "# Title\n",
    "plt.title('ROC Plot')\n",
    "# Axis labels\n",
    "plt.xlabel('False Positive Rate')\n",
    "plt.ylabel('True Positive Rate')\n",
    "# Show legend\n",
    "plt.legend() # \n",
    "# Show plot\n",
    "plt.show()"
   ]
  },
  {
   "cell_type": "code",
   "execution_count": 66,
   "id": "3014950f",
   "metadata": {},
   "outputs": [],
   "source": [
    "# Import the logistic regression model from sklearn \n",
    "from sklearn.linear_model import LogisticRegression"
   ]
  },
  {
   "cell_type": "code",
   "execution_count": 67,
   "id": "609e834c",
   "metadata": {},
   "outputs": [],
   "source": [
    "# Define the model\n",
    "model = LogisticRegression(random_state=0, solver='lbfgs',\n",
    "                            multi_class='multinomial')"
   ]
  },
  {
   "cell_type": "code",
   "execution_count": 68,
   "id": "6248ae4d",
   "metadata": {},
   "outputs": [],
   "source": [
    "# Load libraries\n",
    "import matplotlib.pyplot as plt\n",
    "from sklearn.datasets import make_classification\n",
    "from sklearn.linear_model import LogisticRegression\n",
    "from sklearn.metrics import roc_curve, roc_auc_score\n",
    "from sklearn.model_selection import train_test_split"
   ]
  },
  {
   "cell_type": "code",
   "execution_count": 69,
   "id": "699a4942",
   "metadata": {},
   "outputs": [],
   "source": [
    "# Create feature matrix and target vector\n",
    "features, target = make_classification(n_samples=10000,\n",
    "                                      n_features=10,\n",
    "                                      n_informative=3,\n",
    "                                      random_state=3)"
   ]
  },
  {
   "cell_type": "code",
   "execution_count": 70,
   "id": "990047be",
   "metadata": {},
   "outputs": [],
   "source": [
    "# Split into training and tests\n",
    "features_train, features_test, target_train, target_test = train_test_split(features, target, test_size=0.1, random_state=1)"
   ]
  },
  {
   "cell_type": "code",
   "execution_count": 71,
   "id": "840b4dac",
   "metadata": {},
   "outputs": [],
   "source": [
    "# create classifier\n",
    "logit = LogisticRegression()"
   ]
  },
  {
   "cell_type": "code",
   "execution_count": 72,
   "id": "a4a3b0da",
   "metadata": {},
   "outputs": [
    {
     "data": {
      "text/html": [
       "<style>#sk-container-id-4 {color: black;background-color: white;}#sk-container-id-4 pre{padding: 0;}#sk-container-id-4 div.sk-toggleable {background-color: white;}#sk-container-id-4 label.sk-toggleable__label {cursor: pointer;display: block;width: 100%;margin-bottom: 0;padding: 0.3em;box-sizing: border-box;text-align: center;}#sk-container-id-4 label.sk-toggleable__label-arrow:before {content: \"▸\";float: left;margin-right: 0.25em;color: #696969;}#sk-container-id-4 label.sk-toggleable__label-arrow:hover:before {color: black;}#sk-container-id-4 div.sk-estimator:hover label.sk-toggleable__label-arrow:before {color: black;}#sk-container-id-4 div.sk-toggleable__content {max-height: 0;max-width: 0;overflow: hidden;text-align: left;background-color: #f0f8ff;}#sk-container-id-4 div.sk-toggleable__content pre {margin: 0.2em;color: black;border-radius: 0.25em;background-color: #f0f8ff;}#sk-container-id-4 input.sk-toggleable__control:checked~div.sk-toggleable__content {max-height: 200px;max-width: 100%;overflow: auto;}#sk-container-id-4 input.sk-toggleable__control:checked~label.sk-toggleable__label-arrow:before {content: \"▾\";}#sk-container-id-4 div.sk-estimator input.sk-toggleable__control:checked~label.sk-toggleable__label {background-color: #d4ebff;}#sk-container-id-4 div.sk-label input.sk-toggleable__control:checked~label.sk-toggleable__label {background-color: #d4ebff;}#sk-container-id-4 input.sk-hidden--visually {border: 0;clip: rect(1px 1px 1px 1px);clip: rect(1px, 1px, 1px, 1px);height: 1px;margin: -1px;overflow: hidden;padding: 0;position: absolute;width: 1px;}#sk-container-id-4 div.sk-estimator {font-family: monospace;background-color: #f0f8ff;border: 1px dotted black;border-radius: 0.25em;box-sizing: border-box;margin-bottom: 0.5em;}#sk-container-id-4 div.sk-estimator:hover {background-color: #d4ebff;}#sk-container-id-4 div.sk-parallel-item::after {content: \"\";width: 100%;border-bottom: 1px solid gray;flex-grow: 1;}#sk-container-id-4 div.sk-label:hover label.sk-toggleable__label {background-color: #d4ebff;}#sk-container-id-4 div.sk-serial::before {content: \"\";position: absolute;border-left: 1px solid gray;box-sizing: border-box;top: 0;bottom: 0;left: 50%;z-index: 0;}#sk-container-id-4 div.sk-serial {display: flex;flex-direction: column;align-items: center;background-color: white;padding-right: 0.2em;padding-left: 0.2em;position: relative;}#sk-container-id-4 div.sk-item {position: relative;z-index: 1;}#sk-container-id-4 div.sk-parallel {display: flex;align-items: stretch;justify-content: center;background-color: white;position: relative;}#sk-container-id-4 div.sk-item::before, #sk-container-id-4 div.sk-parallel-item::before {content: \"\";position: absolute;border-left: 1px solid gray;box-sizing: border-box;top: 0;bottom: 0;left: 50%;z-index: -1;}#sk-container-id-4 div.sk-parallel-item {display: flex;flex-direction: column;z-index: 1;position: relative;background-color: white;}#sk-container-id-4 div.sk-parallel-item:first-child::after {align-self: flex-end;width: 50%;}#sk-container-id-4 div.sk-parallel-item:last-child::after {align-self: flex-start;width: 50%;}#sk-container-id-4 div.sk-parallel-item:only-child::after {width: 0;}#sk-container-id-4 div.sk-dashed-wrapped {border: 1px dashed gray;margin: 0 0.4em 0.5em 0.4em;box-sizing: border-box;padding-bottom: 0.4em;background-color: white;}#sk-container-id-4 div.sk-label label {font-family: monospace;font-weight: bold;display: inline-block;line-height: 1.2em;}#sk-container-id-4 div.sk-label-container {text-align: center;}#sk-container-id-4 div.sk-container {/* jupyter's `normalize.less` sets `[hidden] { display: none; }` but bootstrap.min.css set `[hidden] { display: none !important; }` so we also need the `!important` here to be able to override the default hidden behavior on the sphinx rendered scikit-learn.org. See: https://github.com/scikit-learn/scikit-learn/issues/21755 */display: inline-block !important;position: relative;}#sk-container-id-4 div.sk-text-repr-fallback {display: none;}</style><div id=\"sk-container-id-4\" class=\"sk-top-container\"><div class=\"sk-text-repr-fallback\"><pre>LogisticRegression()</pre><b>In a Jupyter environment, please rerun this cell to show the HTML representation or trust the notebook. <br />On GitHub, the HTML representation is unable to render, please try loading this page with nbviewer.org.</b></div><div class=\"sk-container\" hidden><div class=\"sk-item\"><div class=\"sk-estimator sk-toggleable\"><input class=\"sk-toggleable__control sk-hidden--visually\" id=\"sk-estimator-id-4\" type=\"checkbox\" checked><label for=\"sk-estimator-id-4\" class=\"sk-toggleable__label sk-toggleable__label-arrow\">LogisticRegression</label><div class=\"sk-toggleable__content\"><pre>LogisticRegression()</pre></div></div></div></div></div>"
      ],
      "text/plain": [
       "LogisticRegression()"
      ]
     },
     "execution_count": 72,
     "metadata": {},
     "output_type": "execute_result"
    }
   ],
   "source": [
    "# Train model\n",
    "logit.fit(features_train, target_train)"
   ]
  },
  {
   "cell_type": "code",
   "execution_count": 73,
   "id": "1bd168f2",
   "metadata": {},
   "outputs": [],
   "source": [
    "# Get predicted probabilities\n",
    "target_probabilities = logit.predict_proba(features_test)[:,1]"
   ]
  },
  {
   "cell_type": "code",
   "execution_count": 74,
   "id": "8662cdb5",
   "metadata": {},
   "outputs": [],
   "source": [
    "# Get predicted probabilities\n",
    "false_positive_rate, true_positive_rate, threashold = roc_curve(target_test, target_probabilities)"
   ]
  },
  {
   "cell_type": "code",
   "execution_count": 75,
   "id": "c47bee5e",
   "metadata": {
    "scrolled": true
   },
   "outputs": [
    {
     "name": "stderr",
     "output_type": "stream",
     "text": [
      "C:\\Users\\Yousof\\AppData\\Local\\Temp/ipykernel_3444/351786677.py:4: MatplotlibDeprecationWarning: Case-insensitive properties were deprecated in 3.3 and support will be removed two minor releases later\n",
      "  plt.plot([0, 1], Ls='--')\n"
     ]
    },
    {
     "data": {
      "image/png": "[encoded data removed]",
      "text/plain": [
       "<Figure size 432x288 with 1 Axes>"
      ]
     },
     "metadata": {
      "needs_background": "light"
     },
     "output_type": "display_data"
    }
   ],
   "source": [
    "# Plot ROC curve\n",
    "plt.title(\"Test Set\")\n",
    "plt.plot(false_positive_rate, true_positive_rate)\n",
    "plt.plot([0, 1], Ls='--')\n",
    "plt.plot([0, 0], [1, 0], c=\".7\"), plt.plot([1, 1], c=\".7\")\n",
    "#plt.ylable(\"True Positive Rte\")\n",
    "#plt.xlable(\"False Positive Rte\")\n",
    "plt.show()\n"
   ]
  },
  {
   "cell_type": "code",
   "execution_count": 76,
   "id": "45f31de4",
   "metadata": {},
   "outputs": [
    {
     "name": "stdout",
     "output_type": "stream",
     "text": [
      "0.87\n"
     ]
    }
   ],
   "source": [
    "\n",
    "# Initialize a logistic regression model \n",
    "logistic = LogisticRegression(random_state=0, solver='lbfgs', multi_class='multinomial')\n",
    "# Train the model\n",
    "logistic = logistic.fit(x_train, y_train)\n",
    "# Print score of model(using test dataset)\n",
    "print(logistic.score(x_test, y_test))\n"
   ]
  },
  {
   "cell_type": "markdown",
   "id": "305fba30",
   "metadata": {},
   "source": [
    "# Step 6: Find the model accuracy on the test set.\n"
   ]
  },
  {
   "cell_type": "code",
   "execution_count": 77,
   "id": "95ef90b8",
   "metadata": {},
   "outputs": [],
   "source": [
    "from sklearn.model_selection import cross_val_score"
   ]
  },
  {
   "cell_type": "code",
   "execution_count": 78,
   "id": "732c9893",
   "metadata": {},
   "outputs": [
    {
     "data": {
      "text/plain": [
       "array([0.89 , 0.875, 0.91 , 0.905, 0.915])"
      ]
     },
     "execution_count": 78,
     "metadata": {},
     "output_type": "execute_result"
    }
   ],
   "source": [
    "cross_val_score(logit, x, y, scoring = \"accuracy\")"
   ]
  },
  {
   "cell_type": "code",
   "execution_count": 79,
   "id": "1bee810c",
   "metadata": {},
   "outputs": [
    {
     "data": {
      "text/plain": [
       "array([0.8989899 , 0.85714286, 0.91      , 0.90909091, 0.91089109])"
      ]
     },
     "execution_count": 79,
     "metadata": {},
     "output_type": "execute_result"
    }
   ],
   "source": [
    "cross_val_score(logit, x, y, scoring = \"precision\")"
   ]
  },
  {
   "cell_type": "code",
   "execution_count": 80,
   "id": "7b0d631b",
   "metadata": {},
   "outputs": [
    {
     "data": {
      "text/plain": [
       "array([0.88118812, 0.9       , 0.91      , 0.9       , 0.92      ])"
      ]
     },
     "execution_count": 80,
     "metadata": {},
     "output_type": "execute_result"
    }
   ],
   "source": [
    "cross_val_score(logit, x, y, scoring = \"recall\")"
   ]
  },
  {
   "cell_type": "code",
   "execution_count": 81,
   "id": "13e79c06",
   "metadata": {},
   "outputs": [
    {
     "data": {
      "text/plain": [
       "array([0.89      , 0.87804878, 0.91      , 0.90452261, 0.91542289])"
      ]
     },
     "execution_count": 81,
     "metadata": {},
     "output_type": "execute_result"
    }
   ],
   "source": [
    "cross_val_score(logit, x, y, scoring = \"f1\")"
   ]
  },
  {
   "cell_type": "code",
   "execution_count": 82,
   "id": "0b7d2e66",
   "metadata": {},
   "outputs": [],
   "source": [
    "# Create training and test test split\n",
    "from sklearn.model_selection import train_test_split\n",
    "x_train, x_test, y_train, y_test = train_test_split(x, y, test_size=0.1, random_state=1)"
   ]
  },
  {
   "cell_type": "code",
   "execution_count": 83,
   "id": "4ec8e18c",
   "metadata": {},
   "outputs": [],
   "source": [
    "# Predict values for training target vector\n",
    "y_hat = logit.fit(x_train, y_train).predict(x_test)"
   ]
  },
  {
   "cell_type": "code",
   "execution_count": 84,
   "id": "81075741",
   "metadata": {},
   "outputs": [
    {
     "data": {
      "text/plain": [
       "0.91"
      ]
     },
     "execution_count": 84,
     "metadata": {},
     "output_type": "execute_result"
    }
   ],
   "source": [
    "# Calculate accuracy\n",
    "accuracy_score(y_test, y_hat)"
   ]
  },
  {
   "cell_type": "markdown",
   "id": "dc6eb195",
   "metadata": {},
   "source": [
    "# Step 7: Create a confusion matrix for the test set predictions."
   ]
  },
  {
   "cell_type": "code",
   "execution_count": 85,
   "id": "5443fc66",
   "metadata": {},
   "outputs": [],
   "source": [
    "#y_pred_forest  = forest.predict(X_test)\n",
    "y_pred_logistic  = logistic.predict(x_test)"
   ]
  },
  {
   "cell_type": "code",
   "execution_count": 86,
   "id": "73c753bd",
   "metadata": {},
   "outputs": [
    {
     "data": {
      "text/plain": [
       "array([[38,  3],\n",
       "       [ 5, 54]], dtype=int64)"
      ]
     },
     "execution_count": 86,
     "metadata": {},
     "output_type": "execute_result"
    }
   ],
   "source": [
    "from sklearn.metrics import confusion_matrix, ConfusionMatrixDisplay\n",
    "from sklearn.metrics import plot_confusion_matrix\n",
    "from sklearn.metrics import confusion_matrix\n",
    "confusion_matrix_logistic = confusion_matrix(y_test, y_pred_logistic, labels=[1,0])\n",
    "confusion_matrix_logistic"
   ]
  },
  {
   "cell_type": "code",
   "execution_count": 87,
   "id": "41d3849c",
   "metadata": {},
   "outputs": [
    {
     "data": {
      "text/plain": [
       "Text(0.5, 1.0, 'Confusion matrix Logistic Regression')"
      ]
     },
     "execution_count": 87,
     "metadata": {},
     "output_type": "execute_result"
    },
    {
     "data": {
      "image/png": "[encoded data removed]",
      "text/plain": [
       "<Figure size 432x288 with 2 Axes>"
      ]
     },
     "metadata": {
      "needs_background": "light"
     },
     "output_type": "display_data"
    }
   ],
   "source": [
    "# plot the confusion matrix\n",
    "ax = plt.axes()\n",
    "sns.heatmap(confusion_matrix_logistic, annot=True, fmt=\"d\")\n",
    "ax.set_title('Confusion matrix Logistic Regression')"
   ]
  },
  {
   "cell_type": "code",
   "execution_count": 88,
   "id": "69044d3c",
   "metadata": {},
   "outputs": [
    {
     "data": {
      "text/plain": [
       "Text(0.5, 1.0, 'Confusion matrix Logistic Regression')"
      ]
     },
     "execution_count": 88,
     "metadata": {},
     "output_type": "execute_result"
    },
    {
     "data": {
      "image/png": "[encoded data removed]",
      "text/plain": [
       "<Figure size 432x288 with 2 Axes>"
      ]
     },
     "metadata": {
      "needs_background": "light"
     },
     "output_type": "display_data"
    }
   ],
   "source": [
    "# plot the confusion matrix\n",
    "ax = plt.axes()\n",
    "sns.heatmap(confusion_matrix_logistic, annot=True, fmt=\"d\")\n",
    "ax.set_title('Confusion matrix Logistic Regression')"
   ]
  },
  {
   "cell_type": "markdown",
   "id": "8e52b171",
   "metadata": {},
   "source": [
    "# Step 8: Get the precision, recall, and F1-score for the test set predictions."
   ]
  },
  {
   "cell_type": "code",
   "execution_count": 89,
   "id": "5652c50e",
   "metadata": {},
   "outputs": [],
   "source": [
    "from sklearn.metrics import classification_report\n",
    "import pandas as pd"
   ]
  },
  {
   "cell_type": "code",
   "execution_count": 90,
   "id": "b99c24f0",
   "metadata": {},
   "outputs": [],
   "source": [
    "from sklearn.preprocessing import StandardScaler\n",
    "from sklearn.svm import SVC\n",
    "from sklearn.metrics import precision_score, recall_score, f1_score, accuracy_score"
   ]
  },
  {
   "cell_type": "code",
   "execution_count": 91,
   "id": "cd46ccc4",
   "metadata": {},
   "outputs": [
    {
     "data": {
      "text/html": [
       "<style>#sk-container-id-5 {color: black;background-color: white;}#sk-container-id-5 pre{padding: 0;}#sk-container-id-5 div.sk-toggleable {background-color: white;}#sk-container-id-5 label.sk-toggleable__label {cursor: pointer;display: block;width: 100%;margin-bottom: 0;padding: 0.3em;box-sizing: border-box;text-align: center;}#sk-container-id-5 label.sk-toggleable__label-arrow:before {content: \"▸\";float: left;margin-right: 0.25em;color: #696969;}#sk-container-id-5 label.sk-toggleable__label-arrow:hover:before {color: black;}#sk-container-id-5 div.sk-estimator:hover label.sk-toggleable__label-arrow:before {color: black;}#sk-container-id-5 div.sk-toggleable__content {max-height: 0;max-width: 0;overflow: hidden;text-align: left;background-color: #f0f8ff;}#sk-container-id-5 div.sk-toggleable__content pre {margin: 0.2em;color: black;border-radius: 0.25em;background-color: #f0f8ff;}#sk-container-id-5 input.sk-toggleable__control:checked~div.sk-toggleable__content {max-height: 200px;max-width: 100%;overflow: auto;}#sk-container-id-5 input.sk-toggleable__control:checked~label.sk-toggleable__label-arrow:before {content: \"▾\";}#sk-container-id-5 div.sk-estimator input.sk-toggleable__control:checked~label.sk-toggleable__label {background-color: #d4ebff;}#sk-container-id-5 div.sk-label input.sk-toggleable__control:checked~label.sk-toggleable__label {background-color: #d4ebff;}#sk-container-id-5 input.sk-hidden--visually {border: 0;clip: rect(1px 1px 1px 1px);clip: rect(1px, 1px, 1px, 1px);height: 1px;margin: -1px;overflow: hidden;padding: 0;position: absolute;width: 1px;}#sk-container-id-5 div.sk-estimator {font-family: monospace;background-color: #f0f8ff;border: 1px dotted black;border-radius: 0.25em;box-sizing: border-box;margin-bottom: 0.5em;}#sk-container-id-5 div.sk-estimator:hover {background-color: #d4ebff;}#sk-container-id-5 div.sk-parallel-item::after {content: \"\";width: 100%;border-bottom: 1px solid gray;flex-grow: 1;}#sk-container-id-5 div.sk-label:hover label.sk-toggleable__label {background-color: #d4ebff;}#sk-container-id-5 div.sk-serial::before {content: \"\";position: absolute;border-left: 1px solid gray;box-sizing: border-box;top: 0;bottom: 0;left: 50%;z-index: 0;}#sk-container-id-5 div.sk-serial {display: flex;flex-direction: column;align-items: center;background-color: white;padding-right: 0.2em;padding-left: 0.2em;position: relative;}#sk-container-id-5 div.sk-item {position: relative;z-index: 1;}#sk-container-id-5 div.sk-parallel {display: flex;align-items: stretch;justify-content: center;background-color: white;position: relative;}#sk-container-id-5 div.sk-item::before, #sk-container-id-5 div.sk-parallel-item::before {content: \"\";position: absolute;border-left: 1px solid gray;box-sizing: border-box;top: 0;bottom: 0;left: 50%;z-index: -1;}#sk-container-id-5 div.sk-parallel-item {display: flex;flex-direction: column;z-index: 1;position: relative;background-color: white;}#sk-container-id-5 div.sk-parallel-item:first-child::after {align-self: flex-end;width: 50%;}#sk-container-id-5 div.sk-parallel-item:last-child::after {align-self: flex-start;width: 50%;}#sk-container-id-5 div.sk-parallel-item:only-child::after {width: 0;}#sk-container-id-5 div.sk-dashed-wrapped {border: 1px dashed gray;margin: 0 0.4em 0.5em 0.4em;box-sizing: border-box;padding-bottom: 0.4em;background-color: white;}#sk-container-id-5 div.sk-label label {font-family: monospace;font-weight: bold;display: inline-block;line-height: 1.2em;}#sk-container-id-5 div.sk-label-container {text-align: center;}#sk-container-id-5 div.sk-container {/* jupyter's `normalize.less` sets `[hidden] { display: none; }` but bootstrap.min.css set `[hidden] { display: none !important; }` so we also need the `!important` here to be able to override the default hidden behavior on the sphinx rendered scikit-learn.org. See: https://github.com/scikit-learn/scikit-learn/issues/21755 */display: inline-block !important;position: relative;}#sk-container-id-5 div.sk-text-repr-fallback {display: none;}</style><div id=\"sk-container-id-5\" class=\"sk-top-container\"><div class=\"sk-text-repr-fallback\"><pre>SVC(C=10.0, kernel=&#x27;linear&#x27;, random_state=1)</pre><b>In a Jupyter environment, please rerun this cell to show the HTML representation or trust the notebook. <br />On GitHub, the HTML representation is unable to render, please try loading this page with nbviewer.org.</b></div><div class=\"sk-container\" hidden><div class=\"sk-item\"><div class=\"sk-estimator sk-toggleable\"><input class=\"sk-toggleable__control sk-hidden--visually\" id=\"sk-estimator-id-5\" type=\"checkbox\" checked><label for=\"sk-estimator-id-5\" class=\"sk-toggleable__label sk-toggleable__label-arrow\">SVC</label><div class=\"sk-toggleable__content\"><pre>SVC(C=10.0, kernel=&#x27;linear&#x27;, random_state=1)</pre></div></div></div></div></div>"
      ],
      "text/plain": [
       "SVC(C=10.0, kernel='linear', random_state=1)"
      ]
     },
     "execution_count": 91,
     "metadata": {},
     "output_type": "execute_result"
    }
   ],
   "source": [
    "# Fit the SVC model\n",
    "#\n",
    "svc = SVC(kernel='linear', C=10.0, random_state=1)\n",
    "svc.fit(x_train, y_train)"
   ]
  },
  {
   "cell_type": "code",
   "execution_count": 92,
   "id": "82ec7c29",
   "metadata": {},
   "outputs": [],
   "source": [
    "# Get the predictions\n",
    "y_pred = svc.predict(x_test)"
   ]
  },
  {
   "cell_type": "code",
   "execution_count": 93,
   "id": "2e408b08",
   "metadata": {},
   "outputs": [
    {
     "name": "stdout",
     "output_type": "stream",
     "text": [
      "Precision: 0.844\n"
     ]
    }
   ],
   "source": [
    "print('Precision: %.3f' % precision_score(y_test, y_pred))"
   ]
  },
  {
   "cell_type": "code",
   "execution_count": 94,
   "id": "8feaa1c9",
   "metadata": {},
   "outputs": [
    {
     "name": "stdout",
     "output_type": "stream",
     "text": [
      "Recall: 0.927\n"
     ]
    }
   ],
   "source": [
    "print('Recall: %.3f' % recall_score(y_test, y_pred))"
   ]
  },
  {
   "cell_type": "code",
   "execution_count": 95,
   "id": "5795d52c",
   "metadata": {},
   "outputs": [
    {
     "name": "stdout",
     "output_type": "stream",
     "text": [
      "Accuracy: 0.900\n"
     ]
    }
   ],
   "source": [
    "print('Accuracy: %.3f' % accuracy_score(y_test, y_pred))"
   ]
  },
  {
   "cell_type": "code",
   "execution_count": 96,
   "id": "cf049c43",
   "metadata": {},
   "outputs": [],
   "source": [
    "#print('f1: %.3f' % accuracy_score(y_test, y_pred))"
   ]
  },
  {
   "cell_type": "code",
   "execution_count": 97,
   "id": "8b89c826",
   "metadata": {},
   "outputs": [
    {
     "data": {
      "text/plain": [
       "array([0.89      , 0.87804878, 0.91      , 0.90452261, 0.91542289])"
      ]
     },
     "execution_count": 97,
     "metadata": {},
     "output_type": "execute_result"
    }
   ],
   "source": [
    "cross_val_score(logit, x, y, scoring = \"f1\")"
   ]
  },
  {
   "cell_type": "code",
   "execution_count": 98,
   "id": "2db4f02b",
   "metadata": {},
   "outputs": [],
   "source": [
    "#print(classification_report(truth, prediction))"
   ]
  },
  {
   "cell_type": "markdown",
   "id": "c59aadcc",
   "metadata": {},
   "source": [
    "# Step 10: Pick another classification model you learned about this week and repeat steps (5) – (9)."
   ]
  },
  {
   "cell_type": "code",
   "execution_count": 99,
   "id": "e04e57cc",
   "metadata": {},
   "outputs": [],
   "source": [
    "# Import linear regretion model\n",
    "from sklearn.linear_model import LinearRegression\n",
    "clf = LinearRegression()"
   ]
  },
  {
   "cell_type": "code",
   "execution_count": 100,
   "id": "700ee322",
   "metadata": {},
   "outputs": [],
   "source": [
    "from sklearn import linear_model"
   ]
  },
  {
   "cell_type": "code",
   "execution_count": 101,
   "id": "86da108c",
   "metadata": {},
   "outputs": [
    {
     "data": {
      "text/html": [
       "<style>#sk-container-id-6 {color: black;background-color: white;}#sk-container-id-6 pre{padding: 0;}#sk-container-id-6 div.sk-toggleable {background-color: white;}#sk-container-id-6 label.sk-toggleable__label {cursor: pointer;display: block;width: 100%;margin-bottom: 0;padding: 0.3em;box-sizing: border-box;text-align: center;}#sk-container-id-6 label.sk-toggleable__label-arrow:before {content: \"▸\";float: left;margin-right: 0.25em;color: #696969;}#sk-container-id-6 label.sk-toggleable__label-arrow:hover:before {color: black;}#sk-container-id-6 div.sk-estimator:hover label.sk-toggleable__label-arrow:before {color: black;}#sk-container-id-6 div.sk-toggleable__content {max-height: 0;max-width: 0;overflow: hidden;text-align: left;background-color: #f0f8ff;}#sk-container-id-6 div.sk-toggleable__content pre {margin: 0.2em;color: black;border-radius: 0.25em;background-color: #f0f8ff;}#sk-container-id-6 input.sk-toggleable__control:checked~div.sk-toggleable__content {max-height: 200px;max-width: 100%;overflow: auto;}#sk-container-id-6 input.sk-toggleable__control:checked~label.sk-toggleable__label-arrow:before {content: \"▾\";}#sk-container-id-6 div.sk-estimator input.sk-toggleable__control:checked~label.sk-toggleable__label {background-color: #d4ebff;}#sk-container-id-6 div.sk-label input.sk-toggleable__control:checked~label.sk-toggleable__label {background-color: #d4ebff;}#sk-container-id-6 input.sk-hidden--visually {border: 0;clip: rect(1px 1px 1px 1px);clip: rect(1px, 1px, 1px, 1px);height: 1px;margin: -1px;overflow: hidden;padding: 0;position: absolute;width: 1px;}#sk-container-id-6 div.sk-estimator {font-family: monospace;background-color: #f0f8ff;border: 1px dotted black;border-radius: 0.25em;box-sizing: border-box;margin-bottom: 0.5em;}#sk-container-id-6 div.sk-estimator:hover {background-color: #d4ebff;}#sk-container-id-6 div.sk-parallel-item::after {content: \"\";width: 100%;border-bottom: 1px solid gray;flex-grow: 1;}#sk-container-id-6 div.sk-label:hover label.sk-toggleable__label {background-color: #d4ebff;}#sk-container-id-6 div.sk-serial::before {content: \"\";position: absolute;border-left: 1px solid gray;box-sizing: border-box;top: 0;bottom: 0;left: 50%;z-index: 0;}#sk-container-id-6 div.sk-serial {display: flex;flex-direction: column;align-items: center;background-color: white;padding-right: 0.2em;padding-left: 0.2em;position: relative;}#sk-container-id-6 div.sk-item {position: relative;z-index: 1;}#sk-container-id-6 div.sk-parallel {display: flex;align-items: stretch;justify-content: center;background-color: white;position: relative;}#sk-container-id-6 div.sk-item::before, #sk-container-id-6 div.sk-parallel-item::before {content: \"\";position: absolute;border-left: 1px solid gray;box-sizing: border-box;top: 0;bottom: 0;left: 50%;z-index: -1;}#sk-container-id-6 div.sk-parallel-item {display: flex;flex-direction: column;z-index: 1;position: relative;background-color: white;}#sk-container-id-6 div.sk-parallel-item:first-child::after {align-self: flex-end;width: 50%;}#sk-container-id-6 div.sk-parallel-item:last-child::after {align-self: flex-start;width: 50%;}#sk-container-id-6 div.sk-parallel-item:only-child::after {width: 0;}#sk-container-id-6 div.sk-dashed-wrapped {border: 1px dashed gray;margin: 0 0.4em 0.5em 0.4em;box-sizing: border-box;padding-bottom: 0.4em;background-color: white;}#sk-container-id-6 div.sk-label label {font-family: monospace;font-weight: bold;display: inline-block;line-height: 1.2em;}#sk-container-id-6 div.sk-label-container {text-align: center;}#sk-container-id-6 div.sk-container {/* jupyter's `normalize.less` sets `[hidden] { display: none; }` but bootstrap.min.css set `[hidden] { display: none !important; }` so we also need the `!important` here to be able to override the default hidden behavior on the sphinx rendered scikit-learn.org. See: https://github.com/scikit-learn/scikit-learn/issues/21755 */display: inline-block !important;position: relative;}#sk-container-id-6 div.sk-text-repr-fallback {display: none;}</style><div id=\"sk-container-id-6\" class=\"sk-top-container\"><div class=\"sk-text-repr-fallback\"><pre>LinearRegression()</pre><b>In a Jupyter environment, please rerun this cell to show the HTML representation or trust the notebook. <br />On GitHub, the HTML representation is unable to render, please try loading this page with nbviewer.org.</b></div><div class=\"sk-container\" hidden><div class=\"sk-item\"><div class=\"sk-estimator sk-toggleable\"><input class=\"sk-toggleable__control sk-hidden--visually\" id=\"sk-estimator-id-6\" type=\"checkbox\" checked><label for=\"sk-estimator-id-6\" class=\"sk-toggleable__label sk-toggleable__label-arrow\">LinearRegression</label><div class=\"sk-toggleable__content\"><pre>LinearRegression()</pre></div></div></div></div></div>"
      ],
      "text/plain": [
       "LinearRegression()"
      ]
     },
     "execution_count": 101,
     "metadata": {},
     "output_type": "execute_result"
    }
   ],
   "source": [
    "reg = linear_model.LinearRegression()\n",
    "reg.fit(x_train, y_train)"
   ]
  },
  {
   "cell_type": "code",
   "execution_count": 102,
   "id": "e99db3e9",
   "metadata": {},
   "outputs": [
    {
     "data": {
      "text/html": [
       "<style>#sk-container-id-7 {color: black;background-color: white;}#sk-container-id-7 pre{padding: 0;}#sk-container-id-7 div.sk-toggleable {background-color: white;}#sk-container-id-7 label.sk-toggleable__label {cursor: pointer;display: block;width: 100%;margin-bottom: 0;padding: 0.3em;box-sizing: border-box;text-align: center;}#sk-container-id-7 label.sk-toggleable__label-arrow:before {content: \"▸\";float: left;margin-right: 0.25em;color: #696969;}#sk-container-id-7 label.sk-toggleable__label-arrow:hover:before {color: black;}#sk-container-id-7 div.sk-estimator:hover label.sk-toggleable__label-arrow:before {color: black;}#sk-container-id-7 div.sk-toggleable__content {max-height: 0;max-width: 0;overflow: hidden;text-align: left;background-color: #f0f8ff;}#sk-container-id-7 div.sk-toggleable__content pre {margin: 0.2em;color: black;border-radius: 0.25em;background-color: #f0f8ff;}#sk-container-id-7 input.sk-toggleable__control:checked~div.sk-toggleable__content {max-height: 200px;max-width: 100%;overflow: auto;}#sk-container-id-7 input.sk-toggleable__control:checked~label.sk-toggleable__label-arrow:before {content: \"▾\";}#sk-container-id-7 div.sk-estimator input.sk-toggleable__control:checked~label.sk-toggleable__label {background-color: #d4ebff;}#sk-container-id-7 div.sk-label input.sk-toggleable__control:checked~label.sk-toggleable__label {background-color: #d4ebff;}#sk-container-id-7 input.sk-hidden--visually {border: 0;clip: rect(1px 1px 1px 1px);clip: rect(1px, 1px, 1px, 1px);height: 1px;margin: -1px;overflow: hidden;padding: 0;position: absolute;width: 1px;}#sk-container-id-7 div.sk-estimator {font-family: monospace;background-color: #f0f8ff;border: 1px dotted black;border-radius: 0.25em;box-sizing: border-box;margin-bottom: 0.5em;}#sk-container-id-7 div.sk-estimator:hover {background-color: #d4ebff;}#sk-container-id-7 div.sk-parallel-item::after {content: \"\";width: 100%;border-bottom: 1px solid gray;flex-grow: 1;}#sk-container-id-7 div.sk-label:hover label.sk-toggleable__label {background-color: #d4ebff;}#sk-container-id-7 div.sk-serial::before {content: \"\";position: absolute;border-left: 1px solid gray;box-sizing: border-box;top: 0;bottom: 0;left: 50%;z-index: 0;}#sk-container-id-7 div.sk-serial {display: flex;flex-direction: column;align-items: center;background-color: white;padding-right: 0.2em;padding-left: 0.2em;position: relative;}#sk-container-id-7 div.sk-item {position: relative;z-index: 1;}#sk-container-id-7 div.sk-parallel {display: flex;align-items: stretch;justify-content: center;background-color: white;position: relative;}#sk-container-id-7 div.sk-item::before, #sk-container-id-7 div.sk-parallel-item::before {content: \"\";position: absolute;border-left: 1px solid gray;box-sizing: border-box;top: 0;bottom: 0;left: 50%;z-index: -1;}#sk-container-id-7 div.sk-parallel-item {display: flex;flex-direction: column;z-index: 1;position: relative;background-color: white;}#sk-container-id-7 div.sk-parallel-item:first-child::after {align-self: flex-end;width: 50%;}#sk-container-id-7 div.sk-parallel-item:last-child::after {align-self: flex-start;width: 50%;}#sk-container-id-7 div.sk-parallel-item:only-child::after {width: 0;}#sk-container-id-7 div.sk-dashed-wrapped {border: 1px dashed gray;margin: 0 0.4em 0.5em 0.4em;box-sizing: border-box;padding-bottom: 0.4em;background-color: white;}#sk-container-id-7 div.sk-label label {font-family: monospace;font-weight: bold;display: inline-block;line-height: 1.2em;}#sk-container-id-7 div.sk-label-container {text-align: center;}#sk-container-id-7 div.sk-container {/* jupyter's `normalize.less` sets `[hidden] { display: none; }` but bootstrap.min.css set `[hidden] { display: none !important; }` so we also need the `!important` here to be able to override the default hidden behavior on the sphinx rendered scikit-learn.org. See: https://github.com/scikit-learn/scikit-learn/issues/21755 */display: inline-block !important;position: relative;}#sk-container-id-7 div.sk-text-repr-fallback {display: none;}</style><div id=\"sk-container-id-7\" class=\"sk-top-container\"><div class=\"sk-text-repr-fallback\"><pre>LinearRegression()</pre><b>In a Jupyter environment, please rerun this cell to show the HTML representation or trust the notebook. <br />On GitHub, the HTML representation is unable to render, please try loading this page with nbviewer.org.</b></div><div class=\"sk-container\" hidden><div class=\"sk-item\"><div class=\"sk-estimator sk-toggleable\"><input class=\"sk-toggleable__control sk-hidden--visually\" id=\"sk-estimator-id-7\" type=\"checkbox\" checked><label for=\"sk-estimator-id-7\" class=\"sk-toggleable__label sk-toggleable__label-arrow\">LinearRegression</label><div class=\"sk-toggleable__content\"><pre>LinearRegression()</pre></div></div></div></div></div>"
      ],
      "text/plain": [
       "LinearRegression()"
      ]
     },
     "execution_count": 102,
     "metadata": {},
     "output_type": "execute_result"
    }
   ],
   "source": [
    "# Use scikit-learn’s fit method to train this model on our training data.\n",
    "clf.fit(x_train,y_train)"
   ]
  },
  {
   "cell_type": "code",
   "execution_count": 103,
   "id": "05ac3834",
   "metadata": {},
   "outputs": [
    {
     "data": {
      "text/plain": [
       "array([ 0.74260137,  0.48953374,  0.53431141,  0.30526222,  0.12246751,\n",
       "        0.39172365,  0.33849525,  0.09491843, -0.09591363, -0.20436951,\n",
       "        0.79591934,  0.48353864,  0.41147605,  0.63511728,  0.2739905 ,\n",
       "       -0.00619468,  0.30871849,  1.36980038,  0.60335696,  0.2150073 ,\n",
       "        0.28541829, -0.26538195,  0.34410463, -0.4756796 , -0.15289413,\n",
       "        0.19490756,  0.164653  , -0.21712384,  0.34842561,  1.17690751,\n",
       "        0.14849966,  0.69239406,  0.85710969,  0.50836046,  1.12983819,\n",
       "        1.02844199,  0.3948693 ,  0.74207978,  0.86349649,  0.69522718,\n",
       "        0.602143  ,  0.8935701 ,  0.73586481,  0.06974728,  0.85261573,\n",
       "        0.69856086,  0.02211717,  0.78915679, -0.00460779,  1.09436794,\n",
       "       -0.00252706,  1.08711367,  1.07128876, -0.18344391,  1.13838585,\n",
       "        0.25523542,  0.99350949,  0.62397148,  0.31726622,  0.2919128 ,\n",
       "       -0.18551849,  0.119113  ,  0.69469026,  0.80334701, -0.06504879,\n",
       "        0.03810635,  0.82402268,  0.29779372,  0.51921713,  0.41499116,\n",
       "        0.22532295,  0.41674907,  0.44994905,  0.20089572,  0.90181784,\n",
       "        0.39318154,  0.79790226, -0.01148406,  0.62706645,  0.76854575,\n",
       "        0.97947605,  1.13356086,  0.81265531, -0.02943495,  0.49688165,\n",
       "       -0.10361637,  0.94155629,  1.01654613,  0.3081184 ,  0.50242785,\n",
       "       -0.05696012,  0.81758613,  0.41915481,  0.24177387,  0.86761055,\n",
       "        0.12728826,  0.86042036,  0.28748745, -0.03649821, -0.0168433 ])"
      ]
     },
     "execution_count": 103,
     "metadata": {},
     "output_type": "execute_result"
    }
   ],
   "source": [
    "# Using the following statement to examine each of the model’s coefficients.\n",
    "clf.predict(x_test)"
   ]
  },
  {
   "cell_type": "code",
   "execution_count": 104,
   "id": "6859f574",
   "metadata": {},
   "outputs": [],
   "source": [
    "from sklearn.model_selection import train_test_split\n",
    "x_train, x_test, y_train, y_test = train_test_split(x,y, random_state=1)\n",
    "linmod2 = LinearRegression().fit(x_train,y_train)"
   ]
  },
  {
   "cell_type": "code",
   "execution_count": 105,
   "id": "e536fd46",
   "metadata": {},
   "outputs": [
    {
     "data": {
      "text/plain": [
       "Index(['id', 'sentiment', 'review', 'review_pol_sub', 'polarity',\n",
       "       'subjectivity', 'newReview', 'review_nostop', 'review_stemmed'],\n",
       "      dtype='object')"
      ]
     },
     "execution_count": 105,
     "metadata": {},
     "output_type": "execute_result"
    }
   ],
   "source": [
    "df.columns"
   ]
  },
  {
   "cell_type": "code",
   "execution_count": 106,
   "id": "9aea032e",
   "metadata": {},
   "outputs": [
    {
     "name": "stdout",
     "output_type": "stream",
     "text": [
      "0.4803073462939624\n",
      "[0.01970847 0.30669946]\n"
     ]
    },
    {
     "data": {
      "text/plain": [
       "[('sentiment', 0.019708465652031763)]"
      ]
     },
     "execution_count": 106,
     "metadata": {},
     "output_type": "execute_result"
    }
   ],
   "source": [
    "print(linmod2.intercept_)\n",
    "print(linmod2.coef_)\n",
    "\n",
    "list(zip(['sentiment'],linmod2.coef_))"
   ]
  },
  {
   "cell_type": "code",
   "execution_count": 107,
   "id": "eceb3575",
   "metadata": {},
   "outputs": [],
   "source": [
    "X = df.iloc[:, 1:2].values\n",
    "y = df.iloc[:, 2].values"
   ]
  },
  {
   "cell_type": "code",
   "execution_count": 108,
   "id": "12a1f76b",
   "metadata": {
    "scrolled": true
   },
   "outputs": [
    {
     "name": "stderr",
     "output_type": "stream",
     "text": [
      "C:\\Users\\Yousof\\AppData\\Local\\Temp/ipykernel_3444/1425236963.py:4: MatplotlibDeprecationWarning: Case-insensitive properties were deprecated in 3.3 and support will be removed two minor releases later\n",
      "  plt.plot([0, 1], Ls='--')\n"
     ]
    },
    {
     "data": {
      "image/png": "[encoded data removed]",
      "text/plain": [
       "<Figure size 432x288 with 1 Axes>"
      ]
     },
     "metadata": {
      "needs_background": "light"
     },
     "output_type": "display_data"
    }
   ],
   "source": [
    "# Plot ROC curve\n",
    "plt.title(\"Test Set\")\n",
    "plt.plot(false_positive_rate, true_positive_rate)\n",
    "plt.plot([0, 1], Ls='--')\n",
    "plt.plot([0, 0], [1, 0], c=\".7\"), plt.plot([1, 1], c=\".7\")\n",
    "#plt.ylable(\"True Positive Rte\")\n",
    "#plt.xlable(\"False Positive Rte\")\n",
    "plt.show()"
   ]
  }
 ],
 "metadata": {
  "kernelspec": {
   "display_name": "Python 3 (ipykernel)",
   "language": "python",
   "name": "python3"
  },
  "language_info": {
   "codemirror_mode": {
    "name": "ipython",
    "version": 3
   },
   "file_extension": ".py",
   "mimetype": "text/x-python",
   "name": "python",
   "nbconvert_exporter": "python",
   "pygments_lexer": "ipython3",
   "version": "3.9.7"
  }
 },
 "nbformat": 4,
 "nbformat_minor": 5
}
