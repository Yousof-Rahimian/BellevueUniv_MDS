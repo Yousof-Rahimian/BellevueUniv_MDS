{
 "cells": [
  {
   "cell_type": "markdown",
   "id": "204c9fdb",
   "metadata": {},
   "source": [
    "# Activity 9: Extracting the Top 100 eBooks from Gutenberg "
   ]
  },
  {
   "cell_type": "markdown",
   "id": "9e16c421",
   "metadata": {},
   "source": [
    "Import necessary libraries including regex, and beautifulsoup"
   ]
  },
  {
   "cell_type": "code",
   "execution_count": 1,
   "id": "bb39d096",
   "metadata": {},
   "outputs": [],
   "source": [
    "import urllib.request, urllib.parse, urllib.error\n",
    "import requests\n",
    "from bs4 import BeautifulSoup\n",
    "import ssl\n",
    "import re"
   ]
  },
  {
   "cell_type": "markdown",
   "id": "da102a08",
   "metadata": {},
   "source": [
    "Check the SSL certificate "
   ]
  },
  {
   "cell_type": "code",
   "execution_count": 2,
   "id": "4bb16792",
   "metadata": {},
   "outputs": [],
   "source": [
    "#Ignore SSL certificate errors\n",
    "ctx = ssl.create_default_context()\n",
    "ctx.check_hostname = False\n",
    "ctx.verify_mode = ssl.CERT_NONE"
   ]
  },
  {
   "cell_type": "markdown",
   "id": "598041b5",
   "metadata": {},
   "source": [
    "Read the HTML from the URL"
   ]
  },
  {
   "cell_type": "code",
   "execution_count": 3,
   "id": "e9788bcd",
   "metadata": {},
   "outputs": [],
   "source": [
    "# Read the HTML from the URL and pass on to BeautifulSoup\n",
    "top100url = 'https://www.gutenberg.org/browse/scores/top'\n",
    "response = requests.get(top100url)"
   ]
  },
  {
   "cell_type": "markdown",
   "id": "03c04dd9",
   "metadata": {},
   "source": [
    "Write a small function to check the status of web request"
   ]
  },
  {
   "cell_type": "code",
   "execution_count": 4,
   "id": "de8e31fe",
   "metadata": {},
   "outputs": [],
   "source": [
    "# Create a statuse_check function by using the follwoing command  \n",
    "def status_check(r):\n",
    "    if r.status_code==200:\n",
    "        print(\"Success!\")\n",
    "        return 1\n",
    "    else:\n",
    "        print(\"Failed!\")\n",
    "        return -1"
   ]
  },
  {
   "cell_type": "code",
   "execution_count": 5,
   "id": "610f72ba",
   "metadata": {},
   "outputs": [
    {
     "name": "stdout",
     "output_type": "stream",
     "text": [
      "Success!\n"
     ]
    },
    {
     "data": {
      "text/plain": [
       "1"
      ]
     },
     "execution_count": 5,
     "metadata": {},
     "output_type": "execute_result"
    }
   ],
   "source": [
    "# Check the responce using the statuse_check command\n",
    "status_check(response)"
   ]
  },
  {
   "cell_type": "markdown",
   "id": "1c79d040",
   "metadata": {},
   "source": [
    "Decode the response and pass on to BeautifulSoup for HTML parsing"
   ]
  },
  {
   "cell_type": "code",
   "execution_count": 6,
   "id": "db5916ed",
   "metadata": {},
   "outputs": [],
   "source": [
    "#Decode the contents of the response\n",
    "contents = response.content.decode(response.encoding)"
   ]
  },
  {
   "cell_type": "code",
   "execution_count": 7,
   "id": "2cb7046a",
   "metadata": {},
   "outputs": [],
   "source": [
    "#Pass the whole string (HTML content) to the method for parsing\n",
    "soup = BeautifulSoup(contents, 'html.parser')"
   ]
  },
  {
   "cell_type": "code",
   "execution_count": 8,
   "id": "2e3ad60b",
   "metadata": {},
   "outputs": [
    {
     "data": {
      "text/plain": [
       "str"
      ]
     },
     "execution_count": 8,
     "metadata": {},
     "output_type": "execute_result"
    }
   ],
   "source": [
    "#Check the type of the decoded object \n",
    "type(contents)"
   ]
  },
  {
   "cell_type": "code",
   "execution_count": 9,
   "id": "0eee138d",
   "metadata": {},
   "outputs": [
    {
     "data": {
      "text/plain": [
       "58154"
      ]
     },
     "execution_count": 9,
     "metadata": {},
     "output_type": "execute_result"
    }
   ],
   "source": [
    "#Check the length of the object abd try printing some of it\n",
    "len(contents)"
   ]
  },
  {
   "cell_type": "code",
   "execution_count": 10,
   "id": "8a78c93b",
   "metadata": {},
   "outputs": [
    {
     "name": "stdout",
     "output_type": "stream",
     "text": [
      "le>Top 100 | Project Gutenberg</title>\n",
      " <link rel=\"stylesheet\" href=\"/gutenberg/style.css?v=1.1\">\n",
      " <link rel=\"stylesheet\" href=\"/gutenberg/collapsible.css?1.1\">\n",
      " <link rel=\"stylesheet\" href=\"/gutenberg/new_nav.css?v=1.321231\">\n",
      "<link rel=\"stylesheet\" href=\"/gutenberg/pg-desktop-one.css\">\n",
      " <meta name=\"viewport\" content=\"width=device-width, initial-scale=1\">\n",
      " <meta name=\"keywords\" content=\"books, ebooks, free, kindle, android, iphone, ipad\"/>\n",
      " <meta name=\"google-site-verification\" content=\"wucOEvSn\n"
     ]
    }
   ],
   "source": [
    "#print the initial portion of the this text\n",
    "print(contents[100:600])"
   ]
  },
  {
   "cell_type": "markdown",
   "id": "cb8b5513",
   "metadata": {},
   "source": [
    "Find all the href tags and store them in the list of links. Check how the list looks like - print first 30 elements\n"
   ]
  },
  {
   "cell_type": "code",
   "execution_count": 11,
   "id": "b00048e2",
   "metadata": {},
   "outputs": [],
   "source": [
    "# Empty list to hold all the http links in the HTML page\n",
    "lst_links=[]"
   ]
  },
  {
   "cell_type": "code",
   "execution_count": 12,
   "id": "8c1541c1",
   "metadata": {},
   "outputs": [],
   "source": [
    "# Find all the href tags and store them in the list of links\n",
    "for link in soup.find_all('a'):\n",
    "    #print(link.get('href'))\n",
    "    lst_links.append(link.get('href'))"
   ]
  },
  {
   "cell_type": "code",
   "execution_count": 13,
   "id": "9ec50d7d",
   "metadata": {},
   "outputs": [
    {
     "data": {
      "text/plain": [
       "['/',\n",
       " '/about/',\n",
       " '/about/',\n",
       " '/policy/collection_development.html',\n",
       " '/about/contact_information.html',\n",
       " '/about/background/',\n",
       " '/policy/permission.html',\n",
       " '/policy/privacy_policy.html',\n",
       " '/policy/terms_of_use.html',\n",
       " '/ebooks/',\n",
       " '/ebooks/',\n",
       " '/ebooks/bookshelf/',\n",
       " '/browse/scores/top',\n",
       " '/ebooks/offline_catalogs.html',\n",
       " '/help/',\n",
       " '/help/',\n",
       " '/help/copyright.html',\n",
       " '/help/errata.html',\n",
       " '/help/file_formats.html',\n",
       " '/help/faq.html',\n",
       " '/policy/',\n",
       " '/help/public_domain_ebook_submission.html',\n",
       " '/help/submitting_your_own_work.html',\n",
       " '/help/mobile.html',\n",
       " '/attic/',\n",
       " '/donate/',\n",
       " '/donate/',\n",
       " '#books-last1',\n",
       " '#authors-last1',\n",
       " '#books-last7']"
      ]
     },
     "execution_count": 13,
     "metadata": {},
     "output_type": "execute_result"
    }
   ],
   "source": [
    "#Print first 30 elements\n",
    "lst_links[:30]"
   ]
  },
  {
   "cell_type": "markdown",
   "id": "cbaa2647",
   "metadata": {},
   "source": [
    "Use regular expression to find the numeric digits in these links.\n",
    "These are the file number for the Top 100 books."
   ]
  },
  {
   "cell_type": "code",
   "execution_count": 14,
   "id": "8d6fdc92",
   "metadata": {},
   "outputs": [],
   "source": [
    "#Define a string and a pattern\n",
    "string1 = 'Paython'\n",
    "pattern = r\"Paython\""
   ]
  },
  {
   "cell_type": "code",
   "execution_count": 15,
   "id": "7439141c",
   "metadata": {},
   "outputs": [
    {
     "name": "stdout",
     "output_type": "stream",
     "text": [
      "Matches!\n"
     ]
    }
   ],
   "source": [
    "#Write a conditional experssion to check for a match \n",
    "if re.match(pattern, string1):\n",
    "    print(\"Matches!\")\n",
    "else:\n",
    "    print(\"Doesn't matche.\")"
   ]
  },
  {
   "cell_type": "markdown",
   "id": "5e05676d",
   "metadata": {},
   "source": [
    "The output is 'Matches', means condition is matches"
   ]
  },
  {
   "cell_type": "markdown",
   "id": "597f2ef5",
   "metadata": {},
   "source": [
    "Initialize empty list to hold the file numbers over and appropriate range and use regex to find the numeric digits in the link 'href' string. Use the findall method. "
   ]
  },
  {
   "cell_type": "code",
   "execution_count": 16,
   "id": "ae5b415b",
   "metadata": {},
   "outputs": [],
   "source": [
    "#Initialize the empy list \n",
    "booknum=[]"
   ]
  },
  {
   "cell_type": "code",
   "execution_count": 17,
   "id": "529c6239",
   "metadata": {},
   "outputs": [],
   "source": [
    "for i in range(0,100):\n",
    "    link=lst_links[i]\n",
    "    link=link.strip()\n",
    "    # Regular expression to find the numeric digits in the link (href) string\n",
    "    n=re.findall('[0-9]+',link)\n",
    "    if len(n)==1:\n",
    "        # Append the filenumber casted as integer\n",
    "        booknum.append(int(n[0]))"
   ]
  },
  {
   "cell_type": "code",
   "execution_count": 18,
   "id": "e1f0d6b5",
   "metadata": {},
   "outputs": [
    {
     "name": "stdout",
     "output_type": "stream",
     "text": [
      "\n",
      "Here's the top 100 ebooks on Gutenberg\n",
      "--------------------------------------\n",
      "[1, 1, 7, 7, 30, 30, 1342, 33044, 7471, 84, 11, 1661, 345, 68068, 20228, 2701, 174, 68069, 64317, 98, 68076, 32449, 2554, 68071, 4300, 1952, 2600, 1400, 35899, 844, 1260, 1184, 68067, 43, 1080, 1232, 76, 219, 68064, 5200, 68070, 2591, 6130, 68074, 2542, 30254, 68072, 47629, 74, 5740, 996, 45, 58585, 514, 27827, 158, 28054, 55, 35, 135, 46, 120, 25344, 67098, 1399, 68063, 2814, 68066, 1497, 4363, 768, 205, 16]\n"
     ]
    }
   ],
   "source": [
    "#Print the file numbers\n",
    "print (\"\\nHere's the top 100 ebooks on Gutenberg\\n\"+\"-\"*38)\n",
    "print(booknum)\n"
   ]
  },
  {
   "cell_type": "markdown",
   "id": "58849412",
   "metadata": {},
   "source": [
    "What does the soup object's text look like? Use .text() method and print only first 2000 characters (do not print the whole thing, it is long)."
   ]
  },
  {
   "cell_type": "code",
   "execution_count": 19,
   "id": "34484f46",
   "metadata": {},
   "outputs": [
    {
     "name": "stdout",
     "output_type": "stream",
     "text": [
      "\n",
      "\n",
      "\n",
      "\n",
      "Top 100 | Project Gutenberg\n",
      "\n",
      "\n",
      "\n",
      "\n",
      "\n",
      "\n",
      "\n",
      "\n",
      "\n",
      "\n",
      "\n",
      "\n",
      "\n",
      "\n",
      "\n",
      "\n",
      "\n",
      "\n",
      "\n",
      "\n",
      "\n",
      "\n",
      "\n",
      "\n",
      "\n",
      "\n",
      "\n",
      "Menu▾\n",
      "\n",
      "\n",
      "\n",
      "About\n",
      "          ▾\n",
      "\n",
      "▾\n",
      "\n",
      "\n",
      "About Project Gutenberg\n",
      "Collection Development\n",
      "Contact Us\n",
      "History & Philosophy\n",
      "Permissions & License\n",
      "Privacy Policy\n",
      "Terms of Use\n",
      "\n",
      "\n",
      "\n",
      "Search and Browse\n",
      "      \t  ▾\n",
      "\n",
      "▾\n",
      "\n",
      "\n",
      "Book Search\n",
      "Bookshelves\n",
      "Frequently Downloaded\n",
      "Offline Catalogs\n",
      "\n",
      "\n",
      "\n",
      "Help\n",
      "          ▾\n",
      "\n",
      "▾\n",
      "\n",
      "\n",
      "All help topics →\n",
      "Copyright Procedures\n",
      "Errata, Fixes and Bug Reports\n",
      "File Formats\n",
      "Frequently Asked Questions\n",
      "Policies →\n",
      "Public Domain eBook Submission\n",
      "Submitting Your Own Work\n",
      "Tablets, Phones and eReaders\n",
      "The Attic →\n",
      "\n",
      "\n",
      "Donate\n",
      "\n",
      "\n",
      "\n",
      "\n",
      "\n",
      "\n",
      "\n",
      "\n",
      "\n",
      "\n",
      "Donation\n",
      "\n",
      "\n",
      "\n",
      "\n",
      "\n",
      "\n",
      "\n",
      "Frequently Viewed or Downloaded\n",
      "These listings are based on the number of times each eBook gets downloaded.\n",
      "      Multiple downloads from the same Internet address on the same day count as one download, and addresses that download more than 100 eBooks in a day are considered robots and are not counted.\n",
      "\n",
      "Downloaded Books\n",
      "2022-05-14126068\n",
      "last 7 days1085898\n",
      "last 30 days4981041\n",
      "\n",
      "\n",
      "\n",
      "Top 100 EBooks yesterday\n",
      "Top 100 Authors yesterday\n",
      "Top 100 EBooks last 7 days\n",
      "Top 100 Authors last 7 days\n",
      "Top 100 EBooks last 30 days\n",
      "Top 100 Authors last 30 days\n",
      "\n",
      "\n",
      "Top 100 EBooks yesterday\n",
      "\n",
      "Pride and Prejudice by Jane Austen (1151)\n",
      "Birds from North Borneo by Max C. Thompson (1009)\n",
      "The Man with Two Left Feet, and Other Stories by P. G.  Wodehouse (938)\n",
      "Frankenstein; Or, The Modern Prometheus by Mary Wollstonecraft Shelley (712)\n",
      "Alice's Adventures in Wonderland by Lewis Carroll (697)\n",
      "The Adventures of Sherlock Holmes by Arthur Conan Doyle (625)\n",
      "Dracula by Bram Stoker (583)\n",
      "Female affection by Basil Montagu (551)\n",
      "Noli Me Tangere by José Rizal (550)\n",
      "Moby Dick; Or, The Whale by Herman Melville (509)\n",
      "The Picture of Dorian Gray by Oscar Wilde (476)\n",
      "The principal girl by J. C.  Snaith (474)\n",
      "The Great Gatsby by F. Scott  Fitzgerald (445)\n",
      "A Tale of Two Cities by Charles Dickens (439)\n",
      "Trouble on Titan by Henry Kuttner (403)\n",
      "Japanese Girls and Women by Alice Mabel Bacon (379)\n",
      "Crime and Punishment by Fyodor Dostoyevsky\n"
     ]
    }
   ],
   "source": [
    "#Print first 2000 characters\n",
    "print(soup.text[:2000])\n"
   ]
  },
  {
   "cell_type": "markdown",
   "id": "81eaad65",
   "metadata": {},
   "source": [
    "Search in the extracted text (using regular expression) from the soup object to find the names of top 100 Ebooks (Yesterday's rank)"
   ]
  },
  {
   "cell_type": "code",
   "execution_count": 20,
   "id": "184ea744",
   "metadata": {},
   "outputs": [],
   "source": [
    "# Temp empty list of Ebook names\n",
    "lst_titles_temp=[]"
   ]
  },
  {
   "cell_type": "markdown",
   "id": "93976d6b",
   "metadata": {},
   "source": [
    "Create a starting index. It should point at the text \"Top 100 Ebooks yesterday\".Use the Use the splitlines() method of the soup.text. It splits the lines of the text of the soup object."
   ]
  },
  {
   "cell_type": "code",
   "execution_count": 21,
   "id": "370bcd55",
   "metadata": {},
   "outputs": [],
   "source": [
    "# Create start_idx use splitline method to define \"Top 100 Ebooks yesterday\"\n",
    "start_idx=soup.text.splitlines().index('Top 100 EBooks yesterday')"
   ]
  },
  {
   "cell_type": "markdown",
   "id": "941d8945",
   "metadata": {},
   "source": [
    "Loop 1-100 to add the strings of next 100 lines to this temporary list. Hint: splitlines() method"
   ]
  },
  {
   "cell_type": "code",
   "execution_count": 22,
   "id": "41834d13",
   "metadata": {},
   "outputs": [],
   "source": [
    "#Loop the string of next 100 lines use splitlines method \n",
    "for i in range(100):\n",
    "    lst_titles_temp.append(soup.text.splitlines()[start_idx+2+i])"
   ]
  },
  {
   "cell_type": "markdown",
   "id": "9ed8393f",
   "metadata": {},
   "source": [
    "Use regular expression to extract only text from the name strings and append to an empty list. Use match and span to find the indices and use them \n"
   ]
  },
  {
   "cell_type": "code",
   "execution_count": 23,
   "id": "0ef3d361",
   "metadata": {},
   "outputs": [],
   "source": [
    "#Create the first title\n",
    "lst_titles=[]\n",
    "#Create a for loop of 100 string lines \n",
    "for i in range(100):\n",
    "    id1,id2=re.match('^[a-zA-Z ]*',lst_titles_temp[i]).span()\n",
    "    lst_titles.append(lst_titles_temp[i][id1:id2])"
   ]
  },
  {
   "cell_type": "code",
   "execution_count": 24,
   "id": "34c073de",
   "metadata": {},
   "outputs": [
    {
     "name": "stdout",
     "output_type": "stream",
     "text": [
      "Top \n",
      "Top \n",
      "Top \n",
      "Top \n",
      "\n",
      "\n",
      "Top \n",
      "\n",
      "Pride and Prejudice by Jane Austen \n",
      "Birds from North Borneo by Max C\n",
      "The Man with Two Left Feet\n",
      "Frankenstein\n",
      "Alice\n",
      "The Adventures of Sherlock Holmes by Arthur Conan Doyle \n",
      "Dracula by Bram Stoker \n",
      "Female affection by Basil Montagu \n",
      "Noli Me Tangere by Jos\n",
      "Moby Dick\n",
      "The Picture of Dorian Gray by Oscar Wilde \n",
      "The principal girl by J\n",
      "The Great Gatsby by F\n",
      "A Tale of Two Cities by Charles Dickens \n",
      "Trouble on Titan by Henry Kuttner \n",
      "Japanese Girls and Women by Alice Mabel Bacon \n",
      "Crime and Punishment by Fyodor Dostoyevsky \n",
      "The Fir\n",
      "Ulysses by James Joyce \n",
      "The Yellow Wallpaper by Charlotte Perkins Gilman \n",
      "War and Peace by graf Leo Tolstoy \n",
      "Great Expectations by Charles Dickens \n",
      "The Philippines a Century Hence by Jos\n",
      "The Importance of Being Earnest\n",
      "Jane Eyre\n",
      "The Count of Monte Cristo\n",
      "Frank Reade\n",
      "The Strange Case of Dr\n",
      "A Modest Proposal by Jonathan Swift \n",
      "The Prince by Niccol\n",
      "Adventures of Huckleberry Finn by Mark Twain \n",
      "Heart of Darkness by Joseph Conrad \n",
      "Roman politics by Frank Frost Abbott \n",
      "Metamorphosis by Franz Kafka \n",
      "Address of President Roosevelt at Canton\n",
      "Grimms\n",
      "The Iliad by Homer \n",
      "Old Indian trails by Walter McClintock \n",
      "A Doll\n",
      "The Romance of Lust\n",
      "Masks\n",
      "Ang \n",
      "The Adventures of Tom Sawyer\n",
      "Tractatus Logico\n",
      "Don Quixote by Miguel de Cervantes Saavedra \n",
      "Anne of Green Gables by L\n",
      "The Prophet by Kahlil Gibran \n",
      "Little Women by Louisa May Alcott \n",
      "The Kama Sutra of Vatsyayana by Vatsyayana \n",
      "Emma by Jane Austen \n",
      "The Brothers Karamazov by Fyodor Dostoyevsky \n",
      "The Wonderful Wizard of Oz by L\n",
      "The Time Machine by H\n",
      "Les Mis\n",
      "A Christmas Carol in Prose\n",
      "Treasure Island by Robert Louis Stevenson \n",
      "The Scarlet Letter by Nathaniel Hawthorne \n",
      "Winnie\n",
      "Anna Karenina by graf Leo Tolstoy \n",
      "The Red Vineyard by B\n",
      "Dubliners by James Joyce \n",
      "On poetic interpretation of nature by John Campbell Shairp \n",
      "The Republic by Plato \n",
      "Beyond Good and Evil by Friedrich Wilhelm Nietzsche \n",
      "Wuthering Heights by Emily Bront\n",
      "Walden\n",
      "Peter Pan by J\n",
      "Oliver Twist by Charles Dickens \n",
      "Old Granny Fox by Thornton W\n",
      "The Souls of Black Folk by W\n",
      "The Odyssey by Homer \n",
      "The Awakening\n",
      "Leviathan by Thomas Hobbes \n",
      "Meditations by Emperor of Rome Marcus Aurelius \n",
      "The War of the Worlds by H\n",
      "A Study in Scarlet by Arthur Conan Doyle \n",
      "Observations on the Operation and Use of Mercury in the Venereal Disease by Andrew Duncan \n",
      "Sense and Sensibility by Jane Austen \n",
      "Second Treatise of Government by John Locke \n",
      "Gulliver\n",
      "The King James Version of the Bible \n",
      "The Reign of Greed by Jos\n",
      "David Copperfield by Charles Dickens \n",
      "The Call of the Wild by Jack London \n",
      "The man among the monkeys\n",
      "The Mysterious Affair at Styles by Agatha Christie \n",
      "Beowulf\n",
      "Carmilla by Joseph Sheridan Le Fanu \n",
      "The Lenni Lenape\n",
      "Essays of Michel de Montaigne \n",
      "Persuasion by Jane Austen \n",
      "Moby Multiple Language Lists of Common Words by Grady Ward \n"
     ]
    }
   ],
   "source": [
    "#Print the list of title\n",
    "for l in lst_titles:\n",
    "    print(l)"
   ]
  },
  {
   "cell_type": "markdown",
   "id": "32165997",
   "metadata": {},
   "source": [
    "# Activity 10: Building your own movie database by reading from an API"
   ]
  },
  {
   "cell_type": "markdown",
   "id": "340dafb3",
   "metadata": {},
   "source": [
    "Import urllib.request, urllib.parse, urllib.error, and jonson"
   ]
  },
  {
   "cell_type": "code",
   "execution_count": 25,
   "id": "64c30f05",
   "metadata": {},
   "outputs": [],
   "source": [
    "# Import pakagers \n",
    "import urllib.request, urllib.parse, urllib.error\n",
    "import json"
   ]
  },
  {
   "cell_type": "markdown",
   "id": "11eb7619",
   "metadata": {},
   "source": [
    "Load the secret API key (you have to get one from OMDB website and use that, 1000 daily limit) from a JSON file, stored in the same folder into a variable, by using json.load"
   ]
  },
  {
   "cell_type": "code",
   "execution_count": 26,
   "id": "baad24d5",
   "metadata": {},
   "outputs": [],
   "source": [
    "import requests"
   ]
  },
  {
   "cell_type": "code",
   "execution_count": 27,
   "id": "8b9cda4b",
   "metadata": {},
   "outputs": [],
   "source": [
    "#Access to API\n",
    "response = requests.get(\"http://www.omdbapi.com/?i=tt3896198&apikey=46747933\")"
   ]
  },
  {
   "cell_type": "code",
   "execution_count": 28,
   "id": "10cb2ea6",
   "metadata": {},
   "outputs": [
    {
     "name": "stdout",
     "output_type": "stream",
     "text": [
      "{\"Title\":\"Guardians of the Galaxy Vol. 2\",\"Year\":\"2017\",\"Rated\":\"PG-13\",\"Released\":\"05 May 2017\",\"Runtime\":\"136 min\",\"Genre\":\"Action, Adventure, Comedy\",\"Director\":\"James Gunn\",\"Writer\":\"James Gunn, Dan Abnett, Andy Lanning\",\"Actors\":\"Chris Pratt, Zoe Saldana, Dave Bautista\",\"Plot\":\"The Guardians struggle to keep together as a team while dealing with their personal family issues, notably Star-Lord's encounter with his father the ambitious celestial being Ego.\",\"Language\":\"English\",\"Country\":\"United States\",\"Awards\":\"Nominated for 1 Oscar. 15 wins & 59 nominations total\",\"Poster\":\"https://m.media-amazon.com/images/M/MV5BNjM0NTc0NzItM2FlYS00YzEwLWE0YmUtNTA2ZWIzODc2OTgxXkEyXkFqcGdeQXVyNTgwNzIyNzg@._V1_SX300.jpg\",\"Ratings\":[{\"Source\":\"Internet Movie Database\",\"Value\":\"7.6/10\"},{\"Source\":\"Rotten Tomatoes\",\"Value\":\"85%\"},{\"Source\":\"Metacritic\",\"Value\":\"67/100\"}],\"Metascore\":\"67\",\"imdbRating\":\"7.6\",\"imdbVotes\":\"645,330\",\"imdbID\":\"tt3896198\",\"Type\":\"movie\",\"DVD\":\"22 Aug 2017\",\"BoxOffice\":\"$389,813,101\",\"Production\":\"N/A\",\"Website\":\"N/A\",\"Response\":\"True\"}\n"
     ]
    }
   ],
   "source": [
    "print(response.text)"
   ]
  },
  {
   "cell_type": "code",
   "execution_count": 29,
   "id": "0754f8bd",
   "metadata": {
    "scrolled": true
   },
   "outputs": [
    {
     "name": "stdout",
     "output_type": "stream",
     "text": [
      "<bound method Response.json of <Response [200]>>\n"
     ]
    }
   ],
   "source": [
    "print(response.json)"
   ]
  },
  {
   "cell_type": "code",
   "execution_count": null,
   "id": "5d6bd7ef",
   "metadata": {},
   "outputs": [],
   "source": []
  },
  {
   "cell_type": "code",
   "execution_count": 30,
   "id": "3b0679d2",
   "metadata": {},
   "outputs": [
    {
     "data": {
      "text/plain": [
       "{'key': '46747933'}"
      ]
     },
     "execution_count": 30,
     "metadata": {},
     "output_type": "execute_result"
    }
   ],
   "source": [
    "{\"key\":'46747933'}"
   ]
  },
  {
   "cell_type": "code",
   "execution_count": 31,
   "id": "f98f7a78",
   "metadata": {},
   "outputs": [
    {
     "ename": "FileNotFoundError",
     "evalue": "[Errno 2] No such file or directory: 'APIkeys.json'",
     "output_type": "error",
     "traceback": [
      "\u001b[1;31m---------------------------------------------------------------------------\u001b[0m",
      "\u001b[1;31mFileNotFoundError\u001b[0m                         Traceback (most recent call last)",
      "\u001b[1;32m~\\AppData\\Local\\Temp/ipykernel_5524/3421342970.py\u001b[0m in \u001b[0;36m<module>\u001b[1;34m\u001b[0m\n\u001b[0;32m      1\u001b[0m \u001b[1;33m{\u001b[0m\u001b[1;34m\"key\"\u001b[0m\u001b[1;33m:\u001b[0m\u001b[1;34m'46747933'\u001b[0m\u001b[1;33m}\u001b[0m\u001b[1;33m\u001b[0m\u001b[1;33m\u001b[0m\u001b[0m\n\u001b[1;32m----> 2\u001b[1;33m \u001b[1;32mwith\u001b[0m \u001b[0mopen\u001b[0m\u001b[1;33m(\u001b[0m\u001b[1;34m'APIkeys.json'\u001b[0m\u001b[1;33m)\u001b[0m \u001b[1;32mas\u001b[0m \u001b[0mf\u001b[0m\u001b[1;33m:\u001b[0m\u001b[1;33m\u001b[0m\u001b[1;33m\u001b[0m\u001b[0m\n\u001b[0m\u001b[0;32m      3\u001b[0m     \u001b[0mkey\u001b[0m \u001b[1;33m=\u001b[0m \u001b[0mjson\u001b[0m\u001b[1;33m.\u001b[0m\u001b[0mload\u001b[0m\u001b[1;33m(\u001b[0m\u001b[0mf\u001b[0m\u001b[1;33m)\u001b[0m\u001b[1;33m\u001b[0m\u001b[1;33m\u001b[0m\u001b[0m\n\u001b[0;32m      4\u001b[0m     \u001b[0msecretapikey\u001b[0m \u001b[1;33m=\u001b[0m \u001b[0mkey\u001b[0m\u001b[1;33m[\u001b[0m\u001b[1;34m'46747933'\u001b[0m\u001b[1;33m]\u001b[0m\u001b[1;33m\u001b[0m\u001b[1;33m\u001b[0m\u001b[0m\n",
      "\u001b[1;31mFileNotFoundError\u001b[0m: [Errno 2] No such file or directory: 'APIkeys.json'"
     ]
    }
   ],
   "source": [
    "{\"key\":'46747933'}\n",
    "with open('APIkeys.json') as f:\n",
    "    key = json.load(f)\n",
    "    secretapikey = key['46747933']"
   ]
  },
  {
   "cell_type": "code",
   "execution_count": null,
   "id": "cbf81f1c",
   "metadata": {},
   "outputs": [],
   "source": [
    "with open('http://www.omdbapi.com/?i=tt3896198&apikey=46747933.json', 'r') as f:\n",
    "    keys = json.load(f)\n",
    "    omdbapi = keys['OMDBapi']\n",
    "    "
   ]
  },
  {
   "cell_type": "code",
   "execution_count": null,
   "id": "5ad85691",
   "metadata": {},
   "outputs": [],
   "source": [
    "serviceurl = 'http://www.omdbapi.com/?'\n",
    "apikey = '&apikey='+omdbapi"
   ]
  },
  {
   "cell_type": "code",
   "execution_count": null,
   "id": "648fc7b3",
   "metadata": {},
   "outputs": [],
   "source": []
  }
 ],
 "metadata": {
  "kernelspec": {
   "display_name": "Python 3 (ipykernel)",
   "language": "python",
   "name": "python3"
  },
  "language_info": {
   "codemirror_mode": {
    "name": "ipython",
    "version": 3
   },
   "file_extension": ".py",
   "mimetype": "text/x-python",
   "name": "python",
   "nbconvert_exporter": "python",
   "pygments_lexer": "ipython3",
   "version": "3.9.7"
  }
 },
 "nbformat": 4,
 "nbformat_minor": 5
}
