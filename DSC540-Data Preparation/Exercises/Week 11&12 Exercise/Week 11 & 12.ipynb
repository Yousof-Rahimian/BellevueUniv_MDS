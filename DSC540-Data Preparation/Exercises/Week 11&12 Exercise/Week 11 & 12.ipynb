{
 "cells": [
  {
   "cell_type": "code",
   "execution_count": 1,
   "id": "ac5ecaeb",
   "metadata": {},
   "outputs": [],
   "source": [
    "import sqlite3"
   ]
  },
  {
   "cell_type": "code",
   "execution_count": 2,
   "id": "f149e01c",
   "metadata": {},
   "outputs": [],
   "source": [
    "conn = sqlite3.connect('chapter.db')"
   ]
  },
  {
   "cell_type": "code",
   "execution_count": 3,
   "id": "1ef451f7",
   "metadata": {},
   "outputs": [],
   "source": [
    "conn.close()"
   ]
  },
  {
   "cell_type": "code",
   "execution_count": 4,
   "id": "2d99984a",
   "metadata": {},
   "outputs": [],
   "source": [
    "with sqlite3.connect(\"chapter.db\") as conn:\n",
    "    pass"
   ]
  },
  {
   "cell_type": "code",
   "execution_count": 5,
   "id": "af51766d",
   "metadata": {},
   "outputs": [
    {
     "ename": "OperationalError",
     "evalue": "table user has 6 columns but 5 values were supplied",
     "output_type": "error",
     "traceback": [
      "\u001b[1;31m---------------------------------------------------------------------------\u001b[0m",
      "\u001b[1;31mOperationalError\u001b[0m                          Traceback (most recent call last)",
      "\u001b[1;32m~\\AppData\\Local\\Temp/ipykernel_12460/2688186580.py\u001b[0m in \u001b[0;36m<module>\u001b[1;34m\u001b[0m\n\u001b[0;32m      2\u001b[0m     \u001b[0mcursor\u001b[0m \u001b[1;33m=\u001b[0m \u001b[0mconn\u001b[0m\u001b[1;33m.\u001b[0m\u001b[0mcursor\u001b[0m\u001b[1;33m(\u001b[0m\u001b[1;33m)\u001b[0m\u001b[1;33m\u001b[0m\u001b[1;33m\u001b[0m\u001b[0m\n\u001b[0;32m      3\u001b[0m     \u001b[0mcursor\u001b[0m\u001b[1;33m.\u001b[0m\u001b[0mexecute\u001b[0m\u001b[1;33m(\u001b[0m\u001b[1;34m\"CREATE TABLE IF NOT EXISTS user (email text, first_name text, last_name text, address text, age integer, PRIMARY KEY (email))\"\u001b[0m\u001b[1;33m)\u001b[0m\u001b[1;33m\u001b[0m\u001b[1;33m\u001b[0m\u001b[0m\n\u001b[1;32m----> 4\u001b[1;33m     \u001b[0mcursor\u001b[0m\u001b[1;33m.\u001b[0m\u001b[0mexecute\u001b[0m\u001b[1;33m(\u001b[0m\u001b[1;34m\"INSERT INTO user VALUES ('bob@example.com', 'Bob', 'Codd', '123 Fantasy lane, Fantasu City', 31)\"\u001b[0m\u001b[1;33m)\u001b[0m\u001b[1;33m\u001b[0m\u001b[1;33m\u001b[0m\u001b[0m\n\u001b[0m\u001b[0;32m      5\u001b[0m     \u001b[0mcursor\u001b[0m\u001b[1;33m.\u001b[0m\u001b[0mexecute\u001b[0m\u001b[1;33m(\u001b[0m\u001b[1;34m\"INSERT INTO user VALUES ('tom@web.com', 'Tom', 'Fake', '123 Fantasy lane, Fantasu City', 39)\"\u001b[0m\u001b[1;33m)\u001b[0m\u001b[1;33m\u001b[0m\u001b[1;33m\u001b[0m\u001b[0m\n\u001b[0;32m      6\u001b[0m     \u001b[0mconn\u001b[0m\u001b[1;33m.\u001b[0m\u001b[0mcommit\u001b[0m\u001b[1;33m(\u001b[0m\u001b[1;33m)\u001b[0m\u001b[1;33m\u001b[0m\u001b[1;33m\u001b[0m\u001b[0m\n",
      "\u001b[1;31mOperationalError\u001b[0m: table user has 6 columns but 5 values were supplied"
     ]
    }
   ],
   "source": [
    "with sqlite3.connect(\"lesson.db\") as conn:\n",
    "    cursor = conn.cursor()\n",
    "    cursor.execute(\"CREATE TABLE IF NOT EXISTS user (email text, first_name text, last_name text, address text, age integer, PRIMARY KEY (email))\")\n",
    "    cursor.execute(\"INSERT INTO user VALUES ('bob@example.com', 'Bob', 'Codd', '123 Fantasy lane, Fantasu City', 31)\")\n",
    "    cursor.execute(\"INSERT INTO user VALUES ('tom@web.com', 'Tom', 'Fake', '123 Fantasy lane, Fantasu City', 39)\")\n",
    "    conn.commit()\n",
    "    "
   ]
  },
  {
   "cell_type": "code",
   "execution_count": null,
   "id": "52ed238d",
   "metadata": {},
   "outputs": [],
   "source": [
    "with sqlite3.connect(\"lesson.db\") as conn:\n",
    "    cursor = conn.cursor()\n",
    "    rows = cursor.execute('SELECT * FROM user')\n",
    "    for row in rows:\n",
    "        print(row)"
   ]
  },
  {
   "cell_type": "code",
   "execution_count": null,
   "id": "15622f1f",
   "metadata": {},
   "outputs": [],
   "source": [
    "with sqlite3.connect(\"lesson.db\") as conn:\n",
    "    cursor = conn.cursor()\n",
    "    cursor.execute(\"ALTER TABLE user ADD COLUMN gender text\")\n",
    "    cursor.execute(\"UPDATE user SET gender='M'\")\n",
    "    conn.commit()"
   ]
  },
  {
   "cell_type": "code",
   "execution_count": null,
   "id": "5f6a4310",
   "metadata": {},
   "outputs": [],
   "source": [
    "with sqlite3.connect(\"lesson.db\") as conn:\n",
    "    cursor = conn.cursor()\n",
    "    cursor.execute(\"INSERT INTO user VALUES ('shelly@www.com', 'Shelly', 'Milar', '123, Ocean View Lane', 39, 'F')\")\n",
    "    conn.commit()"
   ]
  },
  {
   "cell_type": "code",
   "execution_count": null,
   "id": "c0dc7a94",
   "metadata": {},
   "outputs": [],
   "source": [
    "with sqlite3.connect(\"lesson.db\") as conn:\n",
    "    cursor = conn.cursor()\n",
    "    rows = cursor.execute(\"SELECT COUNT(*), gender FROM user GROUP BY gender\")\n",
    "    for row in rows:\n",
    "        print(row)"
   ]
  },
  {
   "cell_type": "code",
   "execution_count": null,
   "id": "f2b930da",
   "metadata": {},
   "outputs": [],
   "source": [
    "with sqlite3.connect(\"lesson.db\") as conn:\n",
    "    cursor = conn.cursor()\n",
    "    cursor.execute(\"PRAGMA foreign_keys = 1\")\n",
    "    sql = \"\"\"\n",
    "        CREATE TABLE comments (\n",
    "            user_id text,\n",
    "            comments text,\n",
    "            FOREIGN KEY (user_id) REFERENCES user (email) \n",
    "            ON DELETE CASCADE ON UPDATE NO ACTION\n",
    "        )\n",
    "    \"\"\"\n",
    "    cursor.execute(sql)\n",
    "    conn.commit()"
   ]
  },
  {
   "cell_type": "code",
   "execution_count": null,
   "id": "540a52c1",
   "metadata": {},
   "outputs": [],
   "source": [
    "with sqlite3.connect(\"lesson.db\") as conn:\n",
    "    cursor = conn.cursor()\n",
    "    cursor.execute(\"PRAGMA foreign_keys = 1\")\n",
    "    sql = \"INSERT INTO comments VALUES ('{}', '{}')\"\n",
    "    rows = cursor.execute('SELECT * FROM user ORDER BY age')\n",
    "    for row in rows:\n",
    "        email = row[0]\n",
    "        print(\"Going to create rows for {}\".format(email))\n",
    "        name = row[1] + \" \" + row[2]\n",
    "        for i in range(10):\n",
    "            comment = \"This is comment {} by {}\".format(i, name)\n",
    "            conn.cursor().execute(sql.format(email, comment))\n",
    "    conn.commit()"
   ]
  },
  {
   "cell_type": "code",
   "execution_count": null,
   "id": "5fad4adc",
   "metadata": {},
   "outputs": [],
   "source": []
  }
 ],
 "metadata": {
  "kernelspec": {
   "display_name": "Python 3 (ipykernel)",
   "language": "python",
   "name": "python3"
  },
  "language_info": {
   "codemirror_mode": {
    "name": "ipython",
    "version": 3
   },
   "file_extension": ".py",
   "mimetype": "text/x-python",
   "name": "python",
   "nbconvert_exporter": "python",
   "pygments_lexer": "ipython3",
   "version": "3.9.7"
  }
 },
 "nbformat": 4,
 "nbformat_minor": 5
}
